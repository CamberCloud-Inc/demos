{
  "cells": [
    {
      "cell_type": "markdown",
      "metadata": {},
      "source": [
        "\n",
        "This notebook demostrates how to run a simple MPI job on Camber.\n",
        "\n",
        "1. Use `make` to build a \"Hello, world!\" C program.\n",
        "2. Run the program over MPI.\n",
        "\n",
        "First, `import camber`. This instantiates a set of tools to run different types of workloads on Camber Cloud.\n",
        "\n"
      ]
    },
    {
      "cell_type": "code",
      "execution_count": null,
      "metadata": {
        "tags": []
      },
      "outputs": [],
      "source": [
        "import camber"
      ]
    },
    {
      "cell_type": "markdown",
      "metadata": {},
      "source": [
        "\n",
        "\n",
        "The `create_job` function creates a process on Camber infrastructure.\n",
        "This function takes at a minimum a `command` and `engine_size` as arguments. To compile the C program in the cloud, pass `command=\"make\"` and `engine_size=\"XXSMALL\"`.\n",
        "\n",
        "\n",
        "The [`engine_size`](https://docs.cambercloud.com/docs/reference/engine-attributes/)  specifies the amount of computational power to allocate to the job. Each step up in engine size doubles the allocated compute capacity.\n"
      ]
    },
    {
      "cell_type": "code",
      "execution_count": null,
      "metadata": {
        "tags": []
      },
      "outputs": [],
      "source": [
        "make = camber.mpi.create_job(\n",
        "    command=\"make\",\n",
        "    engine_size=\"XXSMALL\"\n",
        ")"
      ]
    },
    {
      "cell_type": "markdown",
      "metadata": {},
      "source": [
        "\n",
        "To check the status of the make job, call on its [`status`](https://docs.cambercloud.com/docs/reference/python-api/job#status) attribute. When the job finishes, job status will be `COMPLETED`."
      ]
    },
    {
      "cell_type": "code",
      "execution_count": null,
      "metadata": {
        "tags": []
      },
      "outputs": [
        {
          "data": {
            "text/plain": [
              "'COMPLETED'"
            ]
          },
          "execution_count": null,
          "metadata": {},
          "output_type": "execute_result"
        }
      ],
      "source": [
        "make.status"
      ]
    },
    {
      "cell_type": "markdown",
      "metadata": {},
      "source": [
        "\n",
        "When the make job is finished, a binary named `mpi_hello_world` is created in the same directory. This is a compiled C program that prints `Hello world` from each process.\n",
        "\n",
        "Run it with MPI with 4 cores and 4 MPI processes:"
      ]
    },
    {
      "cell_type": "code",
      "execution_count": null,
      "metadata": {
        "tags": []
      },
      "outputs": [],
      "source": [
        "run = camber.mpi.create_job(\n",
        "    command=\"mpirun -np 4 mpi_hello_world\",\n",
        "    engine_size=\"XXSMALL\"\n",
        ")"
      ]
    },
    {
      "cell_type": "markdown",
      "metadata": {},
      "source": [
        "\n",
        "Again, check the status of the `run` job with `run.status`. When the job finishes, the status returns `COMPLETED`."
      ]
    },
    {
      "cell_type": "code",
      "execution_count": null,
      "metadata": {
        "tags": []
      },
      "outputs": [
        {
          "data": {
            "text/plain": [
              "'COMPLETED'"
            ]
          },
          "execution_count": null,
          "metadata": {},
          "output_type": "execute_result"
        }
      ],
      "source": [
        "run.status"
      ]
    },
    {
      "cell_type": "markdown",
      "metadata": {},
      "source": [
        "\n",
        "In fact, you can read the logs of any job with [`read_logs`](https://docs.cambercloud.com/docs/reference/python-api/job#read_logs), which prints the logs of the job to the console:"
      ]
    },
    {
      "cell_type": "code",
      "execution_count": null,
      "metadata": {
        "tags": []
      },
      "outputs": [],
      "source": [
        "run.read_logs()"
      ]
    },
    {
      "cell_type": "markdown",
      "metadata": {},
      "source": [
        "\n",
        "The log should look something like this:\n",
        "```\n",
        "Hello world from processor mpi-master-c6df7-adfie, rank 0 out of 4 processors\n",
        "Hello world from processor mpi-master-c6df7-adfie, rank 1 out of 4 processors\n",
        "Hello world from processor mpi-master-c6df7-adfie, rank 2 out of 4 processors\n",
        "Hello world from processor mpi-master-c6df7-adfie, rank 3 out of 4 processors\n",
        "```"
      ]
    },
    {
      "cell_type": "markdown",
      "metadata": {},
      "source": [
        "\n",
        "Congratulations! You've just run your first MPI job on Camber Cloud!"
      ]
    }
  ],
  "metadata": {
    "kernelspec": {
      "display_name": "PyCamber",
      "language": "python",
      "name": "python3"
    },
    "language_info": {
      "codemirror_mode": {
        "name": "ipython",
        "version": 3
      },
      "file_extension": ".py",
      "mimetype": "text/x-python",
      "name": "python",
      "nbconvert_exporter": "python",
      "pygments_lexer": "ipython3",
      "version": "3.10.10"
    }
  },
  "nbformat": 4,
  "nbformat_minor": 4
}

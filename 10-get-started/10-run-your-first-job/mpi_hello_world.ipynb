{
 "cells": [
  {
   "cell_type": "markdown",
   "metadata": {},
   "source": [
    "# Hello World MPI\n",
    "\n",
    "This notebook demostrates how to run a simple MPI job on Camber.\n",
    "We will create two jobs:\n",
    "1. `make` - a job that builds a simple C program.\n",
    "2. `run` - a job that runs said C program over MPI."
   ]
  },
  {
   "cell_type": "markdown",
   "metadata": {},
   "source": [
    "First, `import camber`. This instantiates a set of tools that allows you to run different types of workloads on Camber Cloud."
   ]
  },
  {
   "cell_type": "code",
   "execution_count": null,
   "metadata": {},
   "outputs": [],
   "source": [
    "import camber"
   ]
  },
  {
   "cell_type": "markdown",
   "metadata": {},
   "source": [
    "The main workhorse function is `create_job`, which creates a finite process on Camber's infrastructure. This function takes at a minimum a `command` and an `engine_size` as arguments. To compile the C program in the cloud, pass `command=\"make\"` and `engine_size=\"XSMALL\"` to `create_job`.\n",
    "\n",
    "N.B. `engine_size` specifies the amount of computational power to allocate to the job. Each step up in engine size will double the allocated compute capacity."
   ]
  },
  {
   "cell_type": "code",
   "execution_count": null,
   "metadata": {},
   "outputs": [],
   "source": [
    "make = camber.mpi.create_job(\n",
    "    command=\"make\",\n",
    "    engine_size=\"XSMALL\"\n",
    ")"
   ]
  },
  {
   "cell_type": "markdown",
   "metadata": {},
   "source": [
    "To check the status of the make job, run `make.status`. When the job is finished, you should see `make.status` return `COMPLETED`."
   ]
  },
  {
   "cell_type": "code",
   "execution_count": null,
   "metadata": {},
   "outputs": [],
   "source": [
    "make.status"
   ]
  },
  {
   "cell_type": "markdown",
   "metadata": {},
   "source": [
    "When the make job is finished, a binary named `mpi_hello_world` will be created in the same directory. It is a compiled C program that prints \"Hello World\" from each process. Let's run it with MPI over 4 cores/processes."
   ]
  },
  {
   "cell_type": "code",
   "execution_count": null,
   "metadata": {},
   "outputs": [],
   "source": [
    "run = camber.mpi.create_job(\n",
    "    command=\"mpirun -np 4 mpi_hello_world\",\n",
    "    engine_size=\"XSMALL\"\n",
    ")"
   ]
  },
  {
   "cell_type": "markdown",
   "metadata": {},
   "source": [
    "Again, check the status of the run job with `run.status`. When the job is finished, you should see `run.status` return `COMPLETED`."
   ]
  },
  {
   "cell_type": "code",
   "execution_count": null,
   "metadata": {},
   "outputs": [],
   "source": [
    "run.status"
   ]
  },
  {
   "cell_type": "markdown",
   "metadata": {},
   "source": [
    "In fact, you can read the logs of any job with the `read_logs()` method, which prints the logs of the job to the console."
   ]
  },
  {
   "cell_type": "code",
   "execution_count": null,
   "metadata": {},
   "outputs": [],
   "source": [
    "run.read_logs()"
   ]
  },
  {
   "cell_type": "markdown",
   "metadata": {},
   "source": [
    "The log should look somethinglike this:\n",
    "```\n",
    "Hello world from processor mpi-master-c6df7-adfie, rank 0 out of 4 processors\n",
    "Hello world from processor mpi-master-c6df7-adfie, rank 1 out of 4 processors\n",
    "Hello world from processor mpi-master-c6df7-adfie, rank 2 out of 4 processors\n",
    "Hello world from processor mpi-master-c6df7-adfie, rank 3 out of 4 processors\n",
    "```"
   ]
  },
  {
   "cell_type": "markdown",
   "metadata": {},
   "source": [
    "Congratulations! You've just run your first MPI job on Camber Cloud!"
   ]
  }
 ],
 "metadata": {
  "language_info": {
   "name": "python"
  }
 },
 "nbformat": 4,
 "nbformat_minor": 2
}

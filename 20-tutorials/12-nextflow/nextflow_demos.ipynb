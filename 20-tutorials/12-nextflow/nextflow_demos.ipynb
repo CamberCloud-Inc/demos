{
 "cells": [
  {
   "cell_type": "markdown",
   "metadata": {},
   "source": [
    "This tutorial demonstrates that [`Nextflow Engine`](https://docs.cambercloud.com/docs/reference/python-api/nextflow/) can handle workflows in [nf-core pipelines](https://nf-co.re/). The following pipelines are shown in this demo:\n",
    "- [nf-core/methylseq](https://nf-co.re/methylseq/3.0.0/)\n",
    "- [nf-core/rnaseq](https://nf-co.re/rnaseq/3.14.0/)\n",
    "- [nf-core/sarek](https://nf-co.re/sarek/3.5.1/)\n",
    "- [nf-core/mag](https://nf-co.re/mag/latest/)"
   ]
  },
  {
   "cell_type": "markdown",
   "metadata": {},
   "source": [
    "The first step is to import the nextflow package:"
   ]
  },
  {
   "cell_type": "code",
   "execution_count": 1,
   "metadata": {},
   "outputs": [],
   "source": [
    "from camber import nextflow"
   ]
  },
  {
   "cell_type": "markdown",
   "metadata": {},
   "source": [
    "\n",
    "## Run `nf-core/methylseq` pipeline\n",
    "\n",
    "To execute this pipeline, the user must specify the pipeline using `pipeline` argument and configure execution engine by `engine_size` and `num_engines`. For [pipeline paramters](https://nf-co.re/methylseq/3.0.0/parameters/), they should be placed in `params` argument. Otherwise:\n",
    "- `--input` should be the relative path to the current notebook, and paths of `fastp` files in the input file content are also.\n",
    "- `--outdir` should be `/camber_outputs`, then output data will appear in the private stash `jobs/<job_id>/outputs`.\n",
    "\n",
    "Here's an example of how to run the job:\n",
    "- `pipeline=\"nf-core/methylseq\"`: specify pipeline to run.\n",
    "- `engine_size=\"XSMALL\"`: indicate [engine size](https://docs.cambercloud.com/docs/engines-pricing/#cpu-engine-sizes) to perform the job.\n",
    "- `num_engines=4`: indicate number of engines.\n",
    "- `\"--input\": \"./data/methylseq/samplesheet.csv\"`: the relative path of `samplesheet.csv` file to the current notebook.\n",
    "- `\"--outdir\": \"/camber_outputs\"`: the location stores output data of the job."
   ]
  },
  {
   "cell_type": "code",
   "execution_count": 5,
   "metadata": {},
   "outputs": [],
   "source": [
    "nf_methylseq_job = nextflow.create_job(\n",
    "    pipeline=\"nf-core/methylseq\",\n",
    "    engine_size=\"XSMALL\",\n",
    "    num_engines=4,\n",
    "    params={\n",
    "        \"-r\": \"3.0.0\",\n",
    "        \"--genome\": \"GRCh37\",\n",
    "        \"--input\": \"./data/methylseq/samplesheet.csv\",\n",
    "        \"--outdir\": \"/camber_outputs\"\n",
    "    },\n",
    ")"
   ]
  },
  {
   "cell_type": "markdown",
   "metadata": {},
   "source": [
    "\n",
    "This step is to check [job status](https://docs.cambercloud.com/docs/reference/job-attributes/#status):"
   ]
  },
  {
   "cell_type": "code",
   "execution_count": null,
   "metadata": {},
   "outputs": [],
   "source": [
    "nf_methylseq_job.status"
   ]
  },
  {
   "cell_type": "markdown",
   "metadata": {},
   "source": [
    "\n",
    "To monitor job exectution, you can show job logs in real-time by `read_logs` method:"
   ]
  },
  {
   "cell_type": "code",
   "execution_count": 7,
   "metadata": {},
   "outputs": [],
   "source": [
    "nf_methylseq_job.read_logs()"
   ]
  },
  {
   "cell_type": "markdown",
   "metadata": {},
   "source": [
    "When the job finished, you can discover job results and job logs by two ways:\n",
    "\n",
    "- Browser data directly in notebook enviroment:\n",
    "<p style=\"text-align:left;\"><img src=\"./images/notebook_nf_methylseq_outputs.png\" alt=\"problem\" width=\"50%\" /></p>\n",
    "\n",
    "- Or go to the Stash UI:\n",
    "<p style=\"text-align:left;\"><img src=\"./images/stash_ui_nf_methylseq_outputs.png\" alt=\"problem\" width=\"100%\" /></p>"
   ]
  },
  {
   "cell_type": "markdown",
   "metadata": {},
   "source": [
    "\n",
    "## Run `nf-core/rnaseq` pipeline\n",
    "To configure pipeline paramters properly, please refer [link](https://nf-co.re/rnaseq/3.14.0/parameters/).<br>\n",
    "Use the following command to launch the pipeline:\n"
   ]
  },
  {
   "cell_type": "code",
   "execution_count": 8,
   "metadata": {},
   "outputs": [],
   "source": [
    "nf_rnaseq_job = nextflow.create_job(\n",
    "    pipeline=\"nf-core/rnaseq\",\n",
    "    engine_size=\"XSMALL\",\n",
    "    num_engines=4,\n",
    "    params={\n",
    "        \"--genome\": \"GRCh37\",\n",
    "        \"--input\": \"./data/rnaseq/samplesheet.csv\",\n",
    "        \"--outdir\": \"/camber_outputs\"\n",
    "    },\n",
    ")"
   ]
  },
  {
   "cell_type": "markdown",
   "metadata": {},
   "source": [
    "\n",
    "This step is to check [job status](https://docs.cambercloud.com/docs/reference/job-attributes/#status):"
   ]
  },
  {
   "cell_type": "code",
   "execution_count": null,
   "metadata": {},
   "outputs": [],
   "source": [
    "nf_rnaseq_job.status"
   ]
  },
  {
   "cell_type": "markdown",
   "metadata": {},
   "source": [
    "\n",
    "View job logs online:"
   ]
  },
  {
   "cell_type": "code",
   "execution_count": null,
   "metadata": {},
   "outputs": [],
   "source": [
    "nf_rnaseq_job.read_logs()"
   ]
  },
  {
   "cell_type": "markdown",
   "metadata": {},
   "source": [
    "\n",
    "When the job is done, you can discover and download the results and logs in your private stash or notebook environment, which are similar to `nf-core/methylseq`.\n",
    "<p style=\"text-align:left;\"><img src=\"./images/stash_ui_rnaseq_outputs.png\" alt=\"problem\" width=\"100%\" /></p>"
   ]
  },
  {
   "cell_type": "markdown",
   "metadata": {},
   "source": [
    "\n",
    "## Run `nf-core/sarek` pipeline\n",
    "To configure pipeline paramters properly, please refer [link](https://nf-co.re/sarek/3.5.1/parameters/).<br>\n",
    "Use the following command to launch the pipeline:\n"
   ]
  },
  {
   "cell_type": "code",
   "execution_count": null,
   "metadata": {},
   "outputs": [],
   "source": [
    "nf_sarek_job = nextflow.create_job(\n",
    "    pipeline=\"nf-core/sarek\",\n",
    "    engine_size=\"XSMALL\",\n",
    "    num_engines=4,\n",
    "    params={\n",
    "        \"-r\": \"3.5.1\",\n",
    "        \"--input\": \"./data/sarek/samplesheet.csv\",\n",
    "        \"--outdir\": \"/camber_outputs\"\n",
    "    },\n",
    ")"
   ]
  },
  {
   "cell_type": "markdown",
   "metadata": {},
   "source": [
    "\n",
    "This step is to check [job status](https://docs.cambercloud.com/docs/reference/job-attributes/#status):"
   ]
  },
  {
   "cell_type": "code",
   "execution_count": null,
   "metadata": {},
   "outputs": [],
   "source": [
    "nf_sarek_job.status"
   ]
  },
  {
   "cell_type": "markdown",
   "metadata": {},
   "source": [
    "\n",
    "View job logs online:"
   ]
  },
  {
   "cell_type": "code",
   "execution_count": null,
   "metadata": {},
   "outputs": [],
   "source": [
    "nf_sarek_job.read_logs()"
   ]
  },
  {
   "cell_type": "markdown",
   "metadata": {},
   "source": [
    "\n",
    "When the job is done, you can discover and download the results and logs in your private stash or notebook environment, which are similar to `nf-core/methylseq`.\n",
    "<p style=\"text-align:left;\"><img src=\"./images/stash_ui_sarek_outputs.png\" alt=\"problem\" width=\"100%\" /></p>"
   ]
  },
  {
   "cell_type": "markdown",
   "metadata": {},
   "source": [
    "\n",
    "## Run `nf-core/mag` pipeline\n",
    "To configure pipeline paramters properly, please refer [link](https://nf-co.re/mag/3.4.0/parameters/).<br>\n",
    "Use the following command to launch the pipeline:\n"
   ]
  },
  {
   "cell_type": "code",
   "execution_count": null,
   "metadata": {},
   "outputs": [],
   "source": [
    "nf_mag_job = nextflow.create_job(\n",
    "    pipeline=\"nf-core/mag\",\n",
    "    engine_size=\"XSMALL\",\n",
    "    num_engines=4,\n",
    "    params={\n",
    "        \"-r\": \"3.4.0\",\n",
    "        \"--input\": \"./data/mag/samplesheet.csv\",\n",
    "        \"--outdir\": \"/camber_outputs\"\n",
    "    },\n",
    ")"
   ]
  },
  {
   "cell_type": "markdown",
   "metadata": {},
   "source": [
    "\n",
    "This step is to check [job status](https://docs.cambercloud.com/docs/reference/job-attributes/#status):"
   ]
  },
  {
   "cell_type": "code",
   "execution_count": null,
   "metadata": {},
   "outputs": [],
   "source": [
    "nf_mag_job.status"
   ]
  },
  {
   "cell_type": "markdown",
   "metadata": {},
   "source": [
    "\n",
    "View job logs online:"
   ]
  },
  {
   "cell_type": "code",
   "execution_count": null,
   "metadata": {},
   "outputs": [],
   "source": [
    "nf_mag_job.read_logs()"
   ]
  },
  {
   "cell_type": "markdown",
   "metadata": {},
   "source": [
    "\n",
    "When the job is done, you can discover and download the results and logs in your private stash or notebook environment, which are similar to `nf-core/methylseq`.\n",
    "<p style=\"text-align:left;\"><img src=\"./images/stash_ui_nf_mag_outputs.png\" alt=\"problem\" width=\"100%\" /></p>\n"
   ]
  }
 ],
 "metadata": {
  "kernelspec": {
   "display_name": "CamberPy",
   "language": "python",
   "name": "python3"
  },
  "language_info": {
   "codemirror_mode": {
    "name": "ipython",
    "version": 3
   },
   "file_extension": ".py",
   "mimetype": "text/x-python",
   "name": "python",
   "nbconvert_exporter": "python",
   "pygments_lexer": "ipython3",
   "version": "3.12.7"
  }
 },
 "nbformat": 4,
 "nbformat_minor": 4
}

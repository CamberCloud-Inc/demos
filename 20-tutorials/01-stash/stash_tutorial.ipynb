{
  "cells": [
    {
      "cell_type": "markdown",
      "id": "e41867c6-1e0f-41bf-b96d-81d5f4d77bce",
      "metadata": {},
      "source": [
        "\n",
        "The Camber [`stash`](https://docs.cambercloud.com/docs/reference/python-api/stash/) package offers an interface to pass your data, code, and analysis between your personal and Camber's public cloud storage.\n",
        "\n",
        "There are two types of stashes:\n",
        "- `private`: your personal cloud storage, which also mirrors your notebook's local filesystem.\n",
        "- `public`: a read-only cloud storage that all Camber users have access to, also known as the \"Open Stash\"\n",
        "\n",
        "Each Stash inits with a given current working directory:\n",
        "- `private`: this is equivalent to the $HOME of your Jupyter notebook environment, or `/home/{username}`\n",
        "- `public`: this is just the cloud storage location used by Camber to provision things like datasets\n",
        "\n",
        "In this tutorial, follow along to learn how use stash to:\n",
        "1. view files and directories in your stash.\n",
        "1. transfer data from open to private stashes."
      ]
    },
    {
      "cell_type": "markdown",
      "id": "cf5cde82-2927-4801-aad2-83f16ace9e09",
      "metadata": {},
      "source": [
        "\n",
        "## View files and directories\n",
        "\n",
        "First, import Camber and assign variables to your stashes."
      ]
    },
    {
      "cell_type": "code",
      "execution_count": null,
      "id": "a57252e3-4330-4566-86aa-177a3ef949a4",
      "metadata": {
        "tags": []
      },
      "outputs": [],
      "source": [
        "import camber\n",
        "prv_stash = camber.stash.private\n",
        "pub_stash = camber.stash.public"
      ]
    },
    {
      "cell_type": "markdown",
      "id": "fb492c91-0b86-4a2c-8525-676a4ae10c8b",
      "metadata": {},
      "source": [
        "\n",
        "Inspect the home directories of your stashes with the [`ls`](https://docs.cambercloud.com/docs/reference/python-api/stash#ls) method:"
      ]
    },
    {
      "cell_type": "code",
      "execution_count": null,
      "id": "9a1a7407-82b5-4d97-a276-83f5c9e78a6f",
      "metadata": {
        "tags": []
      },
      "outputs": [
        {
          "name": "stdout",
          "output_type": "stream",
          "text": [
            "private stash data: ['demos/']\n",
            "public stash data: ['datasets/']\n"
          ]
        }
      ],
      "source": [
        "print(\"private stash data:\", prv_stash.ls(\"~\"))\n",
        "print(\"public stash data:\", pub_stash.ls(\"~\"))"
      ]
    },
    {
      "cell_type": "markdown",
      "id": "c562cf5a-f000-4f78-93d0-5cf5ec128d34",
      "metadata": {},
      "source": [
        "\n",
        "Note that `demos/` is included in the results of your private stash `ls`.\n",
        "This is the aforementioned private stash mirror at play.\n",
        "You are welcome to use shell to manipulate files in your Jupyter notebook filesystem, however, using `Stash` will allow you to interface with other cloud storage more efficiently, as we see below. \n",
        "\n",
        "## Copy from open to private stashes\n",
        "\n",
        "The `datasets` directory in the public stash holds datasets that are managed by Camber.\n",
        "Use  `ls` to list the files in the open stash `tutorials/` dataset:"
      ]
    },
    {
      "cell_type": "code",
      "execution_count": null,
      "id": "2d569863-4823-498b-9968-62e0e33e7bb2",
      "metadata": {
        "tags": []
      },
      "outputs": [
        {
          "data": {
            "text/plain": [
              "['cereal.csv', 'titanic.csv']"
            ]
          },
          "execution_count": null,
          "metadata": {},
          "output_type": "execute_result"
        }
      ],
      "source": [
        "pub_stash.ls(\"~/datasets/tutorial\")"
      ]
    },
    {
      "cell_type": "markdown",
      "id": "81e9cc5a-6671-4958-8b56-3c3ec5861276",
      "metadata": {},
      "source": [
        "\n",
        "\n",
        "Public stash is read-only. To manipulate an open dataset, you need to copy it to your private stash.\n",
        "Before doing that, though, make a file in your Jupyter space called `stash-tutorial`.\n",
        "This is to help keep your private stash organized.\n",
        "\n"
      ]
    },
    {
      "cell_type": "code",
      "execution_count": null,
      "id": "bdf724a5-ec16-4a8d-9a0e-99db34086efa",
      "metadata": {
        "tags": []
      },
      "outputs": [],
      "source": [
        "!mkdir -p ~/demos/20-tutorials/01-stash/stash-tutorial"
      ]
    },
    {
      "cell_type": "markdown",
      "id": "30dd5177-e362-4210-861d-975a26fb81dc",
      "metadata": {},
      "source": [
        "\n",
        "Now use the [`cp`](https://docs.cambercloud.com/docs/reference/python-api/stash#cp) method to copy the [cereal dataset](https://www.kaggle.com/datasets/crawford/80-cereals) from the open stash to the `stash-tutorial/` directory in your private stash:"
      ]
    },
    {
      "cell_type": "code",
      "execution_count": null,
      "id": "3581c79b-7ff3-4fa5-9f97-eed5c0805a46",
      "metadata": {
        "tags": []
      },
      "outputs": [],
      "source": [
        "pub_stash.cp(\n",
        "    dest_stash=prv_stash,\n",
        "    src_path=\"~/datasets/tutorial/cereal.csv\",\n",
        "    dest_path=\"~/demos/20-tutorials/01-stash/stash-tutorial/cereal.csv\",\n",
        ")"
      ]
    },
    {
      "cell_type": "markdown",
      "id": "d104da4c-7c91-4683-ab69-5100fb657ee6",
      "metadata": {},
      "source": [
        "\n",
        "Confirm that it's in your private stash:\n"
      ]
    },
    {
      "cell_type": "code",
      "execution_count": null,
      "id": "f9e257e7-37a9-4166-98fa-62ca3c5d1b4c",
      "metadata": {
        "tags": []
      },
      "outputs": [
        {
          "data": {
            "text/plain": [
              "['cereal.csv']"
            ]
          },
          "execution_count": null,
          "metadata": {},
          "output_type": "execute_result"
        }
      ],
      "source": [
        "prv_stash.ls(\"demos/20-tutorials/01-stash/stash-tutorial\")"
      ]
    }
  ],
  "metadata": {
    "kernelspec": {
      "display_name": "PyCamber",
      "language": "python",
      "name": "python3"
    },
    "language_info": {
      "codemirror_mode": {
        "name": "ipython",
        "version": 3
      },
      "file_extension": ".py",
      "mimetype": "text/x-python",
      "name": "python",
      "nbconvert_exporter": "python",
      "pygments_lexer": "ipython3",
      "version": "3.10.10"
    }
  },
  "nbformat": 4,
  "nbformat_minor": 5
}

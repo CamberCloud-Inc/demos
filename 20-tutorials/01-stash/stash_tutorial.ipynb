{
 "cells": [
  {
   "cell_type": "markdown",
   "id": "e41867c6-1e0f-41bf-b96d-81d5f4d77bce",
   "metadata": {},
   "source": [
    "The goal of scientific research is to advance the broader collection of knowledge about a topic.\n",
    "But the path to socialize this research is full of messy, private detours.\n",
    "\n",
    "The Camber [`stash`](/docs/python-api/stash) package offers an interface to pass your data, code, and analysis between private, team, and open files.\n",
    "In this tutorial, follow along to learn how use stash to:\n",
    "1. View your stashes.\n",
    "1. Transfer data from open to private stashes.\n",
    "1. Transfer data from the private to the open stash.\n"
   ]
  },
  {
   "cell_type": "markdown",
   "id": "cf5cde82-2927-4801-aad2-83f16ace9e09",
   "metadata": {},
   "source": [
    "## View Stashes\n",
    "\n",
    "First, import Camber and create variables for your stashes.\n"
   ]
  },
  {
   "cell_type": "code",
   "execution_count": 1,
   "id": "a57252e3-4330-4566-86aa-177a3ef949a4",
   "metadata": {
    "tags": []
   },
   "outputs": [],
   "source": [
    "import camber\n",
    "private = camber.stash.private_stash\n",
    "team = camber.stash.team_stash[\"<MY_TEAM_NAME>\"]\n",
    "open = camber.stash.open_stash"
   ]
  },
  {
   "cell_type": "markdown",
   "id": "fb492c91-0b86-4a2c-8525-676a4ae10c8b",
   "metadata": {},
   "source": [
    "Note that you can belong to multiple teams, so you must specify the specific team stash you want to work with.\n",
    "\n",
    "The team and open stashes have datasets.\n",
    "Inspect them with the [`ls()`](/docs/python-api/stash/#ls) method:"
   ]
  },
  {
   "cell_type": "code",
   "execution_count": 2,
   "id": "9a1a7407-82b5-4d97-a276-83f5c9e78a6f",
   "metadata": {
    "tags": []
   },
   "outputs": [
    {
     "name": "stdout",
     "output_type": "stream",
     "text": [
      "team stash data: ['calories/', 'kaggle/'] \n",
      " open stash data: ['beginners/', 'esoreflex/', 'gaia/']\n"
     ]
    }
   ],
   "source": [
    "print(\"team stash data:\", team.ls(\"datasets\"),\"\\n\",\n",
    "      \"open stash data:\", open.ls(\"datasets\"))"
   ]
  },
  {
   "cell_type": "markdown",
   "id": "c562cf5a-f000-4f78-93d0-5cf5ec128d34",
   "metadata": {},
   "source": [
    "Now that you can list the contents of these stashes, it's time to share data between them.\n",
    "\n",
    "## Copy from open to private stashes\n",
    "\n",
    "Use  `ls()` to list the files in the open stash `beginners/` dataset:"
   ]
  },
  {
   "cell_type": "code",
   "execution_count": 19,
   "id": "2d569863-4823-498b-9968-62e0e33e7bb2",
   "metadata": {
    "tags": []
   },
   "outputs": [
    {
     "data": {
      "text/plain": [
       "['cereal.csv', 'titanic.csv']"
      ]
     },
     "execution_count": 19,
     "metadata": {},
     "output_type": "execute_result"
    }
   ],
   "source": [
    "open.ls(\"datasets/beginners\")"
   ]
  },
  {
   "cell_type": "markdown",
   "id": "30dd5177-e362-4210-861d-975a26fb81dc",
   "metadata": {},
   "source": [
    "\n",
    "\n",
    "Open stashes are read-only. To manipulate an open dataset, you need to copy it to your private stash.\n",
    "Before doing that, though, make a file in your Jupyter space called `stash-tutorial`.\n",
    "This is to help keep your private stash organized.\n",
    "\n",
    "Now use the [`cp()`](/docs/python-api/stash/#cp) method to copy the [cereal dataset](https://www.kaggle.com/datasets/crawford/80-cereals) from the open stash to the `stash-tutorial/` directory in your private stash:\n"
   ]
  },
  {
   "cell_type": "code",
   "execution_count": 4,
   "id": "3581c79b-7ff3-4fa5-9f97-eed5c0805a46",
   "metadata": {
    "tags": []
   },
   "outputs": [],
   "source": [
    "open.cp(\n",
    "\t\tdest_stash=private,\n",
    "    \tsrc_path=\"datasets/beginners/cereal.csv\",\n",
    "\t\tdest_path=\"~/stash-tutorial/cereal.csv\",\n",
    ")"
   ]
  },
  {
   "cell_type": "markdown",
   "id": "d104da4c-7c91-4683-ab69-5100fb657ee6",
   "metadata": {},
   "source": [
    "\n",
    "Confirm that it's in your private stash:\n"
   ]
  },
  {
   "cell_type": "code",
   "execution_count": 5,
   "id": "f9e257e7-37a9-4166-98fa-62ca3c5d1b4c",
   "metadata": {
    "tags": []
   },
   "outputs": [
    {
     "data": {
      "text/plain": [
       "['cereal.csv', 'stash-tutorial.ipynb']"
      ]
     },
     "execution_count": 5,
     "metadata": {},
     "output_type": "execute_result"
    }
   ],
   "source": [
    "private.ls(\"~/stash-tutorial\")"
   ]
  },
  {
   "cell_type": "markdown",
   "id": "4eac243a-21a0-4cf6-b576-0d6dfbf9333e",
   "metadata": {
    "tags": []
   },
   "source": [
    "\n",
    "\n",
    "All there. Now, before starting analysis, make a file called `results.txt`.\n",
    "This file might come in handy:\n"
   ]
  },
  {
   "cell_type": "code",
   "execution_count": 6,
   "id": "aee4660c-806c-49c1-8a17-19a402dba1f1",
   "metadata": {
    "tags": []
   },
   "outputs": [],
   "source": [
    "!touch ~/stash-tutorial/results.txt"
   ]
  },
  {
   "cell_type": "markdown",
   "id": "ffb5aaab-d53f-4009-8e34-0bbe740f6189",
   "metadata": {},
   "source": [
    "Confirm it was created:"
   ]
  },
  {
   "cell_type": "code",
   "execution_count": 8,
   "id": "d1c22d01-618f-46e2-be16-5aa51c809dcb",
   "metadata": {
    "tags": []
   },
   "outputs": [
    {
     "data": {
      "text/plain": [
       "['cereal.csv', 'results.txt', 'stash-tutorial.ipynb']"
      ]
     },
     "execution_count": 8,
     "metadata": {},
     "output_type": "execute_result"
    }
   ],
   "source": [
    "private.ls(\"~/stash-tutorial\")"
   ]
  },
  {
   "cell_type": "markdown",
   "id": "c1be76aa-3f53-4313-88d0-761dbe6aa65f",
   "metadata": {
    "tags": []
   },
   "source": [
    "In this private stash, you can safely do write operations on your files.\n",
    "\n",
    "## Analyze your copy of the data\n",
    "\n",
    "You want to determine which item from the dataset has the highest protein content relative to its number of calories.\n",
    "To achieve this, you can use the [pandas]() package, which comes installed on the Camber kernal. \n",
    "\n",
    "First, import pandas and initialize the dataframe:"
   ]
  },
  {
   "cell_type": "code",
   "execution_count": 18,
   "id": "d2e70ea6-17f4-4e73-a485-c1ed23524ef0",
   "metadata": {
    "tags": []
   },
   "outputs": [],
   "source": [
    "import pandas as pd\n",
    "df = pd.read_csv('~/cereal-analysis/cereal.csv')"
   ]
  },
  {
   "cell_type": "markdown",
   "id": "24e194d1-c8b2-4448-be42-6dc6dffba693",
   "metadata": {
    "tags": []
   },
   "source": [
    "Then calculate the protein-to-calorie ratio:"
   ]
  },
  {
   "cell_type": "code",
   "execution_count": 10,
   "id": "1843bd4e-d0e7-4483-abfd-ac5883f05106",
   "metadata": {
    "tags": []
   },
   "outputs": [
    {
     "name": "stdout",
     "output_type": "stream",
     "text": [
      "The cereal with the best protein-to-calorie ratio is:\n",
      "All-Bran with Extra Fiber\n"
     ]
    }
   ],
   "source": [
    "\n",
    "# Calculate the ratio\n",
    "df['calories_to_protein'] =  df['protein'] / df['calories'] \n",
    "\n",
    "# Find the cereal with the best ratio:\n",
    "max_ratio_row = df.loc[df['calories_to_protein'].idxmax()]\n",
    "highest_ratio_cereal = max_ratio_row['name']\n",
    "\n",
    "print(f'The cereal with the best protein-to-calorie ratio is:\\n{highest_ratio_cereal}')"
   ]
  },
  {
   "cell_type": "markdown",
   "id": "8dc55e43-f71a-449a-8a35-fd61fdd5aaeb",
   "metadata": {
    "tags": []
   },
   "source": [
    "This is useful information―your team might want to know.\n",
    "\n",
    "## Share your analysis with your team stash\n",
    "\n",
    "Make a new CSV file to share with your team stash."
   ]
  },
  {
   "cell_type": "code",
   "execution_count": 11,
   "id": "7e48271e-bdfd-41c9-a7dd-9f589406c743",
   "metadata": {
    "tags": []
   },
   "outputs": [],
   "source": [
    "ratio_df = df[['name','calories','protein', 'calories_to_protein']]\n",
    "ratio_df.to_csv('~/stash-tutorial/calories-to-protein.csv', index=False)\n",
    "# ratio_df.head() Uncomment to inspect the file structure"
   ]
  },
  {
   "cell_type": "markdown",
   "id": "8bd6cad1-6f30-4e7f-9b48-dde774254f16",
   "metadata": {},
   "source": [
    "\n",
    "\n",
    "Now copy the contents of your `stash-tutorial` directory to your team stash:\n",
    "\n"
   ]
  },
  {
   "cell_type": "code",
   "execution_count": 14,
   "id": "ca565820-094e-4339-ae21-bcb833a94bc4",
   "metadata": {
    "tags": []
   },
   "outputs": [],
   "source": [
    "private.cp(\n",
    "    src_path=\"~/stash-tutorial/\",\n",
    "    dest_stash=team,\n",
    "    dest_path=\"~/datasets/calories/\",\n",
    "    recursive=True,\n",
    ")"
   ]
  },
  {
   "cell_type": "markdown",
   "id": "cb08d1c2-ed71-4e1a-810f-9f6c724f40c9",
   "metadata": {},
   "source": [
    "Check that the file is in the stash directory:"
   ]
  },
  {
   "cell_type": "code",
   "execution_count": 15,
   "id": "d764cb85-2a36-4bfa-a849-a41e2d5955ba",
   "metadata": {
    "tags": []
   },
   "outputs": [
    {
     "data": {
      "text/plain": [
       "['calories-to-protein.csv',\n",
       " 'cereal.csv',\n",
       " 'results.txt',\n",
       " 'stash-tutorial.ipynb']"
      ]
     },
     "execution_count": 15,
     "metadata": {},
     "output_type": "execute_result"
    }
   ],
   "source": [
    "team.ls(\"~/datasets/calories\")"
   ]
  },
  {
   "cell_type": "markdown",
   "id": "d48515fa-4d9a-4b44-bd0d-d14993405430",
   "metadata": {},
   "source": [
    "\n",
    "\n",
    "Oops! It turns out that you never used the `results.txt` file.\n",
    "And, since the `cp()` method had the `recursive` flag, this empty file got copied over to your team stash.\n",
    "\n",
    "No worries. Just remove it with the [`rm()`](/docs/python-api/stash/#rm) method:\n",
    "\n"
   ]
  },
  {
   "cell_type": "code",
   "execution_count": 13,
   "id": "929293d6-ed70-4091-8ab2-6bdb614cdad5",
   "metadata": {
    "tags": []
   },
   "outputs": [
    {
     "data": {
      "text/plain": [
       "['calories-to-protein.csv', 'cereal.csv', 'stash-tutorial.ipynb']"
      ]
     },
     "execution_count": 13,
     "metadata": {},
     "output_type": "execute_result"
    }
   ],
   "source": [
    "team.rm(\"~/datasets/calories/results.txt\")\n",
    "team.ls(\"~/datasets/calories\")"
   ]
  },
  {
   "cell_type": "markdown",
   "id": "545f64a2-cf43-4b3a-afe2-dbffa92d00c3",
   "metadata": {},
   "source": [
    "Now tell your team about the interesting cereal analysis you just uploaded to their stash."
   ]
  }
 ],
 "metadata": {
  "kernelspec": {
   "display_name": "PyCamber",
   "language": "python",
   "name": "python3"
  },
  "language_info": {
   "codemirror_mode": {
    "name": "ipython",
    "version": 3
   },
   "file_extension": ".py",
   "mimetype": "text/x-python",
   "name": "python",
   "nbconvert_exporter": "python",
   "pygments_lexer": "ipython3",
   "version": "3.10.10"
  }
 },
 "nbformat": 4,
 "nbformat_minor": 5
}

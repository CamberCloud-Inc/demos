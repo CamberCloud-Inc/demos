{
  "cells": [
    {
      "cell_type": "markdown",
      "id": "0eec5905-b2cf-40e1-be80-c4d11b95233d",
      "metadata": {
        "tags": []
      },
      "source": [
        "\n",
        "This tutorial demonstrates a simulation and visualization of a well-known problem in magnetohydrodynamics.\n",
        "The simulation is parallelized using the Camber [`mpi`](https://docs.cambercloud.com/docs/reference/python-api/mpi/) package, and it uses the Athena library to execute Athena++ code on Camber's OpenMPI infrastructure.\n",
        "\n",
        "## Simulate a 2D Orszag-Tang vortex\n",
        "\n",
        "The following steps create an MPI cluster to compute the [Orszag-Tang Vortex](https://www.astro.princeton.edu/~jstone/Athena/tests/orszag-tang/pagesource.html), a popular demonstration problem in fluid mechanics.\n",
        "After the output is generated, an imported Python script creates a visualization.\n",
        "\n",
        "### Spin-Up MPI cluster\n",
        "\n",
        "The first step is to import Camber and initialize the MPI cluster:\n"
      ]
    },
    {
      "cell_type": "code",
      "execution_count": null,
      "id": "6a3fd93d-2edb-44b9-be1f-751f149060ea",
      "metadata": {
        "tags": []
      },
      "outputs": [],
      "source": [
        "import camber"
      ]
    },
    {
      "cell_type": "code",
      "execution_count": null,
      "id": "aeaae81d-e5cd-4356-aab3-ced026cb5e17",
      "metadata": {
        "tags": []
      },
      "outputs": [
        {
          "name": "stdout",
          "output_type": "stream",
          "text": [
            "Cloning into 'athena'...\n",
            "remote: Enumerating objects: 47696, done.\u001b[K\n",
            "remote: Counting objects: 100% (1141/1141), done.\u001b[K\n",
            "remote: Compressing objects: 100% (512/512), done.\u001b[K\n",
            "remote: Total 47696 (delta 745), reused 897 (delta 628), pack-reused 46555 (from 1)\u001b[K\n",
            "Receiving objects: 100% (47696/47696), 28.32 MiB | 23.52 MiB/s, done.\n",
            "Resolving deltas: 100% (36144/36144), done.\n",
            "Updating files: 100% (660/660), done.\n"
          ]
        }
      ],
      "source": [
        "# download Athena++ from public repo if not already present in your directory\n",
        "!git clone https://github.com/PrincetonUniversity/athena.git"
      ]
    },
    {
      "cell_type": "markdown",
      "id": "afa9a288-aec0-4006-a1f0-96b9280f62fe",
      "metadata": {},
      "source": [
        "\n",
        "\n",
        "Now create an MPI job to compile `Athena++`.\n",
        "This step ensures the code compiles with the correct MPI environment:\n",
        "\n"
      ]
    },
    {
      "cell_type": "code",
      "execution_count": null,
      "id": "67544eda-64c9-4ffa-8272-54997ff3b191",
      "metadata": {
        "tags": []
      },
      "outputs": [],
      "source": [
        "# Now we create an MPI job to compile Athena++. This step ensure the code is compiled with the correct MPI environment\n",
        "compile_job = camber.mpi.create_job(\n",
        "    command=\"cd athena && python configure.py -b --prob=orszag_tang -mpi -hdf5 --hdf5_path=${HDF5_HOME} && make clean && make all -j$(nproc)\",\n",
        "    node_size=\"SMALL\"\n",
        ")"
      ]
    },
    {
      "cell_type": "markdown",
      "id": "0197821c-891f-41d5-b19a-2f616537e83d",
      "metadata": {},
      "source": [
        "\n",
        "\n",
        "Check the `compile_job` output to monitor the [job status](https://docs.cambercloud.com/docs/reference/job-attributes/#status):\n",
        "                                                           \n",
        "                                                           "
      ]
    },
    {
      "cell_type": "code",
      "execution_count": null,
      "id": "276684c3-9974-481d-8383-ea5352298c7c",
      "metadata": {
        "tags": []
      },
      "outputs": [
        {
          "data": {
            "text/plain": [
              "CamberJob({\"job_id\": 7176, \"status\": \"COMPLETED\", \"node_size\": \"SMALL\", \"engine_type\": \"MPI\", \"command\": \"cd athena && python configure.py -b --prob=orszag_tang -mpi -hdf5 --hdf5_path=${HDF5_HOME} && make clean && make all -j$(nproc)\", \"with_gpu\": false})"
            ]
          },
          "execution_count": null,
          "metadata": {},
          "output_type": "execute_result"
        }
      ],
      "source": [
        "compile_job"
      ]
    },
    {
      "cell_type": "markdown",
      "id": "bfc1d780-d898-45c4-9c47-62f986f86416",
      "metadata": {},
      "source": [
        "\n",
        "\n",
        "Once the job status turns to `COMPLETED`, use `read_logs` to check the output:\n",
        "\n"
      ]
    },
    {
      "cell_type": "code",
      "execution_count": null,
      "id": "2ae65401-4615-47c9-9360-78573528f53b",
      "metadata": {
        "tags": []
      },
      "outputs": [],
      "source": [
        "compile_job.read_logs(tail_lines=10)"
      ]
    },
    {
      "cell_type": "markdown",
      "id": "64bd1671",
      "metadata": {},
      "source": [
        "\n",
        "If you want to peruse the compile logs in more detail, you can also download the log file with `download_log`.\n",
        "You can open the log file directly in your jupyter notebook and check its contents."
      ]
    },
    {
      "cell_type": "code",
      "execution_count": null,
      "id": "60c77150",
      "metadata": {},
      "outputs": [],
      "source": [
        "compile_job.download_log()"
      ]
    },
    {
      "cell_type": "markdown",
      "id": "5f17b84c-8b85-4997-9aad-e2eaadf92231",
      "metadata": {},
      "source": [
        "\n",
        "\n",
        "### Run the MPI job\n",
        "\n",
        "After compilation finishes, use the [`create_job`](https://docs.cambercloud.com/docs/reference/python-api/mpi/#create_job) method to start the Orszag-Tang simulation using the Athena binary and input file:\n",
        "\n"
      ]
    },
    {
      "cell_type": "code",
      "execution_count": null,
      "id": "2b4cca24-7adc-4f32-ab41-71a0933d9ee0",
      "metadata": {
        "tags": []
      },
      "outputs": [],
      "source": [
        "# run camber with a medium instance\n",
        "run_job = camber.mpi.create_job(\n",
        "    command=\"mpirun -np 16 athena/bin/athena -i athinput.orszag-tang\",\n",
        "    node_size=\"MEDIUM\"\n",
        ")"
      ]
    },
    {
      "cell_type": "code",
      "execution_count": null,
      "id": "6be602aa-6586-4b6f-b239-b01f7a1fa67c",
      "metadata": {
        "tags": []
      },
      "outputs": [
        {
          "data": {
            "text/plain": [
              "CamberJob({\"job_id\": 7177, \"status\": \"COMPLETED\", \"node_size\": \"MEDIUM\", \"engine_type\": \"MPI\", \"command\": \"mpirun -np 16 athena/bin/athena -i athinput.orszag-tang\", \"with_gpu\": false})"
            ]
          },
          "execution_count": null,
          "metadata": {},
          "output_type": "execute_result"
        }
      ],
      "source": [
        "# check job status\n",
        "run_job"
      ]
    },
    {
      "cell_type": "code",
      "execution_count": null,
      "id": "6146f5aa-0269-4bdf-8132-b507ee1e13dc",
      "metadata": {
        "tags": []
      },
      "outputs": [
        {
          "name": "stdout",
          "output_type": "stream",
          "text": [
            "cycle=1770 time=9.9959319121303625e-01 dt=4.0680878696375267e-04\n",
            "cycle=1771 time=1.0000000000000000e+00 dt=5.3994982319190274e-04\n",
            "\n",
            "Terminating on time limit\n",
            "time=1.0000000000000000e+00 cycle=1771\n",
            "tlim=1.0000000000000000e+00 nlim=-1\n",
            "\n",
            "zone-cycles = 116064256\n",
            "cpu time used  = 6.6417440000000001e+00\n",
            "zone-cycles/cpu_second = 1.7474966815944728e+07"
          ]
        }
      ],
      "source": [
        "# Check the job progress once it begins running or has completed\n",
        "run_job.read_logs(tail_lines=10)"
      ]
    },
    {
      "cell_type": "markdown",
      "id": "6b565ee6-f13c-446d-a845-35eb2cee725b",
      "metadata": {},
      "source": [
        "\n",
        "\n",
        "Once the job starts running, Camber generates a number of OrszagTang output files.\n",
        "This output serves as the input for visualization in the next section.\n",
        "\n",
        "When the job finishes, you can capture the output with `download_log`.\n",
        "\n"
      ]
    },
    {
      "cell_type": "code",
      "execution_count": null,
      "id": "27b4423d-91e9-49c7-bc0f-d50cfd51ece1",
      "metadata": {
        "tags": []
      },
      "outputs": [],
      "source": [
        "run_job.download_log()"
      ]
    },
    {
      "cell_type": "markdown",
      "id": "a668be67-4d12-4f2e-9aa3-4d95ec05a83f",
      "metadata": {},
      "source": [
        "\n",
        "To view these logs, check the folder where you are running this workload for a file called `job_<JOB_ID>.log`\n",
        "\n",
        "### Read and visualize output\n",
        "\n",
        "Now use a plot function generate images for your output.\n",
        "\n",
        "First, if it doesn't exist, create a file for your output images:"
      ]
    },
    {
      "cell_type": "code",
      "execution_count": null,
      "id": "663c0c7d-2362-47ab-afcf-198a9f446b3d",
      "metadata": {
        "tags": []
      },
      "outputs": [],
      "source": [
        "!mkdir output_images"
      ]
    },
    {
      "cell_type": "markdown",
      "id": "44e6f817-3abe-4f37-96da-1ad88cb78ebd",
      "metadata": {},
      "source": [
        "\n",
        "Now import the plot function from your local files and run it on your input.\n",
        "This generates 100 PNG files in your `output_images` directory:\n"
      ]
    },
    {
      "cell_type": "code",
      "execution_count": null,
      "id": "cb8eba30-1eb7-4dd7-857b-108252da5e83",
      "metadata": {
        "tags": []
      },
      "outputs": [],
      "source": [
        "# import a custom script for reading and plotting the hdf5 outputs, placing images in the output_images directory\n",
        "from plot_output import plot_output\n",
        "plot_output()"
      ]
    },
    {
      "cell_type": "markdown",
      "id": "3c46fe89-b9f8-40d9-8d1c-672583ea642c",
      "metadata": {
        "tags": []
      },
      "source": [
        "\n",
        "\n",
        "### Turn the images into a video\n",
        "\n",
        "The plot_output function from the preceding step also generates a movie from all the output images.\n",
        "Here is a 2D simulation of the Orszag-Tang Vortex:\n",
        "\n"
      ]
    },
    {
      "cell_type": "code",
      "execution_count": null,
      "id": "cf9f1fa4-b18c-45b6-b276-88a1fbd02a5e",
      "metadata": {
        "tags": []
      },
      "outputs": [
        {
          "data": {
            "text/html": [
              "<video src=\"density.mov\" controls  >\n",
              "      Your browser does not support the <code>video</code> element.\n",
              "    </video>"
            ],
            "text/plain": [
              "<IPython.core.display.Video object>"
            ]
          },
          "execution_count": null,
          "metadata": {},
          "output_type": "execute_result"
        }
      ],
      "source": [
        "from IPython.display import Video\n",
        "Video(\"density.mov\")"
      ]
    }
  ],
  "metadata": {
    "kernelspec": {
      "display_name": "PyCamber",
      "language": "python",
      "name": "python3"
    },
    "language_info": {
      "codemirror_mode": {
        "name": "ipython",
        "version": 3
      },
      "file_extension": ".py",
      "mimetype": "text/x-python",
      "name": "python",
      "nbconvert_exporter": "python",
      "pygments_lexer": "ipython3",
      "version": "3.10.10"
    }
  },
  "nbformat": 4,
  "nbformat_minor": 5
}

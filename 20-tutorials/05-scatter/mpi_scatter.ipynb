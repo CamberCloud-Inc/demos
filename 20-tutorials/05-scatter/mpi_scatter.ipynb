{
  "cells": [
    {
      "cell_type": "markdown",
      "id": "967d11d3-0a4b-495f-824b-e3fc43e1d8ec",
      "metadata": {},
      "source": [
        "\n",
        "Parallel computation is a valuable time-saving technique for research that does similar calculations on a large number of combinations.\n",
        "\n",
        "The scatter job works by receiving a table of parameters as input and then running parallel jobs for each item in each row. In some scientific circles, this technique is known as a _parameter sweep_. \n",
        "\n",
        "All Camber engines support scatter jobs.\n",
        "As they run on Camber infrastructure, they can also compute data-intensive workloads on a massively parallel scale.\n",
        "The following sections provide some examples.\n",
        "\n",
        "## Run `Hello, Solar System` with MPI\n",
        "\n",
        "The example in [Run your first job](https://docs.cambercloud.com/docs/quickstart/run-your-first-job/) shows how to use the MPI engine to run a \"Hello, World\" with multiple processers.\n",
        "\n",
        "However, there are many more places to greet than \"World\", and many more greetings than \"Hello.\"\n",
        "With this scatter job, run a parallel job to give each planet in your parameters a set of greetings.\n",
        "\n",
        "The first step is to import the MPI package:"
      ]
    },
    {
      "cell_type": "code",
      "execution_count": null,
      "id": "dc9064e5-f8bf-4bc6-8b27-6ce1ec8ea58f",
      "metadata": {
        "tags": []
      },
      "outputs": [],
      "source": [
        "import camber.mpi"
      ]
    },
    {
      "cell_type": "markdown",
      "id": "fbc60e94-fadd-43bb-b013-a12a65d83106",
      "metadata": {},
      "source": [
        "\n",
        "Now, define your parameters:"
      ]
    },
    {
      "cell_type": "code",
      "execution_count": null,
      "id": "0a0b5b2a-9045-482e-9077-45e2e812d6fb",
      "metadata": {
        "tags": []
      },
      "outputs": [],
      "source": [
        "params = {\n",
        "    \"Mercury\": \"Bonjour\",\n",
        "    \"Venus\": \"Bonjour\",\n",
        "    \"Earth\": \"¡Hola\",\n",
        "    \"Mars\": \"¡Hola\",\n",
        "}"
      ]
    },
    {
      "cell_type": "markdown",
      "id": "ae88318a-a5cf-457b-9b3c-b9ee14e39eec",
      "metadata": {},
      "source": [
        "\n",
        "\n",
        "Use the `command` argument to create a scatter job with every combination of greeting and planet:\n",
        "\n"
      ]
    },
    {
      "cell_type": "code",
      "execution_count": null,
      "id": "4ed84dba-b309-4c89-950c-5226d545d353",
      "metadata": {
        "tags": []
      },
      "outputs": [],
      "source": [
        "mpi_jobs = []\n",
        "\n",
        "for planet, greeting in params.items():\n",
        "    mpi_jobs.append(\n",
        "        camber.mpi.create_job(\n",
        "            node_size=\"XMICRO\",\n",
        "            command=f\"echo '{greeting}, {planet}!'\",\n",
        "        )\n",
        "    )"
      ]
    },
    {
      "cell_type": "markdown",
      "id": "90262bb4-61ac-4b69-9e44-f16b6c492094",
      "metadata": {},
      "source": [
        "\n",
        "\n",
        "This too takes just a few minutes to complete, you can check the status with:\n",
        "\n"
      ]
    },
    {
      "cell_type": "code",
      "execution_count": null,
      "id": "2a4cf7ce-c1b9-4e9d-97db-3aefe1f6753e",
      "metadata": {
        "tags": []
      },
      "outputs": [],
      "source": [
        "mpi_jobs"
      ]
    },
    {
      "cell_type": "markdown",
      "id": "77aaf17f",
      "metadata": {},
      "source": [
        "\n",
        "Soon the jobs start running. Check the output for a job like this:\n"
      ]
    },
    {
      "cell_type": "code",
      "execution_count": null,
      "id": "ba9bd745",
      "metadata": {},
      "outputs": [],
      "source": [
        "mpi_jobs[0].read_logs()"
      ]
    },
    {
      "cell_type": "markdown",
      "id": "07808734",
      "metadata": {},
      "source": [
        "\n",
        "**Quick reminder:** you can also download the log files for every job by replacing `read_logs()` with `download_log()`."
      ]
    },
    {
      "cell_type": "markdown",
      "id": "79403ace-912c-4440-8a02-c30df7fe456b",
      "metadata": {
        "tags": []
      },
      "source": [
        "\n",
        "\n",
        "## Check understanding: how many jobs?\n",
        "\n",
        "Note that `params` dictionary has two keys, one with 4 values and the other 2.\n",
        "How many total jobs are created?\n",
        "The answer is the [Cartesian product](https://en.wikipedia.org/wiki/Cartesian_product) of the length of each key used in the command template―in this case, 8. "
      ]
    }
  ],
  "metadata": {
    "kernelspec": {
      "display_name": "PyCamber",
      "language": "python",
      "name": "python3"
    },
    "language_info": {
      "codemirror_mode": {
        "name": "ipython",
        "version": 3
      },
      "file_extension": ".py",
      "mimetype": "text/x-python",
      "name": "python",
      "nbconvert_exporter": "python",
      "pygments_lexer": "ipython3",
      "version": "3.10.10"
    }
  },
  "nbformat": 4,
  "nbformat_minor": 5
}

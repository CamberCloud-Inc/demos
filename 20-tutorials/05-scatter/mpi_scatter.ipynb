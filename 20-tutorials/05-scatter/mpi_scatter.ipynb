{
 "cells": [
  {
   "cell_type": "markdown",
   "id": "967d11d3-0a4b-495f-824b-e3fc43e1d8ec",
   "metadata": {},
   "source": [
    "In scientific computing, it's often useful to compute how the results of a calculation change according to different parameters.\n",
    "However, as the number of parameters increase, the number of possibilities explode.\n",
    "So, parallel computation is a valuable time-saving technique for combinatarial research.\n",
    "\n",
    "\n",
    "The Camber [`create_scatter_job`](/docs/python-api/engines/#create_scatter_job) function supports research on parameter grids. The scatter job works by receiving a table of parameters as input and then running parallel jobs for each item in each row. In some scientific circles, this technique is known as a _parameter sweep_. \n",
    "\n",
    "All Camber engines support scatter jobs.\n",
    "As they run on Camber infrastructure, they can also compute data-intensive workloads on a massively parallel scale.\n",
    "The following sections provide some examples.\n",
    "\n",
    "## Run `Hello, Solar System` with MPI\n",
    "\n",
    "The example in [Run your first job](/docs/get-started/run-your-first-job/) shows how to use the MPI engine to run a \"Hello, World\" with multiple processers.\n",
    "\n",
    "However, there are many more places to greet than \"World\", and many more greetings than \"Hello.\"\n",
    "With this scatter job, run a parallel job to give each planet in your parameters a set of greetings.\n",
    "\n",
    "The first step is to import the MPI package:"
   ]
  },
  {
   "cell_type": "code",
   "execution_count": 2,
   "id": "dc9064e5-f8bf-4bc6-8b27-6ce1ec8ea58f",
   "metadata": {
    "tags": []
   },
   "outputs": [],
   "source": [
    "import camber.mpi"
   ]
  },
  {
   "cell_type": "markdown",
   "id": "fbc60e94-fadd-43bb-b013-a12a65d83106",
   "metadata": {},
   "source": [
    "Now, define your parameters:"
   ]
  },
  {
   "cell_type": "code",
   "execution_count": 3,
   "id": "0a0b5b2a-9045-482e-9077-45e2e812d6fb",
   "metadata": {
    "tags": []
   },
   "outputs": [],
   "source": [
    "\n",
    "params = {\n",
    "    \"planet\": [\n",
    "        \"Mercury\",\n",
    "        \"Venus\",\n",
    "        \"Earth\",\n",
    "        \"Mars\",\n",
    "        \"Jupiter\",\n",
    "        \"Saturn\",\n",
    "        \"Uranus\",\n",
    "        \"Neptune\",\n",
    "    ],\n",
    "    \"greeting\": [\n",
    "        \"Bonjour\",\n",
    "        \"Hi\",\n",
    "        \"Howdy there\",\n",
    "        \"¡Hola\",\n",
    "        \"приве́т\",\n",
    "        \"Ahoj\",\n",
    "        \"Good day to you\",\n",
    "        \"హలో\",\n",
    "    ],\n",
    "}\n"
   ]
  },
  {
   "cell_type": "markdown",
   "id": "ae88318a-a5cf-457b-9b3c-b9ee14e39eec",
   "metadata": {},
   "source": [
    "Use the `command_template`to create a scatter job with every combination of greeting and planet:"
   ]
  },
  {
   "cell_type": "code",
   "execution_count": 19,
   "id": "97e86f93-48d8-4379-9b98-739aaaf6a32c",
   "metadata": {
    "tags": []
   },
   "outputs": [],
   "source": [
    "\n",
    "mpi_jobs = camber.mpi.create_scatter_job(\n",
    "    engine_size=\"MICRO\",\n",
    "    command_template=\"echo '{greeting}, {planet}!'\",\n",
    "    template_params_grid=params,\n",
    "    \n",
    ")\n"
   ]
  },
  {
   "cell_type": "markdown",
   "id": "79403ace-912c-4440-8a02-c30df7fe456b",
   "metadata": {
    "tags": []
   },
   "source": [
    "Soon a number of jobs start working in parallel. \n",
    "If you bind the `create_scatter_job()` output to a varaible, you can use this variable to check the status of the jobs:\n",
    "\n",
    "```python\n",
    "print(mpi_jobs)\n",
    "```\n",
    "\n",
    "## Check understanding: how many jobs?\n",
    "\n",
    "Note that `params` dictionary has two keys, each with 8 items.\n",
    "How many total jobs are created?\n",
    "The answer is the [Cartesian product](https://en.wikipedia.org/wiki/Cartesian_product) of the length of each key used in the command template―in this case, 64. "
   ]
  },
  {
   "cell_type": "markdown",
   "id": "7edfe54c-63cf-4bef-9441-c9fd4ec558dc",
   "metadata": {
    "tags": []
   },
   "source": []
  }
 ],
 "metadata": {
  "kernelspec": {
   "display_name": "PyCamber",
   "language": "python",
   "name": "python3"
  },
  "language_info": {
   "codemirror_mode": {
    "name": "ipython",
    "version": 3
   },
   "file_extension": ".py",
   "mimetype": "text/x-python",
   "name": "python",
   "nbconvert_exporter": "python",
   "pygments_lexer": "ipython3",
   "version": "3.10.10"
  }
 },
 "nbformat": 4,
 "nbformat_minor": 5
}

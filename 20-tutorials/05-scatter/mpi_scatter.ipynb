{
 "cells": [
  {
   "cell_type": "markdown",
   "id": "967d11d3-0a4b-495f-824b-e3fc43e1d8ec",
   "metadata": {},
   "source": [
    "In scientific computing, it's often useful to compute how the results of a calculation change according to different parameters.\n",
    "However, as the number of parameters increases, the number of possibilities explodes.\n",
    "So, parallel computation is a valuable time-saving technique for research that does similar calculations on a large number of combinations.\n",
    "\n",
    "\n",
    "The Camber [`create_scatter_job`](/docs/python-api/engines/#create_scatter_job) function supports research on parameter grids. The scatter job works by receiving a table of parameters as input and then running parallel jobs for each item in each row. In some scientific circles, this technique is known as a _parameter sweep_. \n",
    "\n",
    "All Camber engines support scatter jobs.\n",
    "As they run on Camber infrastructure, they can also compute data-intensive workloads on a massively parallel scale.\n",
    "The following sections provide some examples.\n",
    "\n",
    "## Run `Hello, Solar System` with MPI\n",
    "\n",
    "The example in [Run your first job](/docs/get-started/run-your-first-job/) shows how to use the MPI engine to run a \"Hello, World\" with multiple processers.\n",
    "\n",
    "However, there are many more places to greet than \"World\", and many more greetings than \"Hello.\"\n",
    "With this scatter job, run a parallel job to give each planet in your parameters a set of greetings.\n",
    "\n",
    "The first step is to import the MPI package:"
   ]
  },
  {
   "cell_type": "code",
   "execution_count": 11,
   "id": "dc9064e5-f8bf-4bc6-8b27-6ce1ec8ea58f",
   "metadata": {
    "tags": []
   },
   "outputs": [],
   "source": [
    "import camber.mpi"
   ]
  },
  {
   "cell_type": "markdown",
   "id": "fbc60e94-fadd-43bb-b013-a12a65d83106",
   "metadata": {},
   "source": [
    "Now, define your parameters:"
   ]
  },
  {
   "cell_type": "code",
   "execution_count": 15,
   "id": "0a0b5b2a-9045-482e-9077-45e2e812d6fb",
   "metadata": {
    "tags": []
   },
   "outputs": [],
   "source": [
    "\n",
    "params = {\n",
    "    \"planet\": [\n",
    "        \"Mercury\",\n",
    "        \"Venus\",\n",
    "        \"Earth\",\n",
    "        \"Mars\",\n",
    "        \"Jupiter\",\n",
    "        \"Saturn\",\n",
    "        \"Uranus\",\n",
    "        \"Neptune\",\n",
    "    ],\n",
    "    \"greeting\": [\n",
    "        \"Bonjour\",\n",
    "        \"Hi\",\n",
    "        \"Howdy there\",\n",
    "        \"¡Hola\",\n",
    "    ],\n",
    "}\n"
   ]
  },
  {
   "cell_type": "markdown",
   "id": "ae88318a-a5cf-457b-9b3c-b9ee14e39eec",
   "metadata": {},
   "source": [
    "\n",
    "\n",
    "Use the `command_template` argument to create a scatter job with every combination of greeting and planet:\n",
    "\n"
   ]
  },
  {
   "cell_type": "code",
   "execution_count": null,
   "id": "4ed84dba-b309-4c89-950c-5226d545d353",
   "metadata": {
    "tags": []
   },
   "outputs": [],
   "source": [
    "mpi_jobs = camber.mpi.create_scatter_job(\n",
    "    engine_size=\"XMICRO\",\n",
    "    command_template=\"echo '{greeting}, {planet}!'\",\n",
    "    template_params_grid=params,\n",
    ")"
   ]
  },
  {
   "cell_type": "markdown",
   "id": "90262bb4-61ac-4b69-9e44-f16b6c492094",
   "metadata": {},
   "source": [
    "\n",
    "\n",
    "Soon the jobs start running. Check the output for each job like this:\n",
    "\n"
   ]
  },
  {
   "cell_type": "code",
   "execution_count": null,
   "id": "2a4cf7ce-c1b9-4e9d-97db-3aefe1f6753e",
   "metadata": {
    "tags": []
   },
   "outputs": [],
   "source": [
    "for job in mpi_jobs:\n",
    "    job.read_logs()\n",
    "    print(\"\\r\")"
   ]
  },
  {
   "cell_type": "markdown",
   "id": "79403ace-912c-4440-8a02-c30df7fe456b",
   "metadata": {
    "tags": []
   },
   "source": [
    "\n",
    "\n",
    "## Check understanding: how many jobs?\n",
    "\n",
    "Note that `params` dictionary has two keys, one with 8 values and the other 4.\n",
    "How many total jobs are created?\n",
    "The answer is the [Cartesian product](https://en.wikipedia.org/wiki/Cartesian_product) of the length of each key used in the command template―in this case, 32. "
   ]
  }
 ],
 "metadata": {
  "kernelspec": {
   "display_name": "PyCamber",
   "language": "python",
   "name": "python3"
  },
  "language_info": {
   "codemirror_mode": {
    "name": "ipython",
    "version": 3
   },
   "file_extension": ".py",
   "mimetype": "text/x-python",
   "name": "python",
   "nbconvert_exporter": "python",
   "pygments_lexer": "ipython3",
   "version": "3.10.10"
  }
 },
 "nbformat": 4,
 "nbformat_minor": 5
}

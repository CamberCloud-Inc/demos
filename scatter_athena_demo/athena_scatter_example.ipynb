{
 "cells": [
  {
   "cell_type": "markdown",
   "id": "0eec5905-b2cf-40e1-be80-c4d11b95233d",
   "metadata": {},
   "source": [
    "### Parallel MPI simulatons of a spherical blast wave"
   ]
  },
  {
   "cell_type": "markdown",
   "id": "48bf00ff-4774-4680-a847-701bc9334200",
   "metadata": {},
   "source": [
    "### Spin-Up MPI cluster, compile, and execute simulation code"
   ]
  },
  {
   "cell_type": "code",
   "execution_count": null,
   "id": "6a3fd93d-2edb-44b9-be1f-751f149060ea",
   "metadata": {
    "tags": []
   },
   "outputs": [],
   "source": [
    "# spin up camber\n",
    "import camber"
   ]
  },
  {
   "cell_type": "code",
   "execution_count": null,
   "id": "b7f3bcfe-110f-40f2-a30a-581274f08dae",
   "metadata": {
    "tags": []
   },
   "outputs": [],
   "source": [
    "# download Athena++ from public repo and compile if needed -- can skip if you have already copied the code to the working directory\n",
    "# working directory is where the notebook is located\n",
    "import subprocess\n",
    "subprocess.run([\"git\",\"clone\",\"https://github.com/PrincetonUniversity/athena.git\"])"
   ]
  },
  {
   "cell_type": "code",
   "execution_count": null,
   "id": "55569c2d-242f-4dc1-9f8d-4018dea641e9",
   "metadata": {
    "tags": []
   },
   "outputs": [],
   "source": [
    "# Now we create an MPI job to compile Athena++. This step ensure the code is compiled with the correct MPI environment\n",
    "compile_job = camber.mpi.create_job(\n",
    "    command=\"cd athena && python configure.py --prob=blast -mpi -hdf5 --hdf5_path=${HDF5_PATH} && make clean && make all -j$(nproc)\",\n",
    "    engine_size=\"SMALL\"\n",
    ")"
   ]
  },
  {
   "cell_type": "code",
   "execution_count": null,
   "id": "644e09d0-5f61-4f82-97aa-809898a85df6",
   "metadata": {
    "tags": []
   },
   "outputs": [],
   "source": [
    "# we can check the status of the job\n",
    "compile_job"
   ]
  },
  {
   "cell_type": "code",
   "execution_count": null,
   "id": "a51a33f5-d0a5-4bf2-805b-7f25ba207867",
   "metadata": {
    "tags": []
   },
   "outputs": [],
   "source": [
    "# The blast problem begins with a central sphere of material with higher pressure than its surroundings.\n",
    "# The prat parameter sets the ratio. Here we consider four values ranging from a factor of 10 to a factor of 300.\n",
    "params = {\n",
    "    \"prat\": [\"10\", \"30\", \"100\", \"300\"]\n",
    "}"
   ]
  },
  {
   "cell_type": "code",
   "execution_count": null,
   "id": "2b4cca24-7adc-4f32-ab41-71a0933d9ee0",
   "metadata": {
    "tags": []
   },
   "outputs": [],
   "source": [
    "# run scatter jobs using MEDIUM engines\n",
    "# Here we take advantage Athena's functionality for over-writing a parameter in the input file frome the\n",
    "# command line as well as the ability to set the runtime directory\n",
    "jobs = camber.mpi.create_scatter_job(\n",
    "    command_template=\"mpirun -np 16 athena/bin/athena -i athinput.blast problem/prat={prat} -d run{prat}\",\n",
    "    template_params_grid=params,\n",
    "    engine_size=\"MEDIUM\"\n",
    ")"
   ]
  },
  {
   "cell_type": "code",
   "execution_count": null,
   "id": "b340c4d1-df1e-4a66-a7ca-53293cbafed4",
   "metadata": {
    "tags": []
   },
   "outputs": [],
   "source": [
    "# lets check in on how are jobs are doing\n",
    "jobs"
   ]
  },
  {
   "cell_type": "code",
   "execution_count": null,
   "id": "cb8eba30-1eb7-4dd7-857b-108252da5e83",
   "metadata": {
    "tags": []
   },
   "outputs": [],
   "source": [
    "# import a custom script for reading and plotting the hdf5 outputs, placing images in the output_images directory\n",
    "# Each frame is a 2D slice throught the center of the 3D cartesian grid. This assumes each simulation output\n",
    "# is in its own runtime directory. We pass the same params dictionary used above for the scatter job.\n",
    "subprocess.run([\"mkdir\",\"output_images\"])\n",
    "from plot_output import plot_output\n",
    "plot_output(params, \"prat\")"
   ]
  },
  {
   "cell_type": "markdown",
   "id": "3c46fe89-b9f8-40d9-8d1c-672583ea642c",
   "metadata": {},
   "source": [
    "### Visualize Data"
   ]
  },
  {
   "cell_type": "code",
   "execution_count": null,
   "id": "cf9f1fa4-b18c-45b6-b276-88a1fbd02a5e",
   "metadata": {
    "tags": []
   },
   "outputs": [],
   "source": [
    "from IPython.display import Video\n",
    "Video(\"density.mov\")"
   ]
  }
 ],
 "metadata": {
  "kernelspec": {
   "display_name": "PyCamber",
   "language": "python",
   "name": "python3"
  },
  "language_info": {
   "codemirror_mode": {
    "name": "ipython",
    "version": 3
   },
   "file_extension": ".py",
   "mimetype": "text/x-python",
   "name": "python",
   "nbconvert_exporter": "python",
   "pygments_lexer": "ipython3",
   "version": "3.10.10"
  }
 },
 "nbformat": 4,
 "nbformat_minor": 5
}

{
 "cells": [
  {
   "cell_type": "markdown",
   "id": "0eec5905-b2cf-40e1-be80-c4d11b95233d",
   "metadata": {},
   "source": [
    "## Parallel MPI simulaton of 2D Onszager-Tang Magnetohydrodynamic Vortex "
   ]
  },
  {
   "cell_type": "markdown",
   "id": "48bf00ff-4774-4680-a847-701bc9334200",
   "metadata": {},
   "source": [
    "### Spin-Up MPI cluster, execute simulation code, write to cloud storage"
   ]
  },
  {
   "cell_type": "code",
   "execution_count": null,
   "id": "6a3fd93d-2edb-44b9-be1f-751f149060ea",
   "metadata": {
    "tags": []
   },
   "outputs": [],
   "source": [
    "import camber"
   ]
  },
  {
   "cell_type": "code",
   "execution_count": null,
   "id": "aeaae81d-e5cd-4356-aab3-ced026cb5e17",
   "metadata": {
    "tags": []
   },
   "outputs": [],
   "source": [
    "# download Athena++ from public repo if not already present in your directory\n",
    "!git clone https://github.com/PrincetonUniversity/athena.git"
   ]
  },
  {
   "cell_type": "code",
   "execution_count": null,
   "id": "67544eda-64c9-4ffa-8272-54997ff3b191",
   "metadata": {
    "tags": []
   },
   "outputs": [],
   "source": [
    "# Now we create an MPI job to compile Athena++. This step ensure the code is compiled with the correct MPI environment\n",
    "compile_job = camber.mpi.create_job(\n",
    "    command=\"cd athena && python configure.py -b --prob=orszag_tang -mpi -hdf5 --hdf5_path=${HDF5_PATH} && make clean && make all -j$(nproc)\",\n",
    "    engine_size=\"SMALL\"\n",
    ")"
   ]
  },
  {
   "cell_type": "code",
   "execution_count": null,
   "id": "276684c3-9974-481d-8383-ea5352298c7c",
   "metadata": {
    "tags": []
   },
   "outputs": [],
   "source": [
    "# we can check the status of the job\n",
    "compile_job"
   ]
  },
  {
   "cell_type": "code",
   "execution_count": null,
   "id": "2ae65401-4615-47c9-9360-78573528f53b",
   "metadata": {
    "tags": []
   },
   "outputs": [],
   "source": [
    "# if the job running or completed, we can read the last several lines\n",
    "compile_job.read_logs(tail_lines=10)"
   ]
  },
  {
   "cell_type": "code",
   "execution_count": null,
   "id": "012dec0c-5065-4381-a565-f126d81bb674",
   "metadata": {
    "tags": []
   },
   "outputs": [],
   "source": [
    "#If we had not returned the job explicitly in our call to create_job(), we could have found it using\n",
    "camber.mpi.list_jobs()"
   ]
  },
  {
   "cell_type": "code",
   "execution_count": null,
   "id": "78733f92-358c-4a0c-adeb-a7b5f130cf15",
   "metadata": {
    "tags": []
   },
   "outputs": [],
   "source": [
    "camber.mpi.list_jobs()[0].read_logs(tail_lines=10)"
   ]
  },
  {
   "cell_type": "code",
   "execution_count": null,
   "id": "2b4cca24-7adc-4f32-ab41-71a0933d9ee0",
   "metadata": {
    "tags": []
   },
   "outputs": [],
   "source": [
    "# run camber with a medium instance\n",
    "run_job = camber.mpi.create_job(\n",
    "    command=\"mpirun -np 16 athena/bin/athena -i athinput.orszag-tang\",\n",
    "    engine_size=\"MEDIUM\"\n",
    ")"
   ]
  },
  {
   "cell_type": "code",
   "execution_count": null,
   "id": "6be602aa-6586-4b6f-b239-b01f7a1fa67c",
   "metadata": {
    "tags": []
   },
   "outputs": [],
   "source": [
    "# check job status\n",
    "run_job"
   ]
  },
  {
   "cell_type": "code",
   "execution_count": null,
   "id": "6146f5aa-0269-4bdf-8132-b507ee1e13dc",
   "metadata": {
    "tags": []
   },
   "outputs": [],
   "source": [
    "# Check the job progress once it begins running or has completed\n",
    "run_job.read_logs(tail_lines=10)"
   ]
  },
  {
   "cell_type": "markdown",
   "id": "6b565ee6-f13c-446d-a845-35eb2cee725b",
   "metadata": {},
   "source": [
    "### Read data from cloud storage and process for visualization"
   ]
  },
  {
   "cell_type": "code",
   "execution_count": null,
   "id": "cb8eba30-1eb7-4dd7-857b-108252da5e83",
   "metadata": {
    "tags": []
   },
   "outputs": [],
   "source": [
    "# import a custom script for reading and plotting the hdf5 outputs, placing images in the output_images directory\n",
    "from plot_output import plot_output\n",
    "import os\n",
    "os.system(\"mkdir output_images\")\n",
    "plot_output()"
   ]
  },
  {
   "cell_type": "markdown",
   "id": "3c46fe89-b9f8-40d9-8d1c-672583ea642c",
   "metadata": {},
   "source": [
    "### Visualize Data"
   ]
  },
  {
   "cell_type": "code",
   "execution_count": null,
   "id": "cf9f1fa4-b18c-45b6-b276-88a1fbd02a5e",
   "metadata": {
    "tags": []
   },
   "outputs": [],
   "source": [
    "from IPython.display import Video\n",
    "Video(\"density.mov\")"
   ]
  }
 ],
 "metadata": {
  "kernelspec": {
   "display_name": "PyCamber",
   "language": "python",
   "name": "python3"
  },
  "language_info": {
   "codemirror_mode": {
    "name": "ipython",
    "version": 3
   },
   "file_extension": ".py",
   "mimetype": "text/x-python",
   "name": "python",
   "nbconvert_exporter": "python",
   "pygments_lexer": "ipython3",
   "version": "3.10.10"
  }
 },
 "nbformat": 4,
 "nbformat_minor": 5
}

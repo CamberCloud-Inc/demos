{
 "cells": [
  {
   "cell_type": "markdown",
   "metadata": {},
   "source": [
    "Metagenomic analysis enables the study of microbial communities, providing insights into their diversity and roles in various environments. The [nf-core/mag](https://nf-co.re/mag/latest/) pipeline offers a powerful, reproducible approach to metagenomic assembly and profiling. By using the [Nextflow Engine](https://docs.cambercloud.com/docs/reference/python-api/nextflow/) on Camber, researchers can easily run and manage complex workflows, ensuring efficient analysis and scalability.\n"
   ]
  },
  {
   "cell_type": "markdown",
   "metadata": {},
   "source": [
    "The first step is to import the nextflow package:"
   ]
  },
  {
   "cell_type": "code",
   "execution_count": 1,
   "metadata": {},
   "outputs": [],
   "source": [
    "from camber import nextflow"
   ]
  },
  {
   "cell_type": "markdown",
   "metadata": {},
   "source": [
    "\n",
    "Here's an example of how to setup configurations and execute a job:\n",
    "\n",
    "* `command`: The full Nextflow command to run the [nf-core/mag](https://nf-co.re/mag/3.4.0/parameters/) pipeline.\n",
    "\n",
    "    * `--input`: `\"./samplesheet.csv\"`: the relative path of `samplesheet.csv` file to the current notebook. In case of using local fastq files, the locations in `samplesheet.csv` file content are relative.\n",
    "\t\n",
    "\t* `--outdir`: `\"./outputs\"`: the location stores output data of the job.\n",
    "\n",
    "* `node_size`=`\"MICRO\"`: indicate [node size](https://docs.cambercloud.com/docs/engines-pricing/#cpu-engine-sizes) to perform the job.\n",
    "\n",
    "* `num_nodes`=`4`: indicate number of nodes to run workflow tasks in parallel when possible."
   ]
  },
  {
   "cell_type": "code",
   "execution_count": 3,
   "metadata": {},
   "outputs": [],
   "source": [
    "# Declare URLs to download necessary files\n",
    "kraken2_db = \"https://raw.githubusercontent.com/nf-core/test-datasets/mag/test_data/minigut_kraken.tgz\"\n",
    "centrifuge_db = \"https://raw.githubusercontent.com/nf-core/test-datasets/mag/test_data/minigut_cf.tar.gz\"\n",
    "busco_db = \"https://busco-data.ezlab.org/v5/data/lineages/bacteria_odb10.2024-01-08.tar.gz\"\n",
    "gtdb_db = \"https://data.ace.uq.edu.au/public/gtdb/data/releases/release220/220.0/auxillary_files/gtdbtk_package/full_package/gtdbtk_r220_data.tar.gz\""
   ]
  },
  {
   "cell_type": "code",
   "execution_count": null,
   "metadata": {},
   "outputs": [],
   "source": [
    "command = f\"nextflow run nf-core/mag \\\n",
    "    --input ./samplesheet.csv \\\n",
    "    --outdir ./outputs \\\n",
    "    --kraken2_db {kraken2_db} \\\n",
    "    --centrifuge_db {centrifuge_db} \\\n",
    "    --busco_db {busco_db} \\\n",
    "    --gtdb_db {gtdb_db} \\\n",
    "    --skip_krona true \\\n",
    "    --skip_gtdbtk true \\\n",
    "    --skip_maxbin2 true \\\n",
    "    -r 3.4.0\""
   ]
  },
  {
   "cell_type": "code",
   "execution_count": null,
   "metadata": {},
   "outputs": [],
   "source": [
    "nf_mag_job = nextflow.create_job(\n",
    "    command=command,\n",
    "    node_size=\"XXSMALL\",\n",
    "    num_nodes=8\n",
    ")"
   ]
  },
  {
   "cell_type": "markdown",
   "metadata": {},
   "source": [
    "\n",
    "This step is to check [job status](https://docs.cambercloud.com/docs/reference/job-attributes/#status):"
   ]
  },
  {
   "cell_type": "code",
   "execution_count": null,
   "metadata": {},
   "outputs": [],
   "source": [
    "nf_mag_job.status"
   ]
  },
  {
   "cell_type": "markdown",
   "metadata": {},
   "source": [
    "\n",
    "To monitor job exectution, you can show job logs in real-time by `read_logs` method:"
   ]
  },
  {
   "cell_type": "code",
   "execution_count": null,
   "metadata": {},
   "outputs": [],
   "source": [
    "nf_mag_job.read_logs()"
   ]
  },
  {
   "cell_type": "markdown",
   "metadata": {},
   "source": [
    "\n",
    "When the job is done, you can discover and download the results and logs of the job by two ways:\n",
    "\n",
    "1. Browser data directly in notebook environment:\n",
    "<p style=\"text-align:left;\"><img src=\"https://raw.githubusercontent.com/CamberCloud-Inc/demos/refs/heads/main/30-applications/02-genomics/mag/images/notebook_mag_outputs.png\" alt=\"image\" width=\"50%\" /></p>\n",
    "\n",
    "2. Go to the Stash UI:\n",
    "<p style=\"text-align:left;\"><img src=\"https://raw.githubusercontent.com/CamberCloud-Inc/demos/refs/heads/main/30-applications/02-genomics/mag/images/stash_ui_nf_mag_outputs.png\" alt=\"image\" width=\"100%\" /></p>"
   ]
  },
  {
   "cell_type": "markdown",
   "metadata": {},
   "source": [
    "This tutorial demonstrates how Camber simplifies running the `nf-core/mag` pipeline. You can try it with your own metagenomic data, easily setting up the pipeline, monitoring job status, and retrieving results. With Camber’s cloud infrastructure, you can scale your analysis effortlessly and focus on deriving insights from your data."
   ]
  },
  {
   "cell_type": "markdown",
   "metadata": {},
   "source": [
    "***Note:** Please note that the files and folders saved in the `demos` directory are temporary and will be reset after each JupyterHub session. We recommend changing the value of `--outdir` to a different location if you wish to store your data permanently.*"
   ]
  },
  {
   "cell_type": "markdown",
   "metadata": {},
   "source": []
  }
 ],
 "metadata": {
  "kernelspec": {
   "display_name": "CamberPy",
   "language": "python",
   "name": "python3"
  },
  "language_info": {
   "codemirror_mode": {
    "name": "ipython",
    "version": 3
   },
   "file_extension": ".py",
   "mimetype": "text/x-python",
   "name": "python",
   "nbconvert_exporter": "python",
   "pygments_lexer": "ipython3",
   "version": "3.12.7"
  }
 },
 "nbformat": 4,
 "nbformat_minor": 4
}

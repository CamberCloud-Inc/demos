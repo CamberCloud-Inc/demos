{
 "cells": [
  {
   "cell_type": "markdown",
   "metadata": {},
   "source": [
    "This tutorial demonstrates how to run a variant calling workflow using Camber, which simplifies configuring and executing genomics pipelines at scale. Variant calling is a key step in analyzing whole genome and targeted sequencing data, identifying germline and somatic mutations that can be important for understanding genetic diseases, cancer, and other biological questions. In this example, we use the [nf-core/sarek](https://nf-co.re/sarek/3.5.1/) pipeline, a standard workflow for variant detection that supports tumor/normal comparisons and joint variant calling."
   ]
  },
  {
   "cell_type": "markdown",
   "metadata": {},
   "source": [
    "The first step is to import the camber package:"
   ]
  },
  {
   "cell_type": "code",
   "execution_count": null,
   "metadata": {},
   "outputs": [],
   "source": [
    "import camber"
   ]
  },
  {
   "cell_type": "markdown",
   "metadata": {},
   "source": [
    "\n",
    "Here's an example of how to configure and execute a job:\n",
    "\n",
    "* `command`: The full Nextflow command to run the [nf-core/sarek](https://nf-co.re/sarek/3.5.1/parameters/) pipeline.\n",
    "\n",
    "    * `--input`: `\"./samplesheet.csv\"`: the relative path of `samplesheet.csv` file to the current notebook. In case of using local fastq files, the locations in `samplesheet.csv` file content are relative.\n",
    "\t\n",
    "\t* `--outdir`: `\"./outputs\"`: the location stores output data of the job.\n",
    "\n",
    "\t* `--tools`: `\"freebayes\"`: specifies the tool that will be used to perform variant calling\n",
    "\n",
    "* `node_size`=`\"MICRO\"`: indicate [node size](https://docs.cambercloud.com/docs/engines-pricing/#cpu-engine-sizes) to perform the job.\n",
    "\n",
    "* `num_nodes`=`4`: indicate number of nodes to run workflow tasks in parallel when possible."
   ]
  },
  {
   "cell_type": "code",
   "execution_count": null,
   "metadata": {},
   "outputs": [],
   "source": [
    "command = \"nextflow run nf-core/sarek \\\n",
    "    --input ./samplesheet.csv \\\n",
    "    --outdir ./outputs \\\n",
    "    --tools freebayes \\\n",
    "    -r 3.5.1\""
   ]
  },
  {
   "cell_type": "code",
   "execution_count": null,
   "metadata": {},
   "outputs": [],
   "source": [
    "nf_sarek_job = camber.nextflow.create_job(\n",
    "    command=command,\n",
    "    node_size=\"SMALL\",\n",
    "    num_nodes=4,\n",
    ")"
   ]
  },
  {
   "cell_type": "markdown",
   "metadata": {},
   "source": [
    "\n",
    "This step is to check [job status](https://docs.cambercloud.com/docs/reference/job-attributes/#status):"
   ]
  },
  {
   "cell_type": "code",
   "execution_count": null,
   "metadata": {},
   "outputs": [],
   "source": [
    "nf_sarek_job.status"
   ]
  },
  {
   "cell_type": "markdown",
   "metadata": {},
   "source": [
    "\n",
    "To monitor job exectution, you can show job logs in real-time by `read_logs` method:"
   ]
  },
  {
   "cell_type": "code",
   "execution_count": null,
   "metadata": {},
   "outputs": [],
   "source": [
    "nf_sarek_job.read_logs()"
   ]
  },
  {
   "cell_type": "markdown",
   "metadata": {},
   "source": [
    "\n",
    "When the job is done, you can discover and download the results of the job by two ways:\n",
    "\n",
    "1. View data directly in notebook environment by visiting the `--outdir` directory in the root of your notebook container:\n",
    "<p style=\"text-align:left;\"><img src=\"https://raw.githubusercontent.com/CamberCloud-Inc/demos/refs/heads/main/30-applications/02-genomics/variant-calling/images/notebook_sarek_outputs.png\" alt=\"image\" width=\"33%\" /></p>\n",
    "\n",
    "2. Go to the Stash UI and visit the `--outdir` directory:\n",
    "<p style=\"text-align:left;\"><img src=\"https://raw.githubusercontent.com/CamberCloud-Inc/demos/refs/heads/main/30-applications/02-genomics/variant-calling/images/stash_ui_sarek_outputs.png\" alt=\"image\" width=\"100%\" /></p>"
   ]
  },
  {
   "cell_type": "markdown",
   "metadata": {},
   "source": [
    "The resulting VCF files from variant calling are available in the `variant_calling` directory and can be downloaded or further analyzed directly within this notebook."
   ]
  },
  {
   "cell_type": "markdown",
   "metadata": {},
   "source": [
    "***Note:** Please note that the files and folders saved in the `demos` directory are temporary and will be reset after each JupyterHub session. We recommend changing the value of `--outdir` to a different location if you wish to store your data permanently.*"
   ]
  },
  {
   "cell_type": "markdown",
   "metadata": {},
   "source": []
  }
 ],
 "metadata": {
  "kernelspec": {
   "display_name": "CamberPy",
   "language": "python",
   "name": "python3"
  },
  "language_info": {
   "codemirror_mode": {
    "name": "ipython",
    "version": 3
   },
   "file_extension": ".py",
   "mimetype": "text/x-python",
   "name": "python",
   "nbconvert_exporter": "python",
   "pygments_lexer": "ipython3",
   "version": "3.12.7"
  }
 },
 "nbformat": 4,
 "nbformat_minor": 4
}

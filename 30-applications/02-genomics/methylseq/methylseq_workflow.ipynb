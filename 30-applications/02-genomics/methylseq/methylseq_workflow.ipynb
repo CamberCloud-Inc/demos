{
 "cells": [
  {
   "cell_type": "markdown",
   "metadata": {},
   "source": [
    "Methylation sequencing (Methyl-Seq) is a key tool for studying DNA methylation, an essential epigenetic modification influencing gene expression and cellular function. The [nf-core/methylseq](https://nf-co.re/methylseq/3.0.0/) pipeline simplifies the analysis of Methyl-Seq data, offering a robust and reproducible workflow. Running this pipeline on the Camber platform, powered by the [Nextflow Engine](https://docs.cambercloud.com/docs/reference/python-api/nextflow/), makes it easy to perform complex bioinformatics tasks with minimal effort, providing scalability and efficiency for researchers."
   ]
  },
  {
   "cell_type": "markdown",
   "metadata": {},
   "source": [
    "The first step is to import the nextflow package:"
   ]
  },
  {
   "cell_type": "code",
   "execution_count": 1,
   "metadata": {},
   "outputs": [],
   "source": [
    "from camber import nextflow"
   ]
  },
  {
   "cell_type": "markdown",
   "metadata": {},
   "source": [
    "\n",
    "\n",
    "Here's an example of how to setup configurations and execute a job:\n",
    "\n",
    "* `command`: The full Nextflow command to run the [nf-core/methylseq](https://nf-co.re/methylseq/3.0.0/parameters/) pipeline.\n",
    "\n",
    "    * `--input`: `\"./samplesheet.csv\"`: the relative path of `samplesheet.csv` file to the current notebook. In case of using local fastq files, the locations in `samplesheet.csv` file content are relative.\n",
    "\t\n",
    "\t* `--outdir`: `\"./outputs\"`: the location stores output data of the job.\n",
    "\n",
    "* `engine_size`=`\"MICRO\"`: indicate [engine size](https://docs.cambercloud.com/docs/engines-pricing/#cpu-engine-sizes) to perform the job.\n",
    "\n",
    "* `num_engines`=`4`: indicate number of engines to run workflow tasks in parallel when possible."
   ]
  },
  {
   "cell_type": "code",
   "execution_count": null,
   "metadata": {},
   "outputs": [],
   "source": [
    "command = \"nextflow run nf-core/methylseq \\\n",
    "    --input ./samplesheet.csv \\\n",
    "    --outdir ./outputs \\\n",
    "    --genome GRCh37 \\\n",
    "    -r 3.0.0\""
   ]
  },
  {
   "cell_type": "code",
   "execution_count": null,
   "metadata": {},
   "outputs": [],
   "source": [
    "nf_methylseq_job = nextflow.create_job(\n",
    "    command=command,\n",
    "    engine_size=\"MICRO\",\n",
    "    num_engines=4\n",
    ")"
   ]
  },
  {
   "cell_type": "markdown",
   "metadata": {},
   "source": [
    "\n",
    "This step is to check [job status](https://docs.cambercloud.com/docs/reference/job-attributes/#status):"
   ]
  },
  {
   "cell_type": "code",
   "execution_count": null,
   "metadata": {},
   "outputs": [],
   "source": [
    "nf_methylseq_job.status"
   ]
  },
  {
   "cell_type": "markdown",
   "metadata": {},
   "source": [
    "\n",
    "To monitor job exectution, you can show job logs in real-time by `read_logs` method:"
   ]
  },
  {
   "cell_type": "code",
   "execution_count": null,
   "metadata": {},
   "outputs": [],
   "source": [
    "nf_methylseq_job.read_logs()"
   ]
  },
  {
   "cell_type": "markdown",
   "metadata": {},
   "source": [
    "\n",
    "When the job is done, you can discover and download the results and logs of the job by two ways:\n",
    "\n",
    "1. Browser data directly in notebook environment:\n",
    "<p style=\"text-align:left;\"><img src=\"https://raw.githubusercontent.com/CamberCloud-Inc/demos/refs/heads/main/30-applications/02-genomics/methylseq/images/notebook_methylseq_outputs.png\" alt=\"image\" width=\"50%\" /></p>\n",
    "\n",
    "2. Go to the Stash UI:\n",
    "<p style=\"text-align:left;\"><img src=\"https://raw.githubusercontent.com/CamberCloud-Inc/demos/refs/heads/main/30-applications/02-genomics/methylseq/images/stash_ui_methylseq_outputs.png\" alt=\"image\" width=\"100%\" /></p>"
   ]
  },
  {
   "cell_type": "markdown",
   "metadata": {},
   "source": [
    "This tutorial highlights how Camber simplifies running the nf-core/methylseq pipeline, enabling efficient execution and result retrieval, making it a great choice for Methyl-Seq analysis."
   ]
  },
  {
   "cell_type": "markdown",
   "metadata": {},
   "source": [
    "***Note:** Please note that the files and folders saved in the `demos` directory are temporary and will be reset after each JupyterHub session. We recommend changing the value of `--outdir` to a different location if you wish to store your data permanently.*"
   ]
  }
 ],
 "metadata": {
  "kernelspec": {
   "display_name": "CamberPy",
   "language": "python",
   "name": "python3"
  },
  "language_info": {
   "codemirror_mode": {
    "name": "ipython",
    "version": 3
   },
   "file_extension": ".py",
   "mimetype": "text/x-python",
   "name": "python",
   "nbconvert_exporter": "python",
   "pygments_lexer": "ipython3",
   "version": "3.12.7"
  }
 },
 "nbformat": 4,
 "nbformat_minor": 4
}

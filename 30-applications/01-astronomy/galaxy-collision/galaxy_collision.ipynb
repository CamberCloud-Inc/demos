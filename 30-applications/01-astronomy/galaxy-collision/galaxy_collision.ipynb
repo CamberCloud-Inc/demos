{
  "cells": [
    {
      "cell_type": "markdown",
      "id": "343ad1f0-6149-4f1b-bb10-f894a432f8d7",
      "metadata": {},
      "source": [
        "In this tutorial, use the vanilla version of [Gadget4](https://wwwmpa.mpa-garching.mpg.de/gadget4/) on Camber to simulate a galaxy collision.\n",
        "\n",
        "Since the galaxy collision example comes with Gadget4 source code, we focus more on showcasing how you can with Gadget4 on Camber."
      ]
    },
    {
      "cell_type": "markdown",
      "id": "7ad08934-1b4a-4685-9c63-166ffc802d8d",
      "metadata": {},
      "source": [
        "\n",
        "## Set up Gadget4\n",
        "\n",
        "First, we will need to clone the Gadget4 [repo](https://github.com/CamberCloud-Inc/gadget4-camber/tree/camber).\n",
        "You will notice that this is not the official Gadget4 [repo](https://gitlab.mpcdf.mpg.de/vrs/gadget4).\n",
        "We made certain changes to the vanilla version of the code to make it work with the Camber platform.\n",
        "\n",
        "To be specific, the following files are added/modified:\n",
        "\n",
        "__buildsystem/Makefile.comp.camber__ (added)\n",
        "```\n",
        "CC       =  mpicc   -std=c11  # sets the C-compiler\n",
        "CPP      =  mpicxx  -std=c++11 # sets the C++-compiler\n",
        "OPTIMIZE =  -ggdb -O3 -march=native  -Wall -Wno-format-security -L$(ZLIB_HOME)/lib \n",
        "\n",
        "ifeq (EXPLICIT_VECTORIZATION,$(findstring EXPLICIT_VECTORIZATION,$(CONFIGVARS)))\n",
        "CFLAGS_VECTOR += -mavx2  # enables generation of AVX instructions (used through vectorclass)\n",
        "CPV      =  $(CPP)\n",
        "else\n",
        "CFLAGS_VECTOR = \n",
        "CPV      =  $(CPP)\n",
        "endif\n",
        "```\n",
        "__buildsystem/Makefile.path.camber__ (added)\n",
        "```\n",
        "GSL_INCL   =  -I$(GSL_HOME)/include\n",
        "GSL_LIBS   =  -L$(GSL_HOME)/lib  -Xlinker -R -Xlinker $(GSL_HOME)/lib\n",
        "FFTW_INCL  =  -I$(FFTW_HOME)/include\n",
        "FFTW_LIBS  =  -L$(FFTW_HOME)/lib  -Xlinker -R -Xlinker $(FFTW_HOME)/lib\n",
        "HDF5_INCL  =  -I$(HDF5_HOME)/include\n",
        "HDF5_LIBS  =  -L$(HDF5_HOME)/lib -Xlinker -R -Xlinker $(HDF5_HOME)/lib\n",
        "HWLOC_INCL =  -I$(HWLOC_HOME)/include \n",
        "HWLOC_LIBS =  -L$(HWLOC_HOME)/lib -Xlinker -R -Xlinker $(HWLOC_HOME)/lib\n",
        "```\n",
        "__Makefile__ (modified)\n",
        "```\n",
        "ifeq ($(SYSTYPE),\"bwforcluster\")\n",
        "include buildsystem/Makefile.comp.gcc\n",
        "include buildsystem/Makefile.path.bwforcluster\n",
        "endif\n",
        "\n",
        "+ ifeq ($(SYSTYPE),\"camber\")\n",
        "+ include buildsystem/Makefile.comp.camber\n",
        "+ include buildsystem/Makefile.path.camber\n",
        "+ endif\n",
        "\n",
        "ifndef LINKER\n",
        "LINKER = $(CPP)\n",
        "endif\n",
        "```\n",
        "\n",
        "These are standard changes a user have to make when setting up Gadget4 on a new platform.\n",
        "We've made them for you so you can just focus on running the simulation.\n",
        "If you wish to bring your own Gadget source code, however, you have to make these changes yourself, and maybe add more to what we already have."
      ]
    },
    {
      "cell_type": "code",
      "execution_count": null,
      "id": "576c37d6-6acf-4db5-8d6a-782293c387eb",
      "metadata": {
        "tags": []
      },
      "outputs": [
        {
          "name": "stdout",
          "output_type": "stream",
          "text": [
            "Cloning into 'gadget4'...\n",
            "remote: Enumerating objects: 342, done.\u001b[K\n",
            "remote: Counting objects: 100% (342/342), done.\u001b[K\n",
            "remote: Compressing objects: 100% (285/285), done.\u001b[K\n",
            "remote: Total 342 (delta 57), reused 308 (delta 52), pack-reused 0 (from 0)\u001b[K\n",
            "Receiving objects: 100% (342/342), 1.74 MiB | 7.03 MiB/s, done.\n",
            "Resolving deltas: 100% (57/57), done.\n",
            "Updating files: 100% (301/301), done.\n"
          ]
        }
      ],
      "source": [
        "!rm -rf gadget4\n",
        "!git clone -b camber --single-branch --depth 1 https://github.com/CamberCloud-Inc/gadget4-camber.git gadget4"
      ]
    },
    {
      "cell_type": "markdown",
      "id": "17b5408b-8050-425a-ad62-7d3c6f8684bc",
      "metadata": {},
      "source": [
        "\n",
        "\n",
        "## Run your simulation\n",
        "\n",
        "First, let's `import camber`."
      ]
    },
    {
      "cell_type": "code",
      "execution_count": null,
      "id": "9d6f87bc-3427-4a25-b0e3-7ed0c85a3939",
      "metadata": {
        "tags": []
      },
      "outputs": [],
      "source": [
        "import camber"
      ]
    },
    {
      "cell_type": "markdown",
      "id": "2f600e46-69aa-4d28-9cc7-e9417806ece6",
      "metadata": {},
      "source": [
        "\n",
        "Gadget4 requires you to build from the root level of the repository, and recommends creating separate directories for simulations through the usage of the `DIR` variable.\n",
        "The `DIR` variable indicates a path to the working directory relative from your current directory, which should be the root of your gadget repo.\n",
        "Also note the addition of the `SYSTYPE` environment variable, this is required during build so Gadget4 could compile with the right dependencies."
      ]
    },
    {
      "cell_type": "code",
      "execution_count": null,
      "id": "9ab28333-b4ef-4893-8d47-990f0af4972a",
      "metadata": {
        "tags": []
      },
      "outputs": [],
      "source": [
        "build = camber.mpi.create_job(\n",
        "    command=\"make -j 8 DIR=examples/G2-galaxy\",  # path relative to the root of gadget repo\n",
        "    mount_dir=\"./gadget4\",  # mount to the root level of the gadget repo, making it the working directory\n",
        "    extra_env_vars={\"SYSTYPE\": \"camber\"},  # ensure you use the camber systype\n",
        "    node_size=\"XSMALL\",\n",
        ")"
      ]
    },
    {
      "cell_type": "markdown",
      "id": "dea6199b-ee82-4ce7-a649-80abace413d7",
      "metadata": {},
      "source": [
        "\n",
        "We can check on the status of `build` by running the cell below. It should complete within the minute."
      ]
    },
    {
      "cell_type": "code",
      "execution_count": null,
      "id": "8e7761ff-67a0-4acd-ae5e-df09d92cdbe4",
      "metadata": {
        "tags": []
      },
      "outputs": [],
      "source": [
        "build"
      ]
    },
    {
      "cell_type": "markdown",
      "id": "9d6b1532-013e-45d3-90b5-565e868a42de",
      "metadata": {},
      "source": [
        "\n",
        "Gadget4 binaries compiled on the Camber platform are always MPI-aware.\n",
        "This means we can and should run them using `mpirun`.\n",
        "Let's run the simulation using MPI over 16 cores on a `SMALL` instance.\n",
        "\n",
        "Note that we are changing the mount directory, this is the recommended so that you could run the simulation directly next to your binaries."
      ]
    },
    {
      "cell_type": "code",
      "execution_count": null,
      "id": "391a0f9f-1e23-448d-a176-5dc9bc14e431",
      "metadata": {
        "tags": []
      },
      "outputs": [],
      "source": [
        "run = camber.mpi.create_job(\n",
        "    command=\"mpirun -np 16 ./Gadget4 param.txt\",\n",
        "    mount_dir=\"./gadget4/examples/G2-galaxy\",  # mount to the root level of the build directory just now\n",
        "    node_size=\"SMALL\",\n",
        ")"
      ]
    },
    {
      "cell_type": "markdown",
      "id": "770b9b8b-d9ba-47f2-af90-8886fd72fede",
      "metadata": {
        "tags": []
      },
      "source": [
        "\n",
        "Check the status of your simulation by executing the cell below. The simulation should only take a few minutes."
      ]
    },
    {
      "cell_type": "code",
      "execution_count": null,
      "id": "f9bed716-77ad-482a-9432-ae527c9e72f5",
      "metadata": {
        "tags": []
      },
      "outputs": [],
      "source": [
        "run"
      ]
    },
    {
      "cell_type": "markdown",
      "id": "42b85a75-fb17-4625-be63-f6897c0a25f3",
      "metadata": {},
      "source": [
        "\n",
        "Once the job goes into `COMPLETED` status, you could read or download its logs."
      ]
    },
    {
      "cell_type": "code",
      "execution_count": null,
      "id": "59a7cb9e-9df9-4374-b511-de5ef92537dd",
      "metadata": {
        "tags": []
      },
      "outputs": [
        {
          "name": "stdout",
          "output_type": "stream",
          "text": [
            "Final time=3 reached. Simulation ends.\n",
            "RESTART: Writing restart files.\n",
            "RESTART: Backing up restart files...\n",
            "RESTART: no pre-existing restart files for renaming were found.\n",
            "RESTART: Writing restart files group #1 out of 16...\n",
            "RESTART: Writing restart files group #2 out of 16...\n",
            "RESTART: Writing restart files group #3 out of 16...\n",
            "RESTART: Writing restart files group #4 out of 16...\n",
            "RESTART: Writing restart files group #5 out of 16...\n",
            "RESTART: Writing restart files group #6 out of 16...\n",
            "RESTART: Writing restart files group #7 out of 16...\n",
            "RESTART: Writing restart files group #8 out of 16...\n",
            "RESTART: Writing restart files group #9 out of 16...\n",
            "RESTART: Writing restart files group #10 out of 16...\n",
            "RESTART: Writing restart files group #11 out of 16...\n",
            "RESTART: Writing restart files group #12 out of 16...\n",
            "RESTART: Writing restart files group #13 out of 16...\n",
            "RESTART: Writing restart files group #14 out of 16...\n",
            "RESTART: Writing restart files group #15 out of 16...\n",
            "RESTART: Writing restart files group #16 out of 16...\n",
            "RESTART: done. load/save took 0.111144 sec, total size 7.9483 MB, corresponds to effective I/O rate of 71.5135 MB/sec\n",
            "endrun called, calling MPI_Finalize()\n",
            "bye!\n",
            "\n",
            "ACCEL: Start tree gravity force computation... (1626 particles)"
          ]
        }
      ],
      "source": [
        "run.read_logs(tail_lines=25)"
      ]
    },
    {
      "cell_type": "code",
      "execution_count": null,
      "id": "d57f9a99-4f56-474b-a45a-2fadbae233b4",
      "metadata": {
        "tags": []
      },
      "outputs": [],
      "source": [
        "run.download_log()"
      ]
    },
    {
      "cell_type": "markdown",
      "id": "6ca0ead3-e7e3-4a1a-9223-b30f0a33c64d",
      "metadata": {},
      "source": [
        "\n",
        "Congratulations, you just ran your first Gadget simulation on Camber!\n",
        "It should be noted that there are other examples in the Gadget4 repository in the `examples` folder.\n",
        "You are welcome to try them out as well following the same flow from above."
      ]
    }
  ],
  "metadata": {
    "kernelspec": {
      "display_name": "PyCamber",
      "language": "python",
      "name": "python3"
    },
    "language_info": {
      "codemirror_mode": {
        "name": "ipython",
        "version": 3
      },
      "file_extension": ".py",
      "mimetype": "text/x-python",
      "name": "python",
      "nbconvert_exporter": "python",
      "pygments_lexer": "ipython3",
      "version": "3.10.10"
    }
  },
  "nbformat": 4,
  "nbformat_minor": 5
}

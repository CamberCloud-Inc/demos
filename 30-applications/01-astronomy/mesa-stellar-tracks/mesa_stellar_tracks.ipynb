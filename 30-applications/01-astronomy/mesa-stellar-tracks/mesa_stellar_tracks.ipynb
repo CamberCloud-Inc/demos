{
 "cells": [
  {
   "cell_type": "markdown",
   "id": "23db8f90-95dc-495f-86f0-a6d17712eddd",
   "metadata": {},
   "source": [
    "In this tutorial, use Camber to generate some [Modules for Experiments in Stellar Astrophysics (MESA)](https://docs.mesastar.org/en/24.08.1/) Stellar Tracks. \n",
    "Watch a population of stars evolve from the pre-main-sequence (pMS) to the zero-age-main-sequence (ZAMS), and then evolve them once more to the end of their hydrogen core-burning phase of evolution.\n",
    "\n",
    "To execute the workload efficiently, this tutorial uses the [`scatter_job()`](/docs/tutorials/scatter/) to execute many simulations in parallel.\n",
    "In short, the flow is as follows:\n",
    "1. Initialize a set of [inlist](https://docs.mesastar.org/en/24.08.1/using_mesa/building_inlists.html) files, essentially a configuration file that defines the parameters to evolve one star.\n",
    "1. Execute one job for each of these inlists in parallel.\n",
    "1. Plot the output of each evolution in one chart.\n",
    "\n",
    "## Set up your MESA environment\n",
    "\n",
    "First, import Camber and the libraries to do calculation and visualization:\n",
    "\n"
   ]
  },
  {
   "cell_type": "code",
   "execution_count": 1,
   "id": "39c17668-29a4-4066-be17-5c863847376c",
   "metadata": {
    "tags": []
   },
   "outputs": [],
   "source": [
    "import camber\n",
    "import os\n",
    "import pandas as pd \n",
    "import numpy as np\n",
    "import smplotlib\n",
    "import matplotlib.pyplot as plt\n",
    "%matplotlib inline\n",
    "import mesa_reader as mr\n"
   ]
  },
  {
   "cell_type": "markdown",
   "id": "d327e702-295a-43e2-824f-7518cfc3e855",
   "metadata": {},
   "source": [
    "\n",
    "\n",
    "Then, define a function that creates an ensemble of stellar tracks, ranging in mass from `minMass` to `maxMass` with an interval size `dm`.\n",
    "\n"
   ]
  },
  {
   "cell_type": "code",
   "execution_count": 2,
   "id": "34f02910-4ff5-41eb-9e5c-7c25247d4657",
   "metadata": {
    "tags": []
   },
   "outputs": [],
   "source": [
    "def create_table(minMass, maxMass, dm):\n",
    "    # Calculate the number of intervals\n",
    "    num_intervals = int((maxMass - minMass) / dm) + 1    \n",
    "    # Generate the values based on the intervals\n",
    "    values = [minMass + i * dm for i in range(num_intervals)]\n",
    "    # Generate ZAMS file names\n",
    "    zams_file = [f\"{round(val, 1)}Msun_zams.mod\" for val in values]\n",
    "    hcore_file = [f\"{round(val, 1)}Msun_hcore.mod\" for val in values]\n",
    "    #outdir= [f\"{val}Msun\" for val in values]\n",
    "    # Create a DataFrame\n",
    "    df = pd.DataFrame({'mass': values, 'zams_file':zams_file,'hcore_file':hcore_file})\n",
    "    return df"
   ]
  },
  {
   "cell_type": "markdown",
   "id": "7d7392af-9350-4e9e-8078-b646690f4b74",
   "metadata": {},
   "source": [
    "Let's range between 1-2 Msuns with an interval of 0.5 Msun. "
   ]
  },
  {
   "cell_type": "code",
   "execution_count": 3,
   "id": "c56ee2eb-a37f-4580-9b13-ef72f9c9df5c",
   "metadata": {
    "tags": []
   },
   "outputs": [
    {
     "data": {
      "text/html": [
       "<div>\n",
       "<style scoped>\n",
       "    .dataframe tbody tr th:only-of-type {\n",
       "        vertical-align: middle;\n",
       "    }\n",
       "\n",
       "    .dataframe tbody tr th {\n",
       "        vertical-align: top;\n",
       "    }\n",
       "\n",
       "    .dataframe thead th {\n",
       "        text-align: right;\n",
       "    }\n",
       "</style>\n",
       "<table border=\"1\" class=\"dataframe\">\n",
       "  <thead>\n",
       "    <tr style=\"text-align: right;\">\n",
       "      <th></th>\n",
       "      <th>mass</th>\n",
       "      <th>zams_file</th>\n",
       "      <th>hcore_file</th>\n",
       "    </tr>\n",
       "  </thead>\n",
       "  <tbody>\n",
       "    <tr>\n",
       "      <th>0</th>\n",
       "      <td>1.0</td>\n",
       "      <td>1.0Msun_zams.mod</td>\n",
       "      <td>1.0Msun_hcore.mod</td>\n",
       "    </tr>\n",
       "    <tr>\n",
       "      <th>1</th>\n",
       "      <td>1.5</td>\n",
       "      <td>1.5Msun_zams.mod</td>\n",
       "      <td>1.5Msun_hcore.mod</td>\n",
       "    </tr>\n",
       "    <tr>\n",
       "      <th>2</th>\n",
       "      <td>2.0</td>\n",
       "      <td>2.0Msun_zams.mod</td>\n",
       "      <td>2.0Msun_hcore.mod</td>\n",
       "    </tr>\n",
       "    <tr>\n",
       "      <th>3</th>\n",
       "      <td>2.5</td>\n",
       "      <td>2.5Msun_zams.mod</td>\n",
       "      <td>2.5Msun_hcore.mod</td>\n",
       "    </tr>\n",
       "    <tr>\n",
       "      <th>4</th>\n",
       "      <td>3.0</td>\n",
       "      <td>3.0Msun_zams.mod</td>\n",
       "      <td>3.0Msun_hcore.mod</td>\n",
       "    </tr>\n",
       "    <tr>\n",
       "      <th>5</th>\n",
       "      <td>3.5</td>\n",
       "      <td>3.5Msun_zams.mod</td>\n",
       "      <td>3.5Msun_hcore.mod</td>\n",
       "    </tr>\n",
       "    <tr>\n",
       "      <th>6</th>\n",
       "      <td>4.0</td>\n",
       "      <td>4.0Msun_zams.mod</td>\n",
       "      <td>4.0Msun_hcore.mod</td>\n",
       "    </tr>\n",
       "    <tr>\n",
       "      <th>7</th>\n",
       "      <td>4.5</td>\n",
       "      <td>4.5Msun_zams.mod</td>\n",
       "      <td>4.5Msun_hcore.mod</td>\n",
       "    </tr>\n",
       "  </tbody>\n",
       "</table>\n",
       "</div>"
      ],
      "text/plain": [
       "   mass         zams_file         hcore_file\n",
       "0   1.0  1.0Msun_zams.mod  1.0Msun_hcore.mod\n",
       "1   1.5  1.5Msun_zams.mod  1.5Msun_hcore.mod\n",
       "2   2.0  2.0Msun_zams.mod  2.0Msun_hcore.mod\n",
       "3   2.5  2.5Msun_zams.mod  2.5Msun_hcore.mod\n",
       "4   3.0  3.0Msun_zams.mod  3.0Msun_hcore.mod\n",
       "5   3.5  3.5Msun_zams.mod  3.5Msun_hcore.mod\n",
       "6   4.0  4.0Msun_zams.mod  4.0Msun_hcore.mod\n",
       "7   4.5  4.5Msun_zams.mod  4.5Msun_hcore.mod"
      ]
     },
     "execution_count": 3,
     "metadata": {},
     "output_type": "execute_result"
    }
   ],
   "source": [
    "minMass=1.0 ## \n",
    "maxMass=4.5\n",
    "dm=0.5\n",
    "df = create_table(minMass,maxMass,dm)\n",
    "df"
   ]
  },
  {
   "cell_type": "markdown",
   "id": "adecf012-3218-4b99-a4d6-de1bfd4c082f",
   "metadata": {
    "tags": []
   },
   "source": [
    "\n",
    "\n",
    "## Generate inlist files\n",
    "\n",
    "Now generate ZAMS stars from pMS collapse. To generate a ZAMS star, specify an inlist that includes the function `create_pre_main_sequence_model = .true.`\n",
    "This inlist is called `inlist_create_zams`.\n",
    "Note that the `param_sets` variable is going to be passed as an agrument to the MESA [`create_scatter_job`](/docs/python-api/engines/mesa/#create_scatter_job) method.\n",
    "These params are the template for the jobs to execute in parallel.\n",
    "\n"
   ]
  },
  {
   "cell_type": "code",
   "execution_count": 4,
   "id": "4ed308b6-aa49-46e5-856b-a5df37c17538",
   "metadata": {
    "tags": []
   },
   "outputs": [],
   "source": [
    "jobs = camber.mesa.create_scatter_job(\n",
    "    param_sets=[\n",
    "        {\n",
    "            \"INLIST\": \"'inlist_create_zams'\",\n",
    "            \"OUTPUT_MOD\": '\"' + str(row['zams_file']) + '\"',  # Add extra quotes around the value\n",
    "            \"INIT_MASS\": str(row['mass'])\n",
    "        }\n",
    "        for _, row in df.iterrows()\n",
    "    ],\n",
    "    inlist_files = ['inlist','inlist_create_zams'],\n",
    "    engine_size='SMALL'\n",
    ")"
   ]
  },
  {
   "cell_type": "markdown",
   "id": "ed40b3ea-e9e0-4c41-a513-a7e0641bc61f",
   "metadata": {},
   "source": [
    "\n",
    "\n",
    "This may take a few minutes on a small engine. To view the job status, you can return the `jobs` object:\n",
    "\n"
   ]
  },
  {
   "cell_type": "code",
   "execution_count": 12,
   "id": "d2aff4c5-2374-4227-9427-32ab5bdb8987",
   "metadata": {
    "tags": []
   },
   "outputs": [
    {
     "data": {
      "text/plain": [
       "[CamberJob({\"job_id\": 6955, \"status\": \"COMPLETED\", \"engine_size\": \"SMALL\", \"engine_type\": \"MESA\", \"command\": \"./mk && ./rn\", \"with_gpu\": false}),\n",
       " CamberJob({\"job_id\": 6953, \"status\": \"COMPLETED\", \"engine_size\": \"SMALL\", \"engine_type\": \"MESA\", \"command\": \"./mk && ./rn\", \"with_gpu\": false}),\n",
       " CamberJob({\"job_id\": 6948, \"status\": \"COMPLETED\", \"engine_size\": \"SMALL\", \"engine_type\": \"MESA\", \"command\": \"./mk && ./rn\", \"with_gpu\": false}),\n",
       " CamberJob({\"job_id\": 6951, \"status\": \"COMPLETED\", \"engine_size\": \"SMALL\", \"engine_type\": \"MESA\", \"command\": \"./mk && ./rn\", \"with_gpu\": false}),\n",
       " CamberJob({\"job_id\": 6949, \"status\": \"COMPLETED\", \"engine_size\": \"SMALL\", \"engine_type\": \"MESA\", \"command\": \"./mk && ./rn\", \"with_gpu\": false}),\n",
       " CamberJob({\"job_id\": 6952, \"status\": \"COMPLETED\", \"engine_size\": \"SMALL\", \"engine_type\": \"MESA\", \"command\": \"./mk && ./rn\", \"with_gpu\": false}),\n",
       " CamberJob({\"job_id\": 6954, \"status\": \"COMPLETED\", \"engine_size\": \"SMALL\", \"engine_type\": \"MESA\", \"command\": \"./mk && ./rn\", \"with_gpu\": false}),\n",
       " CamberJob({\"job_id\": 6950, \"status\": \"COMPLETED\", \"engine_size\": \"SMALL\", \"engine_type\": \"MESA\", \"command\": \"./mk && ./rn\", \"with_gpu\": false})]"
      ]
     },
     "execution_count": 12,
     "metadata": {},
     "output_type": "execute_result"
    }
   ],
   "source": [
    "jobs"
   ]
  },
  {
   "cell_type": "markdown",
   "id": "a731c927-b182-438e-b24b-9c17386e764c",
   "metadata": {},
   "source": [
    "\n",
    "\n",
    "Once all statuses are `COMPLETED`, you've generated your ZAMS files! Camber creates a final ZAMS model, appended with `zams.mod`, in each of the respective directories. \n",
    "These ZAMS mod files are the requisite input files to evolve our stars from ZAMS to the next stage of evolution (in our case, H-Core burning).\n",
    "\n",
    "\n",
    "Let's move these files to our main directory:\n",
    "\n"
   ]
  },
  {
   "cell_type": "code",
   "execution_count": 13,
   "id": "89599525-8685-4ac4-b1cf-b0b246be2169",
   "metadata": {
    "tags": []
   },
   "outputs": [],
   "source": [
    "!find $(pwd) -maxdepth 1 -type d -name \"00*\" -exec sh -c 'cp \"$1\"/*.mod $(pwd)' sh {} \\;"
   ]
  },
  {
   "cell_type": "markdown",
   "id": "d8569f02-88e2-4178-86b9-79a1a67dc2a2",
   "metadata": {},
   "source": [
    "\n",
    "\n",
    "Now evolve each of our ZAMS stellar tracks along the H-core burning sequence.\n",
    "To parameterize this, define another table of `param_sets`:\n",
    "\n"
   ]
  },
  {
   "cell_type": "code",
   "execution_count": 14,
   "id": "62b592ef-4dc4-4b83-b5ab-2e6f8e5e0104",
   "metadata": {
    "tags": []
   },
   "outputs": [
    {
     "data": {
      "text/plain": [
       "[{'INLIST': \"'inlist_hcoreburning'\",\n",
       "  'INPUT_MOD': '\"1.0Msun_zams.mod\"',\n",
       "  'INIT_MASS': '1.0',\n",
       "  'OUTPUT_MOD': '\"1.0Msun_hcore.mod\"'},\n",
       " {'INLIST': \"'inlist_hcoreburning'\",\n",
       "  'INPUT_MOD': '\"1.5Msun_zams.mod\"',\n",
       "  'INIT_MASS': '1.5',\n",
       "  'OUTPUT_MOD': '\"1.5Msun_hcore.mod\"'},\n",
       " {'INLIST': \"'inlist_hcoreburning'\",\n",
       "  'INPUT_MOD': '\"2.0Msun_zams.mod\"',\n",
       "  'INIT_MASS': '2.0',\n",
       "  'OUTPUT_MOD': '\"2.0Msun_hcore.mod\"'},\n",
       " {'INLIST': \"'inlist_hcoreburning'\",\n",
       "  'INPUT_MOD': '\"2.5Msun_zams.mod\"',\n",
       "  'INIT_MASS': '2.5',\n",
       "  'OUTPUT_MOD': '\"2.5Msun_hcore.mod\"'},\n",
       " {'INLIST': \"'inlist_hcoreburning'\",\n",
       "  'INPUT_MOD': '\"3.0Msun_zams.mod\"',\n",
       "  'INIT_MASS': '3.0',\n",
       "  'OUTPUT_MOD': '\"3.0Msun_hcore.mod\"'},\n",
       " {'INLIST': \"'inlist_hcoreburning'\",\n",
       "  'INPUT_MOD': '\"3.5Msun_zams.mod\"',\n",
       "  'INIT_MASS': '3.5',\n",
       "  'OUTPUT_MOD': '\"3.5Msun_hcore.mod\"'},\n",
       " {'INLIST': \"'inlist_hcoreburning'\",\n",
       "  'INPUT_MOD': '\"4.0Msun_zams.mod\"',\n",
       "  'INIT_MASS': '4.0',\n",
       "  'OUTPUT_MOD': '\"4.0Msun_hcore.mod\"'},\n",
       " {'INLIST': \"'inlist_hcoreburning'\",\n",
       "  'INPUT_MOD': '\"4.5Msun_zams.mod\"',\n",
       "  'INIT_MASS': '4.5',\n",
       "  'OUTPUT_MOD': '\"4.5Msun_hcore.mod\"'}]"
      ]
     },
     "execution_count": 14,
     "metadata": {},
     "output_type": "execute_result"
    }
   ],
   "source": [
    "param_sets=[\n",
    "    {   \n",
    "        \"INLIST\": \"'inlist_hcoreburning'\",\n",
    "        \"INPUT_MOD\": '\"' + str(row['zams_file']) + '\"',  # Add extra quotes around the value\n",
    "        \"INIT_MASS\": str(row['mass']),\n",
    "        \"OUTPUT_MOD\": '\"' + str(row['hcore_file']) + '\"',  # Add extra quotes around the value\n",
    "    }\n",
    "    for _, row in df.iterrows()]\n",
    "param_sets"
   ]
  },
  {
   "cell_type": "code",
   "execution_count": 15,
   "id": "c6bf48eb-3ea4-4a5f-be06-7446dc7e584b",
   "metadata": {
    "tags": []
   },
   "outputs": [],
   "source": [
    "\n",
    "\n",
    "zams_mod_files = [file for file in os.listdir(\"./\") if file.endswith(\"zams.mod\")]\n",
    "zams_mod_files=sorted(zams_mod_files)\n",
    "\n"
   ]
  },
  {
   "cell_type": "markdown",
   "id": "34d39127-b137-4e1e-be70-b0f8010c99c0",
   "metadata": {},
   "source": [
    "\n",
    "\n",
    "Run another `scatter_job` with the H-Core burning inlist files:\n",
    "\n"
   ]
  },
  {
   "cell_type": "code",
   "execution_count": 26,
   "id": "8a89edeb-9fee-42d9-ac55-a25085ee1cf3",
   "metadata": {
    "tags": []
   },
   "outputs": [],
   "source": [
    "jobs = camber.mesa.create_scatter_job(\n",
    "    param_sets=[\n",
    "        {   \"INLIST\": \"'inlist_hcoreburning'\",\n",
    "            \"INPUT_MOD\":str(row['zams_file']),\n",
    "            \"OUTPUT_MOD\": str(row['hcore_file']),\n",
    "            \"INIT_MASS\": str(row['mass'])\n",
    "        }\n",
    "        for _, row in df.iterrows()\n",
    "    ],\n",
    "    inlist_files = ['inlist','inlist_hcoreburning'],\n",
    "    model_files=zams_mod_files,\n",
    "    engine_size='SMALL'\n",
    ")"
   ]
  },
  {
   "cell_type": "markdown",
   "id": "cf416ecc-e379-4ccd-ac07-134d739e1ac8",
   "metadata": {},
   "source": [
    "\n",
    "\n",
    "This too takes just a few minutes to complete, but you can start plotting as soon as your files begin to be generated.\n",
    "Check the status with:\n",
    "\n"
   ]
  },
  {
   "cell_type": "code",
   "execution_count": 31,
   "id": "efa504e0-daff-4ced-a27c-a414612c7a08",
   "metadata": {
    "tags": []
   },
   "outputs": [
    {
     "name": "stdout",
     "output_type": "stream",
     "text": [
      "6967 :  RUNNING\n",
      "6970 :  RUNNING\n",
      "6966 :  RUNNING\n",
      "6965 :  RUNNING\n",
      "6964 :  RUNNING\n",
      "6969 :  RUNNING\n",
      "6968 :  RUNNING\n",
      "6971 :  RUNNING\n"
     ]
    }
   ],
   "source": [
    "for i in range(len(jobs)):\n",
    "    print(jobs[i].job_id, \": \", jobs[i].status)\n",
    "    "
   ]
  },
  {
   "cell_type": "markdown",
   "id": "47103995-6427-4c94-b583-944c2078194d",
   "metadata": {},
   "source": [
    "\n",
    "\n",
    "Once the statuses are `RUNNING`, you can start to plot results.\n",
    "\n",
    "## Plot results\n",
    "\n"
   ]
  },
  {
   "cell_type": "code",
   "execution_count": 32,
   "id": "298b007f-1138-4921-b156-acc4385f084e",
   "metadata": {
    "tags": []
   },
   "outputs": [
    {
     "data": {
      "image/png": "[encoded data removed]",
      "text/plain": [
       "<Figure size 480x720 with 1 Axes>"
      ]
     },
     "metadata": {},
     "output_type": "display_data"
    }
   ],
   "source": [
    "fig = plt.figure(figsize=(4,6))\n",
    "maxx=4.4\n",
    "minx=3.5\n",
    "miny=-0.5\n",
    "maxy=4.5\n",
    "\n",
    "dirs = sorted([file for file in os.listdir(\"./\") if file.startswith(\"00\")])\n",
    "for d in dirs:\n",
    "    h=mr.MesaData(str(d)+'/LOGS/history.data')\n",
    "    plt.plot(h.log_Teff,h.log_L,linewidth=0.75,zorder=1,label=str(round(h.star_mass[0],4))+' $M_{\\odot}$',color='black')\n",
    "    plt.annotate(str(round(h.star_mass[0],4))+' $M_{\\odot}$', (max(h.log_Teff)+0.12,h.log_L[0]),fontsize=8)\n",
    "\n",
    "plt.xlim(maxx,minx)\n",
    "plt.ylim(miny,maxy)\n",
    "plt.grid(alpha=0.25)\n",
    "plt.xlabel('$\\log$(Teff)')\n",
    "plt.ylabel('$\\log$(L)')\n",
    "plt.show()\n",
    "\n"
   ]
  },
  {
   "cell_type": "markdown",
   "id": "46539f43-13f8-453d-8ab0-833d7e180969",
   "metadata": {},
   "source": [
    "\n",
    "\n",
    "It's always a good practice to clean-up after yourself. Go ahead and clear the jobs:\n",
    "\n"
   ]
  },
  {
   "cell_type": "code",
   "execution_count": 28,
   "id": "3a62f6f0-fedd-4191-901a-a22b9b526cbd",
   "metadata": {
    "tags": []
   },
   "outputs": [],
   "source": [
    "# Uncomment when you're sure you want to stop the jobs\n",
    "# for job in jobs:\n",
    "#    job.clear()"
   ]
  },
  {
   "cell_type": "markdown",
   "id": "7a6956d0-50ec-47ae-b51b-a14071018eb6",
   "metadata": {},
   "source": [
    "Fin!"
   ]
  }
 ],
 "metadata": {
  "kernelspec": {
   "display_name": "PyCamber",
   "language": "python",
   "name": "python3"
  },
  "language_info": {
   "codemirror_mode": {
    "name": "ipython",
    "version": 3
   },
   "file_extension": ".py",
   "mimetype": "text/x-python",
   "name": "python",
   "nbconvert_exporter": "python",
   "pygments_lexer": "ipython3",
   "version": "3.10.10"
  }
 },
 "nbformat": 4,
 "nbformat_minor": 5
}

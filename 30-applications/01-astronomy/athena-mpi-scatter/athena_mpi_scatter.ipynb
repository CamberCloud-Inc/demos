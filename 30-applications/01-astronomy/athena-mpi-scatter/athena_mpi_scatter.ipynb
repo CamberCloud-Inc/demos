{
 "cells": [
  {
   "cell_type": "markdown",
   "id": "0eec5905-b2cf-40e1-be80-c4d11b95233d",
   "metadata": {},
   "source": [
    "\n",
    "\n",
    "In this tutorial, use the [create_scatter_job()](https://docs.cambercloud.com/docs/python-api/mpi/#create_scatter_job) function to run [Athena++](https://github.com/PrincetonUniversity/athena) code to create parallel MPI simulations of a spherical blast wave.\n",
    "\n",
    "\n",
    "## Spin-Up MPI cluster, compile, and execute simulation code\n",
    "\n",
    "First import Camber:\n",
    "\n"
   ]
  },
  {
   "cell_type": "code",
   "execution_count": 4,
   "id": "6a3fd93d-2edb-44b9-be1f-751f149060ea",
   "metadata": {
    "tags": []
   },
   "outputs": [],
   "source": [
    "import camber"
   ]
  },
  {
   "cell_type": "markdown",
   "id": "2fac8b82-6dab-4c24-ad6f-ac02350334a8",
   "metadata": {},
   "source": [
    "\n",
    "\n",
    "If needed, clone the Athena repo:\n",
    "\n"
   ]
  },
  {
   "cell_type": "code",
   "execution_count": 6,
   "id": "b7f3bcfe-110f-40f2-a30a-581274f08dae",
   "metadata": {
    "tags": []
   },
   "outputs": [
    {
     "name": "stdout",
     "output_type": "stream",
     "text": [
      "fatal: destination path 'athena' already exists and is not an empty directory.\n"
     ]
    }
   ],
   "source": [
    "# working directory is where the notebook is located\n",
    "!git clone https://github.com/PrincetonUniversity/athena.git"
   ]
  },
  {
   "cell_type": "markdown",
   "id": "5554e71b-2439-4036-ace0-d8ed61089244",
   "metadata": {},
   "source": [
    "\n",
    "\n",
    "Create an MPI job to compile Athena++. This ensures the code is compiled with the correct MPI environment:\n",
    "\n"
   ]
  },
  {
   "cell_type": "code",
   "execution_count": 9,
   "id": "55569c2d-242f-4dc1-9f8d-4018dea641e9",
   "metadata": {
    "tags": []
   },
   "outputs": [],
   "source": [
    "compile_job = camber.mpi.create_job(\n",
    "    command=\"cd athena && python configure.py --prob=blast -mpi -hdf5 --hdf5_path=${HDF5_PATH} && make clean && make all -j$(nproc)\",\n",
    "    engine_size=\"SMALL\"\n",
    ")"
   ]
  },
  {
   "cell_type": "code",
   "execution_count": 16,
   "id": "644e09d0-5f61-4f82-97aa-809898a85df6",
   "metadata": {
    "tags": []
   },
   "outputs": [
    {
     "data": {
      "text/plain": [
       "'FAILED'"
      ]
     },
     "execution_count": 16,
     "metadata": {},
     "output_type": "execute_result"
    }
   ],
   "source": [
    "# check the status of the job\n",
    "compile_job.status"
   ]
  },
  {
   "cell_type": "markdown",
   "id": "b448ffcc-6a10-4aef-8398-de9ebaae9f1f",
   "metadata": {},
   "source": [
    "\n",
    "Define the parameters:\n"
   ]
  },
  {
   "cell_type": "code",
   "execution_count": 17,
   "id": "a51a33f5-d0a5-4bf2-805b-7f25ba207867",
   "metadata": {
    "tags": []
   },
   "outputs": [],
   "source": [
    "# The blast problem begins with a central sphere of material with higher pressure than its surroundings.\n",
    "# The prat parameter sets the ratio. In this case, four values ranging from a factor of 10 to a factor of 300.\n",
    "params = {\n",
    "    \"prat\": [\"10\", \"30\", \"100\", \"300\"]\n",
    "}"
   ]
  },
  {
   "cell_type": "code",
   "execution_count": null,
   "id": "2b4cca24-7adc-4f32-ab41-71a0933d9ee0",
   "metadata": {
    "tags": []
   },
   "outputs": [],
   "source": [
    "# run scatter jobs using MEDIUM engines\n",
    "# here we take advantage Athena's functionality for over-writing a parameter in the input file frome the\n",
    "# command line as well as the ability to set the runtime directory\n",
    "jobs = camber.mpi.create_scatter_job(\n",
    "    command_template=\"mpirun -np 16 athena/bin/athena -i athinput.blast problem/prat={prat} -d run{prat}\",\n",
    "    template_params_grid=params,\n",
    "    engine_size=\"MEDIUM\"\n",
    ")"
   ]
  },
  {
   "cell_type": "code",
   "execution_count": 18,
   "id": "b340c4d1-df1e-4a66-a7ca-53293cbafed4",
   "metadata": {
    "tags": []
   },
   "outputs": [
    {
     "ename": "NameError",
     "evalue": "name 'jobs' is not defined",
     "output_type": "error",
     "traceback": [
      "\u001b[0;31m---------------------------------------------------------------------------\u001b[0m",
      "\u001b[0;31mNameError\u001b[0m                                 Traceback (most recent call last)",
      "Cell \u001b[0;32mIn[18], line 2\u001b[0m\n\u001b[1;32m      1\u001b[0m \u001b[38;5;66;03m# lets check in on how are jobs are doing\u001b[39;00m\n\u001b[0;32m----> 2\u001b[0m \u001b[43mjobs\u001b[49m\n",
      "\u001b[0;31mNameError\u001b[0m: name 'jobs' is not defined"
     ]
    }
   ],
   "source": [
    "# lets check in on how are jobs are doing\n",
    "jobs"
   ]
  },
  {
   "cell_type": "code",
   "execution_count": null,
   "id": "cb8eba30-1eb7-4dd7-857b-108252da5e83",
   "metadata": {
    "tags": []
   },
   "outputs": [],
   "source": [
    "# Prepare a directory for output images\n",
    "!mkdir output_images"
   ]
  },
  {
   "cell_type": "code",
   "execution_count": null,
   "id": "1c2e038c",
   "metadata": {},
   "outputs": [],
   "source": [
    "# import a custom script for reading and plotting the hdf5 outputs, placing images in the output_images directory\n",
    "# each frame is a 2D slice throught the center of the 3D cartesian grid. This assumes each simulation output\n",
    "# is in its own runtime directory. We pass the same params dictionary used above for the scatter job.\n",
    "from plot_output import plot_output\n",
    "plot_output(params, \"prat\")"
   ]
  },
  {
   "cell_type": "markdown",
   "id": "3c46fe89-b9f8-40d9-8d1c-672583ea642c",
   "metadata": {},
   "source": [
    "### Visualize Data"
   ]
  },
  {
   "cell_type": "code",
   "execution_count": null,
   "id": "cf9f1fa4-b18c-45b6-b276-88a1fbd02a5e",
   "metadata": {
    "tags": []
   },
   "outputs": [],
   "source": [
    "from IPython.display import Video\n",
    "Video(\"density.mov\")"
   ]
  }
 ],
 "metadata": {
  "kernelspec": {
   "display_name": "PyCamber",
   "language": "python",
   "name": "python3"
  },
  "language_info": {
   "codemirror_mode": {
    "name": "ipython",
    "version": 3
   },
   "file_extension": ".py",
   "mimetype": "text/x-python",
   "name": "python",
   "nbconvert_exporter": "python",
   "pygments_lexer": "ipython3",
   "version": "3.10.10"
  }
 },
 "nbformat": 4,
 "nbformat_minor": 5
}

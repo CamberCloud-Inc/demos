{
 "cells": [
  {
   "cell_type": "markdown",
   "id": "09f61f72-fe41-4851-8aeb-57c479092f55",
   "metadata": {},
   "source": [
    "\n",
    "\n",
    "Many scientific libraries are being modernized or created to take advantage of GPU acceleration. When the code is designed effectively, this code runs much faster with GPUs than it can with CPUs alone, even large multicore CPUs. For many applications, using GPUs is more cost effective than using large multicore CPUs. So, if you run GPU-optimized code on GPU-accelerated hardwared, you can complete calculations faster, saving time and money .\n",
    "\n",
    "Camber’s platform can run codes using on-demand GPU instances. This tutorial uses the Athena engine to run [Athenak](https://github.com/IAS-Astrophysics/athenak), a code that has been written to obtain high performance with GPUs. Here, simulate the [Kelvin-Helmholtz instability](https://en.wikipedia.org/wiki/Kelvin%E2%80%93Helmholtz_instability) in 2D and visualize the results.\n",
    "\n",
    "## Build your GPU-run Athena engine\n",
    "\n",
    "The first step is to set up the Athena instance.\n",
    "Note the `use_gpu` flag when initializing the engine.\n",
    "\n"
   ]
  },
  {
   "cell_type": "code",
   "execution_count": null,
   "id": "a7e13f38-44ef-416c-a28f-e2e6ab11f39f",
   "metadata": {
    "tags": []
   },
   "outputs": [],
   "source": [
    "from camber.athena import AthenaEngine\n",
    "!git clone --recursive https://github.com/IAS-Astrophysics/athenak.git\n",
    "# initialize a single Athena Engine with gpu acceleration\n",
    "engine = AthenaEngine(engine_size='XSMALL',use_gpu=True,num_engines=1)"
   ]
  },
  {
   "cell_type": "markdown",
   "id": "3aada4ad-f30b-4706-bab5-518ddab1a216",
   "metadata": {},
   "source": [
    "\n",
    "\n",
    "Note that this engine uses the `XSMALL` engine size. You can increase this size to run on a GPU cluster. For details, refer to [Engine Attributes](/docs/reference/engine-attributes/#gpu-sizes).\n",
    "\n",
    "Now use the [`build()`](/docs/python-api/engines/athena/#build) method to create an Athena executable that runs the Kelvin-Helmholtz problem. You might need to wait for the GPU instance to be assigned. You can check if the status is pending with engine `history` attribute.\n",
    "\n"
   ]
  },
  {
   "cell_type": "code",
   "execution_count": null,
   "id": "6e830f09-2e44-4c2d-ac84-172a8410cfe0",
   "metadata": {
    "tags": []
   },
   "outputs": [],
   "source": [
    "# Build AthenaK to run the Kelvin-Helmholtz problem by selecting the \"kh\" problem generator\n",
    "engine.build(problem_generator=\"kh\")"
   ]
  },
  {
   "cell_type": "code",
   "execution_count": null,
   "id": "d833ee21-4647-4502-864d-965ca27735bb",
   "metadata": {
    "tags": []
   },
   "outputs": [],
   "source": [
    "# Check the status of jobs run with this engine\n",
    "engine.history"
   ]
  },
  {
   "cell_type": "markdown",
   "id": "e50616d0-69d9-4722-826f-260b0177ea51",
   "metadata": {},
   "source": [
    "\n",
    "\n",
    "Once the build finishes, you can run the job with your input file:\n",
    "\n"
   ]
  },
  {
   "cell_type": "code",
   "execution_count": null,
   "id": "d959b9ec-3e75-4fec-a464-02cc283c893b",
   "metadata": {
    "tags": []
   },
   "outputs": [],
   "source": [
    "# Now use the Athena Engine to run a job with \"kh.athinput\" input file\n",
    "engine.run(input_file=\"kh.athinput\")"
   ]
  },
  {
   "cell_type": "markdown",
   "id": "8937ca59-658e-4253-8538-5c6bbddec0a2",
   "metadata": {},
   "source": [
    "\n",
    "## Read data from cloud storage and process for visualization\n"
   ]
  },
  {
   "cell_type": "code",
   "execution_count": null,
   "id": "d80cc0fb-e294-4788-a3b6-a14ab5b3f982",
   "metadata": {
    "tags": []
   },
   "outputs": [],
   "source": [
    "# import a custom script for reading and plotting the AthenaK outputs, placing images in the output_images directory\n",
    "from plot_output_slice import plot_output\n",
    "!mkdir output_images \n",
    "plot_output()"
   ]
  },
  {
   "cell_type": "markdown",
   "id": "28c0c996-447e-4b15-ba67-eb027154dc50",
   "metadata": {},
   "source": [
    "### Visualize Data"
   ]
  },
  {
   "cell_type": "code",
   "execution_count": null,
   "id": "65f752ac-8bc2-4d9c-8b64-327598dd484e",
   "metadata": {
    "tags": []
   },
   "outputs": [],
   "source": [
    "from IPython.display import Video\n",
    "Video(\"density.mov\", width=800, height=800)"
   ]
  }
 ],
 "metadata": {
  "kernelspec": {
   "display_name": "PyCamber",
   "language": "python",
   "name": "python3"
  },
  "language_info": {
   "codemirror_mode": {
    "name": "ipython",
    "version": 3
   },
   "file_extension": ".py",
   "mimetype": "text/x-python",
   "name": "python",
   "nbconvert_exporter": "python",
   "pygments_lexer": "ipython3",
   "version": "3.10.10"
  }
 },
 "nbformat": 4,
 "nbformat_minor": 5
}

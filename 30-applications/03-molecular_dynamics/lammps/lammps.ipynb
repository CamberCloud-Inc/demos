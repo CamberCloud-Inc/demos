{
 "cells": [
  {
   "cell_type": "code",
   "execution_count": 27,
   "id": "76e7573d-dc41-4b25-ae91-11fe03798c15",
   "metadata": {},
   "outputs": [],
   "source": [
    "import camber"
   ]
  },
  {
   "cell_type": "code",
   "execution_count": 28,
   "id": "513fd89f-e942-42f6-b03c-d9bb35285518",
   "metadata": {},
   "outputs": [],
   "source": [
    "lmp_job = camber.lammps.create_job(\n",
    "    command=\"lmp -in unbreakable.lmp\",\n",
    "    engine_size=\"XSMALL\",\n",
    "    with_gpu=False\n",
    ")"
   ]
  },
  {
   "cell_type": "code",
   "execution_count": null,
   "id": "bcf4e3ff-6888-4ca0-839b-d2bdf7595d8b",
   "metadata": {},
   "outputs": [],
   "source": [
    "lmp_job.status"
   ]
  },
  {
   "cell_type": "code",
   "execution_count": null,
   "id": "c68c0064-31c2-4096-a5ac-00e6dc651135",
   "metadata": {},
   "outputs": [],
   "source": [
    "lmp_job.read_logs()"
   ]
  },
  {
   "cell_type": "code",
   "execution_count": null,
   "id": "39ff9527-e488-4093-a5a6-4facf7052a4e",
   "metadata": {},
   "outputs": [],
   "source": [
    "import os\n",
    "import MDAnalysis as mda\n",
    "import nglview as nv\n",
    "import ipywidgets as widgets\n",
    "from IPython.display import display\n",
    "import numpy as np\n",
    "\n",
    "base_path = os.getcwd()\n",
    "u = mda.Universe(os.path.join(base_path, \"trajectory.lammpstrj\"), format=\"LAMMPSDUMP\")\n",
    "\n",
    "try:\n",
    "    from MDAnalysis.lib.distances import distance_array\n",
    "    positions = u.atoms.positions\n",
    "    distances = distance_array(positions, positions)\n",
    "    bond_pairs = [(i, j) for i in range(len(u.atoms)) for j in range(i+1, len(u.atoms)) if 1.2 <= distances[i, j] <= 1.8]\n",
    "    if bond_pairs:\n",
    "        u.add_TopologyAttr('bonds', np.array(bond_pairs))\n",
    "except:\n",
    "    try:\n",
    "        u.atoms.guess_bonds(vdwradii={'1': 2.0}, fudge_factor=0.8)\n",
    "    except:\n",
    "        pass\n",
    "\n",
    "view = nv.show_mdanalysis(u, step=1)\n",
    "view.clear_representations()\n",
    "\n",
    "try:\n",
    "    if len(u.bonds) > 0:\n",
    "        view.add_representation('ball+stick', selection='all', radius=0.05, bond_radius=0.05, color='hotpink')\n",
    "    else:\n",
    "        raise ValueError()\n",
    "except:\n",
    "    view.add_representation('licorice', selection='all', radius=0.1, color='hotpink')\n",
    "\n",
    "play = widgets.Play(value=0, min=0, max=u.trajectory.n_frames-1, step=1, interval=10, description=\"▶️\")\n",
    "frame_slider = widgets.IntSlider(value=0, min=0, max=u.trajectory.n_frames-1, step=1, description='Frame:')\n",
    "\n",
    "widgets.jslink((play, 'value'), (view, 'frame'))\n",
    "widgets.jslink((frame_slider, 'value'), (view, 'frame'))\n",
    "\n",
    "display(widgets.HBox([play, frame_slider]))\n",
    "view"
   ]
  }
 ],
 "metadata": {
  "kernelspec": {
   "display_name": "CamberPy",
   "language": "python",
   "name": "python3"
  },
  "language_info": {
   "codemirror_mode": {
    "name": "ipython",
    "version": 3
   },
   "file_extension": ".py",
   "mimetype": "text/x-python",
   "name": "python",
   "nbconvert_exporter": "python",
   "pygments_lexer": "ipython3",
   "version": "3.12.7"
  }
 },
 "nbformat": 4,
 "nbformat_minor": 5
}

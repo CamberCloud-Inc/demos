{
 "cells": [
  {
   "cell_type": "code",
   "execution_count": 270,
   "id": "456c3946-c216-4245-a058-e46611ba0a5e",
   "metadata": {},
   "outputs": [],
   "source": [
    "import camber"
   ]
  },
  {
   "cell_type": "code",
   "execution_count": 271,
   "id": "728bdd05-106e-4225-b7a8-858d7ec28848",
   "metadata": {},
   "outputs": [],
   "source": [
    "gmx_job = camber.gromacs.create_job(\n",
    "    command=\"sh ./sim.sh\",\n",
    "    engine_size=\"XSMALL\",\n",
    "    with_gpu=True\n",
    ")"
   ]
  },
  {
   "cell_type": "code",
   "execution_count": null,
   "id": "be6b056a-993e-43a2-a94d-d70a21ed92e9",
   "metadata": {},
   "outputs": [],
   "source": [
    "gmx_job.status"
   ]
  },
  {
   "cell_type": "code",
   "execution_count": null,
   "id": "7807abe5-d91d-4a4d-8f1b-ab7d2c092291",
   "metadata": {
    "scrolled": true
   },
   "outputs": [],
   "source": [
    "gmx_job.read_logs()"
   ]
  },
  {
   "cell_type": "code",
   "execution_count": null,
   "id": "cafecdad-85e4-4356-813e-4bf4d6462dbc",
   "metadata": {},
   "outputs": [],
   "source": [
    "import os\n",
    "import MDAnalysis as mda\n",
    "import nglview as nv\n",
    "import ipywidgets as widgets\n",
    "from IPython.display import display\n",
    "\n",
    "# 1) load your PBC-corrected trajectory\n",
    "base_path = os.getcwd()\n",
    "u = mda.Universe(\n",
    "    os.path.join(base_path, \"output/min-s.tpr\"),\n",
    "    os.path.join(base_path, \"output/nvt_nopbc.xtc\")\n",
    ")\n",
    "view = nv.show_mdanalysis(u, step=10)\n",
    "\n",
    "view.clear_representations()\n",
    "view.add_representation('cartoon', selection='protein')\n",
    "view.add_representation('licorice', selection='resname SOL', radius=0.1)\n",
    "\n",
    "# 2) make a Play widget to drive `view.frame`\n",
    "play = widgets.Play(\n",
    "    value=0,\n",
    "    min=0,\n",
    "    max=view.max_frame,\n",
    "    step=1,\n",
    "    interval=10,      # ms between frames; lower = faster\n",
    "    description=\"▶️\",\n",
    "    continuous_update=True\n",
    ")\n",
    "\n",
    "# 3) link play.value → view.frame\n",
    "widgets.jslink((play, 'value'), (view, 'frame'))\n",
    "\n",
    "# 4) display controls + viewer\n",
    "display(widgets.HBox([play]))\n",
    "view\n"
   ]
  }
 ],
 "metadata": {
  "kernelspec": {
   "display_name": "CamberPy",
   "language": "python",
   "name": "python3"
  },
  "language_info": {
   "codemirror_mode": {
    "name": "ipython",
    "version": 3
   },
   "file_extension": ".py",
   "mimetype": "text/x-python",
   "name": "python",
   "nbconvert_exporter": "python",
   "pygments_lexer": "ipython3",
   "version": "3.12.7"
  }
 },
 "nbformat": 4,
 "nbformat_minor": 5
}

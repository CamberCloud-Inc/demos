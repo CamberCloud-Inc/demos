{
 "cells": [
  {
   "cell_type": "code",
   "execution_count": 270,
   "id": "456c3946-c216-4245-a058-e46611ba0a5e",
   "metadata": {},
   "outputs": [],
   "source": [
    "import camber"
   ]
  },
  {
   "cell_type": "code",
   "execution_count": 271,
   "id": "728bdd05-106e-4225-b7a8-858d7ec28848",
   "metadata": {},
   "outputs": [],
   "source": [
    "gmx_job = camber.gromacs.create_job(\n",
    "    command=\"sh ./sim.sh\",\n",
    "    engine_size=\"XSMALL\",\n",
    "    with_gpu=True\n",
    ")"
   ]
  },
  {
   "cell_type": "code",
   "execution_count": null,
   "id": "be6b056a-993e-43a2-a94d-d70a21ed92e9",
   "metadata": {},
   "outputs": [],
   "source": [
    "gmx_job.status"
   ]
  },
  {
   "cell_type": "code",
   "execution_count": null,
   "id": "7807abe5-d91d-4a4d-8f1b-ab7d2c092291",
   "metadata": {
    "scrolled": true
   },
   "outputs": [
    {
     "name": "stdout",
     "output_type": "stream",
     "text": [
      "Job logs are online at this momment, so you cannot use options head_lines or tail_lines.\n",
      "---\n"
     ]
    }
   ],
   "source": [
    "gmx_job.read_logs()"
   ]
  },
  {
   "cell_type": "code",
   "execution_count": 269,
   "id": "cafecdad-85e4-4356-813e-4bf4d6462dbc",
   "metadata": {},
   "outputs": [
    {
     "ename": "AttributeError",
     "evalue": "'NGLWidget' object has no attribute 'player'",
     "output_type": "error",
     "traceback": [
      "\u001b[0;31m---------------------------------------------------------------------------\u001b[0m",
      "\u001b[0;31mAttributeError\u001b[0m                            Traceback (most recent call last)",
      "Cell \u001b[0;32mIn[269], line 17\u001b[0m\n\u001b[1;32m     14\u001b[0m view\u001b[38;5;241m.\u001b[39madd_representation(\u001b[38;5;124m'\u001b[39m\u001b[38;5;124mlicorice\u001b[39m\u001b[38;5;124m'\u001b[39m, selection\u001b[38;5;241m=\u001b[39m\u001b[38;5;124m'\u001b[39m\u001b[38;5;124mresname SOL\u001b[39m\u001b[38;5;124m'\u001b[39m, radius\u001b[38;5;241m=\u001b[39m\u001b[38;5;241m0.1\u001b[39m)\n\u001b[1;32m     16\u001b[0m \u001b[38;5;66;03m# Tweak the player for speed:\u001b[39;00m\n\u001b[0;32m---> 17\u001b[0m \u001b[43mview\u001b[49m\u001b[38;5;241;43m.\u001b[39;49m\u001b[43mplayer\u001b[49m\u001b[38;5;241m.\u001b[39mdelay \u001b[38;5;241m=\u001b[39m \u001b[38;5;241m30\u001b[39m    \u001b[38;5;66;03m# delay between frames in ms (default ~200 ms)\u001b[39;00m\n\u001b[1;32m     18\u001b[0m view\u001b[38;5;241m.\u001b[39mplayer\u001b[38;5;241m.\u001b[39mplay()        \u001b[38;5;66;03m# start the animation loop\u001b[39;00m\n\u001b[1;32m     20\u001b[0m view\n",
      "\u001b[0;31mAttributeError\u001b[0m: 'NGLWidget' object has no attribute 'player'"
     ]
    }
   ],
   "source": [
    "import os\n",
    "import MDAnalysis as mda\n",
    "import nglview as nv\n",
    "import ipywidgets as widgets\n",
    "from IPython.display import display\n",
    "\n",
    "# 1) load your PBC-corrected trajectory\n",
    "base_path = os.getcwd()\n",
    "u = mda.Universe(\n",
    "    os.path.join(base_path, \"output/min-s.tpr\"),\n",
    "    os.path.join(base_path, \"output/nvt_nopbc.xtc\")\n",
    ")\n",
    "view = nv.show_mdanalysis(u, step=10)\n",
    "\n",
    "view.clear_representations()\n",
    "view.add_representation('cartoon', selection='protein')\n",
    "view.add_representation('licorice', selection='resname SOL', radius=0.1)\n",
    "\n",
    "# 2) make a Play widget to drive `view.frame`\n",
    "play = widgets.Play(\n",
    "    value=0,\n",
    "    min=0,\n",
    "    max=view.max_frame,\n",
    "    step=1,\n",
    "    interval=10,      # ms between frames; lower = faster\n",
    "    description=\"▶️\",\n",
    "    continuous_update=True\n",
    ")\n",
    "\n",
    "# 3) link play.value → view.frame\n",
    "widgets.jslink((play, 'value'), (view, 'frame'))\n",
    "\n",
    "# 4) display controls + viewer\n",
    "display(widgets.HBox([play]))\n",
    "view\n"
   ]
  },
  {
   "cell_type": "code",
   "execution_count": null,
   "id": "ce02f83e-daa7-40a1-9f54-5822081277a3",
   "metadata": {},
   "outputs": [],
   "source": []
  },
  {
   "cell_type": "code",
   "execution_count": null,
   "id": "5e3acc00-e634-4ef4-aafe-62cb2fe865e2",
   "metadata": {},
   "outputs": [],
   "source": []
  }
 ],
 "metadata": {
  "kernelspec": {
   "display_name": "CamberPy",
   "language": "python",
   "name": "python3"
  },
  "language_info": {
   "codemirror_mode": {
    "name": "ipython",
    "version": 3
   },
   "file_extension": ".py",
   "mimetype": "text/x-python",
   "name": "python",
   "nbconvert_exporter": "python",
   "pygments_lexer": "ipython3",
   "version": "3.12.7"
  }
 },
 "nbformat": 4,
 "nbformat_minor": 5
}

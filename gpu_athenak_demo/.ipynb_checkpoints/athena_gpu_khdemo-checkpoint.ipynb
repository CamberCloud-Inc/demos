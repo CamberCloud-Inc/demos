{
 "cells": [
  {
   "cell_type": "markdown",
   "id": "58f242c3-0460-4957-9dba-adf0bdb4eb60",
   "metadata": {},
   "source": [
    "### Spin-Up a GPU instance, compile, and execute the simulation code"
   ]
  },
  {
   "cell_type": "code",
   "execution_count": 6,
   "id": "a7e13f38-44ef-416c-a28f-e2e6ab11f39f",
   "metadata": {
    "tags": []
   },
   "outputs": [],
   "source": [
    "import camber"
   ]
  },
  {
   "cell_type": "code",
   "execution_count": 5,
   "id": "e0b40274-05b8-499a-bf60-7a7ae5a619aa",
   "metadata": {
    "tags": []
   },
   "outputs": [],
   "source": [
    "job = camber.athena.create_job(\n",
    "    \"cmake -DPROBLEM=kh \"\n",
    "    \"-DKokkos_ENABLE_CUDA=On \"\n",
    "    \"-DKokkos_ARCH_HOPPER90=On \"\n",
    "    \"-DCMAKE_CXX_COMPILER=$ATHENA_HOME/kokkos/bin/nvcc_wrapper \"\n",
    "    \"-DAthena_ENABLE_MPI=On \"\n",
    "    \"-Bbuild \"\n",
    "    \"$ATHENA_HOME\",\n",
    "    worker_size=\"XLARGE\",\n",
    "    with_gpu=True,\n",
    ")"
   ]
  },
  {
   "cell_type": "code",
   "execution_count": 8,
   "id": "6a5824f8-d4c6-4a92-b532-9cad65554b90",
   "metadata": {
    "tags": []
   },
   "outputs": [
    {
     "data": {
      "text/plain": [
       "AthenaJob({\"job_id\": 2896, \"status\": \"RUNNING\", \"worker_size\": \"XLARGE\", \"job_type\": \"ATHENA\", \"command\": \"cmake -DPROBLEM=kh -DKokkos_ENABLE_CUDA=On -DKokkos_ARCH_HOPPER90=On -DCMAKE_CXX_COMPILER=$ATHENA_HOME/kokkos/bin/nvcc_wrapper -DAthena_ENABLE_MPI=On -Bbuild $ATHENA_HOME\", \"file_dir\": \"h100/kh\", \"with_gpu\": true, \"tags\": null})"
      ]
     },
     "execution_count": 8,
     "metadata": {},
     "output_type": "execute_result"
    }
   ],
   "source": [
    "job"
   ]
  },
  {
   "cell_type": "code",
   "execution_count": 9,
   "id": "59840562-d6e4-44f8-bd5b-b17b11a70a8f",
   "metadata": {
    "tags": []
   },
   "outputs": [],
   "source": [
    "job = camber.athena.create_job(\n",
    "    \"cd build && make all -j$(nproc)\",\n",
    "    worker_size=\"XLARGE\",\n",
    "    with_gpu=True,\n",
    ")"
   ]
  },
  {
   "cell_type": "code",
   "execution_count": 10,
   "id": "efd98ad4-5025-4dee-9b61-7f355fb0fdc9",
   "metadata": {
    "tags": []
   },
   "outputs": [
    {
     "data": {
      "text/plain": [
       "AthenaJob({\"job_id\": 2897, \"status\": \"PENDING\", \"worker_size\": \"XLARGE\", \"job_type\": \"ATHENA\", \"command\": \"cd build && make all -j$(nproc)\", \"file_dir\": \"h100/kh\", \"with_gpu\": true, \"tags\": null})"
      ]
     },
     "execution_count": 10,
     "metadata": {},
     "output_type": "execute_result"
    }
   ],
   "source": [
    "job"
   ]
  },
  {
   "cell_type": "code",
   "execution_count": 30,
   "id": "6547d04c-0082-4cce-bb07-7bda92b569db",
   "metadata": {
    "tags": []
   },
   "outputs": [
    {
     "name": "stdout",
     "output_type": "stream",
     "text": [
      "(JOB 2871) - [INFO] - 2024-05-15T12:52:23.464986+00:00 [ 16%] Building CXX object kokkos/core/src/CMakeFiles/kokkoscore.dir/Serial/Kokkos_Serial_Task.cpp.o\n",
      "(JOB 2871) - [INFO] - 2024-05-15T12:52:23.464997+00:00 [ 16%] Building CXX object kokkos/core/src/CMakeFiles/kokkoscore.dir/Serial/Kokkos_Serial.cpp.o\n",
      "(JOB 2871) - [INFO] - 2024-05-15T12:52:23.465737+00:00 [ 16%] Building CXX object kokkos/core/src/CMakeFiles/kokkoscore.dir/__/__/tpls/desul/src/Lock_Array_CUDA.cpp.o\n",
      "(JOB 2871) - [INFO] - 2024-05-15T12:52:25.110001+00:00 -- Configured git information in /home/camber/workdir/build/kokkos/generated/Kokkos_Version_Info.cpp\n",
      "(JOB 2871) - [INFO] - 2024-05-15T12:52:25.121350+00:00 [ 16%] Built target AlwaysCheckGit\n",
      "(JOB 2871) - [INFO] - 2024-05-15T12:52:25.185122+00:00 [ 16%] Building CXX object kokkos/CMakeFiles/impl_git_version.dir/__/generated/Kokkos_Version_Info.cpp.o\n",
      "(JOB 2871) - [INFO] - 2024-05-15T12:52:25.251332+00:00 [ 17%] Linking CXX static library libkokkossimd.a\n",
      "(JOB 2871) - [INFO] - 2024-05-15T12:52:25.329234+00:00 [ 17%] Built target kokkossimd\n",
      "(JOB 2871) - [INFO] - 2024-05-15T12:52:27.292156+00:00 [ 18%] Linking CXX static library libimpl_git_version.a\n",
      "(JOB 2871) - [INFO] - 2024-05-15T12:52:27.370040+00:00 [ 18%] Built target impl_git_version\n"
     ]
    }
   ],
   "source": [
    "job.read_logs(tail_lines=10)"
   ]
  },
  {
   "cell_type": "code",
   "execution_count": 23,
   "id": "fa8da669-1f21-46bb-b214-71630daa0c0c",
   "metadata": {
    "tags": []
   },
   "outputs": [],
   "source": [
    "# Run Kelvin-Helmholtz problem\n",
    "job = camber.athena.create_job(\n",
    "    command=\"mpirun -np 8 build/src/athena -i kh.athinput\",\n",
    "    worker_size=\"XLARGE\",\n",
    "    with_gpu=True,\n",
    ")"
   ]
  },
  {
   "cell_type": "code",
   "execution_count": 27,
   "id": "156a5213-baf6-46d0-8d6e-5344ba7faa79",
   "metadata": {
    "tags": []
   },
   "outputs": [
    {
     "data": {
      "text/plain": [
       "[AthenaJob({\"job_id\": 2910, \"status\": \"RUNNING\", \"worker_size\": \"XLARGE\", \"job_type\": \"ATHENA\", \"command\": \"mpirun -np 8 build/src/athena -i kh.athinput\", \"file_dir\": \"h100/kh\", \"with_gpu\": false, \"tags\": null}),\n",
       " AthenaJob({\"job_id\": 2909, \"status\": \"COMPLETED\", \"worker_size\": \"XLARGE\", \"job_type\": \"ATHENA\", \"command\": \"mpirun -np 8 build/src/athena -i kh.athinput\", \"file_dir\": \"h100/kh\", \"with_gpu\": false, \"tags\": null}),\n",
       " AthenaJob({\"job_id\": 2908, \"status\": \"COMPLETED\", \"worker_size\": \"XLARGE\", \"job_type\": \"ATHENA\", \"command\": \"mpirun -np 8 build/src/athena -i kh.athinput\", \"file_dir\": \"h100/kh\", \"with_gpu\": false, \"tags\": null})]"
      ]
     },
     "execution_count": 27,
     "metadata": {},
     "output_type": "execute_result"
    }
   ],
   "source": [
    "camber.athena.list_jobs()[:3]"
   ]
  },
  {
   "cell_type": "code",
   "execution_count": 73,
   "id": "97aba6d9-53f3-4b9a-8c3e-5c359762bc76",
   "metadata": {
    "tags": []
   },
   "outputs": [
    {
     "data": {
      "text/plain": [
       "<module 'plot_output_slice' from '/home/shane/h100/kh/plot_output_slice.py'>"
      ]
     },
     "execution_count": 73,
     "metadata": {},
     "output_type": "execute_result"
    }
   ],
   "source": [
    "import importlib\n",
    "importlib.reload(plot_output_slice)"
   ]
  },
  {
   "cell_type": "markdown",
   "id": "f6b09c6d-0488-4b0e-a379-83d99583f8c5",
   "metadata": {},
   "source": [
    "### Plot the results and make a movie"
   ]
  },
  {
   "cell_type": "code",
   "execution_count": null,
   "id": "a5850f5d-a409-4379-860e-78a10556a097",
   "metadata": {},
   "outputs": [
    {
     "name": "stdout",
     "output_type": "stream",
     "text": [
      "<matplotlib.colors.LinearSegmentedColormap object at 0x7f9abbd2b3a0>\n",
      "plotting bin_8192/KH.hydro_w.00000.bin...\n",
      "plotting bin_8192/KH.hydro_w.00001.bin...\n",
      "plotting bin_8192/KH.hydro_w.00002.bin...\n",
      "plotting bin_8192/KH.hydro_w.00003.bin...\n",
      "plotting bin_8192/KH.hydro_w.00004.bin...\n",
      "plotting bin_8192/KH.hydro_w.00005.bin...\n",
      "plotting bin_8192/KH.hydro_w.00006.bin...\n",
      "plotting bin_8192/KH.hydro_w.00007.bin...\n",
      "plotting bin_8192/KH.hydro_w.00008.bin...\n",
      "plotting bin_8192/KH.hydro_w.00009.bin...\n",
      "plotting bin_8192/KH.hydro_w.00010.bin...\n",
      "plotting bin_8192/KH.hydro_w.00011.bin...\n",
      "plotting bin_8192/KH.hydro_w.00012.bin...\n",
      "plotting bin_8192/KH.hydro_w.00013.bin...\n",
      "plotting bin_8192/KH.hydro_w.00014.bin...\n",
      "plotting bin_8192/KH.hydro_w.00015.bin...\n",
      "plotting bin_8192/KH.hydro_w.00016.bin...\n",
      "plotting bin_8192/KH.hydro_w.00017.bin...\n",
      "plotting bin_8192/KH.hydro_w.00018.bin...\n",
      "plotting bin_8192/KH.hydro_w.00019.bin...\n",
      "plotting bin_8192/KH.hydro_w.00020.bin...\n",
      "plotting bin_8192/KH.hydro_w.00021.bin...\n",
      "plotting bin_8192/KH.hydro_w.00022.bin...\n",
      "plotting bin_8192/KH.hydro_w.00023.bin...\n",
      "plotting bin_8192/KH.hydro_w.00024.bin...\n",
      "plotting bin_8192/KH.hydro_w.00025.bin...\n",
      "plotting bin_8192/KH.hydro_w.00026.bin...\n",
      "plotting bin_8192/KH.hydro_w.00027.bin...\n",
      "plotting bin_8192/KH.hydro_w.00028.bin...\n",
      "plotting bin_8192/KH.hydro_w.00029.bin...\n",
      "plotting bin_8192/KH.hydro_w.00030.bin...\n",
      "plotting bin_8192/KH.hydro_w.00031.bin...\n",
      "plotting bin_8192/KH.hydro_w.00032.bin...\n",
      "plotting bin_8192/KH.hydro_w.00033.bin...\n",
      "plotting bin_8192/KH.hydro_w.00034.bin...\n",
      "plotting bin_8192/KH.hydro_w.00035.bin...\n",
      "plotting bin_8192/KH.hydro_w.00036.bin...\n",
      "plotting bin_8192/KH.hydro_w.00037.bin...\n",
      "plotting bin_8192/KH.hydro_w.00038.bin...\n",
      "plotting bin_8192/KH.hydro_w.00039.bin...\n",
      "plotting bin_8192/KH.hydro_w.00040.bin...\n",
      "plotting bin_8192/KH.hydro_w.00041.bin...\n",
      "plotting bin_8192/KH.hydro_w.00042.bin...\n",
      "plotting bin_8192/KH.hydro_w.00043.bin...\n",
      "plotting bin_8192/KH.hydro_w.00044.bin...\n",
      "plotting bin_8192/KH.hydro_w.00045.bin...\n",
      "plotting bin_8192/KH.hydro_w.00046.bin...\n",
      "plotting bin_8192/KH.hydro_w.00047.bin...\n",
      "plotting bin_8192/KH.hydro_w.00048.bin...\n",
      "plotting bin_8192/KH.hydro_w.00049.bin...\n",
      "plotting bin_8192/KH.hydro_w.00050.bin...\n",
      "plotting bin_8192/KH.hydro_w.00051.bin...\n",
      "plotting bin_8192/KH.hydro_w.00052.bin...\n",
      "plotting bin_8192/KH.hydro_w.00053.bin...\n",
      "plotting bin_8192/KH.hydro_w.00054.bin...\n",
      "plotting bin_8192/KH.hydro_w.00055.bin...\n",
      "plotting bin_8192/KH.hydro_w.00056.bin...\n",
      "plotting bin_8192/KH.hydro_w.00057.bin...\n",
      "plotting bin_8192/KH.hydro_w.00058.bin...\n",
      "plotting bin_8192/KH.hydro_w.00059.bin...\n",
      "plotting bin_8192/KH.hydro_w.00060.bin...\n",
      "plotting bin_8192/KH.hydro_w.00061.bin...\n",
      "plotting bin_8192/KH.hydro_w.00062.bin...\n",
      "plotting bin_8192/KH.hydro_w.00063.bin...\n",
      "plotting bin_8192/KH.hydro_w.00064.bin...\n",
      "plotting bin_8192/KH.hydro_w.00065.bin...\n",
      "plotting bin_8192/KH.hydro_w.00066.bin...\n",
      "plotting bin_8192/KH.hydro_w.00067.bin...\n",
      "plotting bin_8192/KH.hydro_w.00068.bin...\n",
      "plotting bin_8192/KH.hydro_w.00069.bin...\n",
      "plotting bin_8192/KH.hydro_w.00070.bin...\n",
      "plotting bin_8192/KH.hydro_w.00071.bin...\n",
      "plotting bin_8192/KH.hydro_w.00072.bin...\n",
      "plotting bin_8192/KH.hydro_w.00073.bin...\n",
      "plotting bin_8192/KH.hydro_w.00074.bin...\n",
      "plotting bin_8192/KH.hydro_w.00075.bin...\n",
      "plotting bin_8192/KH.hydro_w.00076.bin...\n",
      "plotting bin_8192/KH.hydro_w.00077.bin...\n",
      "plotting bin_8192/KH.hydro_w.00078.bin...\n",
      "plotting bin_8192/KH.hydro_w.00079.bin...\n",
      "plotting bin_8192/KH.hydro_w.00080.bin...\n",
      "plotting bin_8192/KH.hydro_w.00081.bin...\n",
      "plotting bin_8192/KH.hydro_w.00082.bin...\n",
      "plotting bin_8192/KH.hydro_w.00083.bin...\n",
      "plotting bin_8192/KH.hydro_w.00084.bin...\n",
      "plotting bin_8192/KH.hydro_w.00085.bin...\n",
      "plotting bin_8192/KH.hydro_w.00086.bin...\n",
      "plotting bin_8192/KH.hydro_w.00087.bin...\n",
      "plotting bin_8192/KH.hydro_w.00088.bin...\n",
      "plotting bin_8192/KH.hydro_w.00089.bin...\n",
      "plotting bin_8192/KH.hydro_w.00090.bin...\n",
      "plotting bin_8192/KH.hydro_w.00091.bin...\n",
      "plotting bin_8192/KH.hydro_w.00092.bin...\n",
      "plotting bin_8192/KH.hydro_w.00093.bin...\n",
      "plotting bin_8192/KH.hydro_w.00094.bin...\n",
      "plotting bin_8192/KH.hydro_w.00095.bin...\n",
      "plotting bin_8192/KH.hydro_w.00096.bin...\n",
      "plotting bin_8192/KH.hydro_w.00097.bin...\n",
      "plotting bin_8192/KH.hydro_w.00098.bin...\n",
      "plotting bin_8192/KH.hydro_w.00099.bin...\n",
      "plotting bin_8192/KH.hydro_w.00100.bin...\n",
      "plotting bin_8192/KH.hydro_w.00101.bin...\n",
      "plotting bin_8192/KH.hydro_w.00102.bin...\n",
      "plotting bin_8192/KH.hydro_w.00103.bin...\n",
      "plotting bin_8192/KH.hydro_w.00104.bin...\n",
      "plotting bin_8192/KH.hydro_w.00105.bin...\n",
      "plotting bin_8192/KH.hydro_w.00106.bin...\n",
      "plotting bin_8192/KH.hydro_w.00107.bin...\n",
      "plotting bin_8192/KH.hydro_w.00108.bin...\n",
      "plotting bin_8192/KH.hydro_w.00109.bin...\n",
      "plotting bin_8192/KH.hydro_w.00110.bin...\n",
      "plotting bin_8192/KH.hydro_w.00111.bin...\n",
      "plotting bin_8192/KH.hydro_w.00112.bin...\n",
      "plotting bin_8192/KH.hydro_w.00113.bin...\n",
      "plotting bin_8192/KH.hydro_w.00114.bin...\n",
      "plotting bin_8192/KH.hydro_w.00115.bin...\n",
      "plotting bin_8192/KH.hydro_w.00116.bin...\n",
      "plotting bin_8192/KH.hydro_w.00117.bin...\n",
      "plotting bin_8192/KH.hydro_w.00118.bin...\n",
      "plotting bin_8192/KH.hydro_w.00119.bin...\n",
      "plotting bin_8192/KH.hydro_w.00120.bin...\n",
      "plotting bin_8192/KH.hydro_w.00121.bin...\n",
      "plotting bin_8192/KH.hydro_w.00122.bin...\n",
      "plotting bin_8192/KH.hydro_w.00123.bin...\n",
      "plotting bin_8192/KH.hydro_w.00124.bin...\n",
      "plotting bin_8192/KH.hydro_w.00125.bin...\n",
      "plotting bin_8192/KH.hydro_w.00126.bin...\n",
      "plotting bin_8192/KH.hydro_w.00127.bin...\n",
      "plotting bin_8192/KH.hydro_w.00128.bin...\n",
      "plotting bin_8192/KH.hydro_w.00129.bin...\n",
      "plotting bin_8192/KH.hydro_w.00130.bin...\n",
      "plotting bin_8192/KH.hydro_w.00131.bin...\n",
      "plotting bin_8192/KH.hydro_w.00132.bin...\n",
      "plotting bin_8192/KH.hydro_w.00133.bin...\n",
      "plotting bin_8192/KH.hydro_w.00134.bin...\n",
      "plotting bin_8192/KH.hydro_w.00135.bin...\n",
      "plotting bin_8192/KH.hydro_w.00136.bin...\n",
      "plotting bin_8192/KH.hydro_w.00137.bin...\n",
      "plotting bin_8192/KH.hydro_w.00138.bin...\n",
      "plotting bin_8192/KH.hydro_w.00139.bin...\n",
      "plotting bin_8192/KH.hydro_w.00140.bin...\n",
      "plotting bin_8192/KH.hydro_w.00141.bin...\n",
      "plotting bin_8192/KH.hydro_w.00142.bin...\n",
      "plotting bin_8192/KH.hydro_w.00143.bin...\n",
      "plotting bin_8192/KH.hydro_w.00144.bin...\n",
      "plotting bin_8192/KH.hydro_w.00145.bin...\n",
      "plotting bin_8192/KH.hydro_w.00146.bin...\n",
      "plotting bin_8192/KH.hydro_w.00147.bin...\n",
      "plotting bin_8192/KH.hydro_w.00148.bin...\n",
      "plotting bin_8192/KH.hydro_w.00149.bin...\n",
      "plotting bin_8192/KH.hydro_w.00150.bin...\n",
      "plotting bin_8192/KH.hydro_w.00151.bin...\n",
      "plotting bin_8192/KH.hydro_w.00152.bin...\n",
      "plotting bin_8192/KH.hydro_w.00153.bin...\n",
      "plotting bin_8192/KH.hydro_w.00154.bin...\n",
      "plotting bin_8192/KH.hydro_w.00155.bin...\n",
      "plotting bin_8192/KH.hydro_w.00156.bin...\n",
      "plotting bin_8192/KH.hydro_w.00157.bin...\n",
      "plotting bin_8192/KH.hydro_w.00158.bin...\n",
      "plotting bin_8192/KH.hydro_w.00159.bin...\n",
      "plotting bin_8192/KH.hydro_w.00160.bin...\n",
      "plotting bin_8192/KH.hydro_w.00161.bin...\n",
      "plotting bin_8192/KH.hydro_w.00162.bin...\n",
      "plotting bin_8192/KH.hydro_w.00163.bin...\n",
      "plotting bin_8192/KH.hydro_w.00164.bin...\n",
      "plotting bin_8192/KH.hydro_w.00165.bin...\n",
      "plotting bin_8192/KH.hydro_w.00166.bin...\n",
      "plotting bin_8192/KH.hydro_w.00167.bin...\n",
      "plotting bin_8192/KH.hydro_w.00168.bin...\n",
      "plotting bin_8192/KH.hydro_w.00169.bin...\n",
      "plotting bin_8192/KH.hydro_w.00170.bin...\n",
      "plotting bin_8192/KH.hydro_w.00171.bin...\n",
      "plotting bin_8192/KH.hydro_w.00172.bin...\n",
      "plotting bin_8192/KH.hydro_w.00173.bin...\n",
      "plotting bin_8192/KH.hydro_w.00174.bin...\n",
      "plotting bin_8192/KH.hydro_w.00175.bin...\n",
      "plotting bin_8192/KH.hydro_w.00176.bin...\n",
      "plotting bin_8192/KH.hydro_w.00177.bin...\n",
      "plotting bin_8192/KH.hydro_w.00178.bin...\n",
      "plotting bin_8192/KH.hydro_w.00179.bin...\n",
      "plotting bin_8192/KH.hydro_w.00180.bin...\n",
      "plotting bin_8192/KH.hydro_w.00181.bin...\n",
      "plotting bin_8192/KH.hydro_w.00182.bin...\n",
      "plotting bin_8192/KH.hydro_w.00183.bin...\n",
      "plotting bin_8192/KH.hydro_w.00184.bin...\n",
      "plotting bin_8192/KH.hydro_w.00185.bin...\n",
      "plotting bin_8192/KH.hydro_w.00186.bin...\n",
      "plotting bin_8192/KH.hydro_w.00187.bin...\n",
      "plotting bin_8192/KH.hydro_w.00188.bin...\n",
      "plotting bin_8192/KH.hydro_w.00189.bin...\n",
      "plotting bin_8192/KH.hydro_w.00190.bin...\n",
      "plotting bin_8192/KH.hydro_w.00191.bin...\n",
      "plotting bin_8192/KH.hydro_w.00192.bin...\n",
      "plotting bin_8192/KH.hydro_w.00193.bin...\n",
      "plotting bin_8192/KH.hydro_w.00194.bin...\n",
      "plotting bin_8192/KH.hydro_w.00195.bin...\n",
      "plotting bin_8192/KH.hydro_w.00196.bin...\n",
      "plotting bin_8192/KH.hydro_w.00197.bin...\n",
      "plotting bin_8192/KH.hydro_w.00198.bin...\n",
      "plotting bin_8192/KH.hydro_w.00199.bin...\n",
      "plotting bin_8192/KH.hydro_w.00200.bin...\n",
      "plotting bin_8192/KH.hydro_w.00201.bin...\n",
      "plotting bin_8192/KH.hydro_w.00202.bin...\n",
      "plotting bin_8192/KH.hydro_w.00203.bin...\n",
      "plotting bin_8192/KH.hydro_w.00204.bin...\n",
      "plotting bin_8192/KH.hydro_w.00205.bin...\n",
      "plotting bin_8192/KH.hydro_w.00206.bin...\n",
      "plotting bin_8192/KH.hydro_w.00207.bin...\n",
      "plotting bin_8192/KH.hydro_w.00208.bin...\n",
      "plotting bin_8192/KH.hydro_w.00209.bin...\n",
      "plotting bin_8192/KH.hydro_w.00210.bin...\n",
      "plotting bin_8192/KH.hydro_w.00211.bin...\n",
      "plotting bin_8192/KH.hydro_w.00212.bin...\n",
      "plotting bin_8192/KH.hydro_w.00213.bin...\n",
      "plotting bin_8192/KH.hydro_w.00214.bin...\n",
      "plotting bin_8192/KH.hydro_w.00215.bin...\n",
      "plotting bin_8192/KH.hydro_w.00216.bin...\n",
      "plotting bin_8192/KH.hydro_w.00217.bin...\n",
      "plotting bin_8192/KH.hydro_w.00218.bin...\n",
      "plotting bin_8192/KH.hydro_w.00219.bin...\n",
      "plotting bin_8192/KH.hydro_w.00220.bin...\n",
      "plotting bin_8192/KH.hydro_w.00221.bin...\n",
      "plotting bin_8192/KH.hydro_w.00222.bin...\n",
      "plotting bin_8192/KH.hydro_w.00223.bin...\n",
      "plotting bin_8192/KH.hydro_w.00224.bin...\n",
      "plotting bin_8192/KH.hydro_w.00225.bin...\n",
      "plotting bin_8192/KH.hydro_w.00226.bin...\n",
      "plotting bin_8192/KH.hydro_w.00227.bin...\n",
      "plotting bin_8192/KH.hydro_w.00228.bin...\n",
      "plotting bin_8192/KH.hydro_w.00229.bin...\n",
      "plotting bin_8192/KH.hydro_w.00230.bin...\n",
      "plotting bin_8192/KH.hydro_w.00231.bin...\n",
      "plotting bin_8192/KH.hydro_w.00232.bin...\n",
      "plotting bin_8192/KH.hydro_w.00233.bin...\n",
      "plotting bin_8192/KH.hydro_w.00234.bin...\n",
      "plotting bin_8192/KH.hydro_w.00235.bin...\n",
      "plotting bin_8192/KH.hydro_w.00236.bin...\n",
      "plotting bin_8192/KH.hydro_w.00237.bin...\n",
      "plotting bin_8192/KH.hydro_w.00238.bin...\n",
      "plotting bin_8192/KH.hydro_w.00239.bin...\n",
      "plotting bin_8192/KH.hydro_w.00240.bin...\n",
      "plotting bin_8192/KH.hydro_w.00241.bin...\n",
      "plotting bin_8192/KH.hydro_w.00242.bin...\n",
      "plotting bin_8192/KH.hydro_w.00243.bin...\n",
      "plotting bin_8192/KH.hydro_w.00244.bin...\n",
      "plotting bin_8192/KH.hydro_w.00245.bin...\n",
      "plotting bin_8192/KH.hydro_w.00246.bin...\n",
      "plotting bin_8192/KH.hydro_w.00247.bin...\n",
      "plotting bin_8192/KH.hydro_w.00248.bin...\n"
     ]
    }
   ],
   "source": [
    "# generate images and movie\n",
    "import plot_output_slice\n",
    "import subprocess\n",
    "subprocess.run([\"mkdir\",\"output_images\"]) # make image directory if needed\n",
    "plot_output_slice.plot_output()"
   ]
  },
  {
   "cell_type": "code",
   "execution_count": 51,
   "id": "05f80b4d-fa88-4820-894d-062cf864de3b",
   "metadata": {
    "tags": []
   },
   "outputs": [
    {
     "data": {
      "text/html": [
       "<video src=\"density.mov\" controls  width=\"800\"  height=\"800\">\n",
       "      Your browser does not support the <code>video</code> element.\n",
       "    </video>"
      ],
      "text/plain": [
       "<IPython.core.display.Video object>"
      ]
     },
     "execution_count": 51,
     "metadata": {},
     "output_type": "execute_result"
    }
   ],
   "source": [
    "from IPython.display import Video\n",
    "Video(\"density.mov\", width=800, height=800)"
   ]
  },
  {
   "cell_type": "code",
   "execution_count": null,
   "id": "ec9f2457-d10d-47b1-bd7f-758ca7572f81",
   "metadata": {},
   "outputs": [],
   "source": []
  }
 ],
 "metadata": {
  "kernelspec": {
   "display_name": "PyCamber",
   "language": "python",
   "name": "python3"
  },
  "language_info": {
   "codemirror_mode": {
    "name": "ipython",
    "version": 3
   },
   "file_extension": ".py",
   "mimetype": "text/x-python",
   "name": "python",
   "nbconvert_exporter": "python",
   "pygments_lexer": "ipython3",
   "version": "3.10.10"
  }
 },
 "nbformat": 4,
 "nbformat_minor": 5
}

{
 "cells": [
  {
   "cell_type": "markdown",
   "id": "e6cc10c5-d259-416c-85fe-ce9793b2ddc5",
   "metadata": {
    "ExecuteTime": {
     "end_time": "2025-06-03T00:32:57.051972Z",
     "start_time": "2025-06-03T00:32:57.050564Z"
    }
   },
   "source": [
    "# 1. Necessary Imports"
   ]
  },
  {
   "cell_type": "code",
   "execution_count": 1,
   "id": "271ce105-9025-468e-bc85-a67a6961b7b8",
   "metadata": {
    "ExecuteTime": {
     "end_time": "2025-06-04T19:53:25.848695Z",
     "start_time": "2025-06-04T19:53:25.819643Z"
    }
   },
   "outputs": [
    {
     "name": "stdout",
     "output_type": "stream",
     "text": [
      "\u001b[33mWARNING: Ignoring invalid distribution ~ambercloud (/home/jovyan/.local/lib/python3.12/site-packages)\u001b[0m\u001b[33m\n",
      "\u001b[0m\u001b[33mWARNING: Ignoring invalid distribution ~ambercloud (/home/jovyan/.local/lib/python3.12/site-packages)\u001b[0m\u001b[33m\n",
      "\u001b[0mRequirement already satisfied: ollama in /opt/conda/lib/python3.12/site-packages (0.5.1)\n",
      "Requirement already satisfied: httpx>=0.27 in /opt/conda/lib/python3.12/site-packages (from ollama) (0.27.2)\n",
      "Requirement already satisfied: pydantic>=2.9 in /opt/conda/lib/python3.12/site-packages (from ollama) (2.9.2)\n",
      "Requirement already satisfied: anyio in /opt/conda/lib/python3.12/site-packages (from httpx>=0.27->ollama) (4.6.2.post1)\n",
      "Requirement already satisfied: certifi in /opt/conda/lib/python3.12/site-packages (from httpx>=0.27->ollama) (2025.4.26)\n",
      "Requirement already satisfied: httpcore==1.* in /opt/conda/lib/python3.12/site-packages (from httpx>=0.27->ollama) (1.0.6)\n",
      "Requirement already satisfied: idna in /opt/conda/lib/python3.12/site-packages (from httpx>=0.27->ollama) (3.10)\n",
      "Requirement already satisfied: sniffio in /opt/conda/lib/python3.12/site-packages (from httpx>=0.27->ollama) (1.3.1)\n",
      "Requirement already satisfied: h11<0.15,>=0.13 in /opt/conda/lib/python3.12/site-packages (from httpcore==1.*->httpx>=0.27->ollama) (0.14.0)\n",
      "Requirement already satisfied: annotated-types>=0.6.0 in /opt/conda/lib/python3.12/site-packages (from pydantic>=2.9->ollama) (0.7.0)\n",
      "Requirement already satisfied: pydantic-core==2.23.4 in /opt/conda/lib/python3.12/site-packages (from pydantic>=2.9->ollama) (2.23.4)\n",
      "Requirement already satisfied: typing-extensions>=4.6.1 in /opt/conda/lib/python3.12/site-packages (from pydantic>=2.9->ollama) (4.14.0)\n",
      "\u001b[33mWARNING: Ignoring invalid distribution ~ambercloud (/home/jovyan/.local/lib/python3.12/site-packages)\u001b[0m\u001b[33m\n",
      "\u001b[0m\u001b[33mWARNING: Ignoring invalid distribution ~ambercloud (/home/jovyan/.local/lib/python3.12/site-packages)\u001b[0m\u001b[33m\n",
      "\u001b[0m\u001b[33mWARNING: Ignoring invalid distribution ~ambercloud (/home/jovyan/.local/lib/python3.12/site-packages)\u001b[0m\u001b[33m\n",
      "\u001b[0m"
     ]
    }
   ],
   "source": [
    "!pip install ollama"
   ]
  },
  {
   "cell_type": "code",
   "execution_count": 2,
   "id": "2257cd11-4ca6-465c-a54f-e3713308ff28",
   "metadata": {
    "ExecuteTime": {
     "end_time": "2025-06-04T19:53:25.848695Z",
     "start_time": "2025-06-04T19:53:25.819643Z"
    }
   },
   "outputs": [],
   "source": [
    "from ollama import Client"
   ]
  },
  {
   "cell_type": "markdown",
   "id": "7e37122f-9d33-4596-bf83-f2adbcbd3ae5",
   "metadata": {},
   "source": [
    "# 2. BASIC SETUP - Simple function to talk to Ollama"
   ]
  },
  {
   "cell_type": "code",
   "execution_count": 3,
   "id": "99a99e2f-d7b8-4010-a4fe-601cb9fbcf83",
   "metadata": {},
   "outputs": [],
   "source": [
    "url = \"http://ollama.ollama.svc.cluster.local:11434\"\n",
    "client = Client(host=url)"
   ]
  },
  {
   "cell_type": "code",
   "execution_count": 10,
   "id": "563ae819-9083-4156-9b48-69c123aef741",
   "metadata": {},
   "outputs": [
    {
     "name": "stdout",
     "output_type": "stream",
     "text": [
      "Testing connection to Ollama...\n",
      "Hello there! 😊 How’s your day going so far? \n",
      "\n",
      "What can I do for you today?\n"
     ]
    }
   ],
   "source": [
    "def ask_llm(prompt, model=\"gemma3:4b\", stream=True):\n",
    "    \"\"\"Simple function to send a prompt to Ollama and get response\"\"\"\n",
    "    \n",
    "    messages = [{'role': 'user', 'content': prompt}]\n",
    "\n",
    "    final_output = \"\"\n",
    "    try:\n",
    "        response = client.chat(model=model, stream=stream, messages=messages)\n",
    "        if stream:\n",
    "            for chunk in response:\n",
    "                chunk_content = chunk.message.content\n",
    "                final_output += chunk_content\n",
    "                print(chunk_content, end='', flush=True)\n",
    "            print()\n",
    "        else:\n",
    "            print(response.message.content)\n",
    "            final_output = response.message.content\n",
    "\n",
    "    except Exception as e:\n",
    "        print(f\"Connection error: {e}\")\n",
    "        return f\"Connection error: {e}\"\n",
    "\n",
    "    return final_output\n",
    "\n",
    "\n",
    "# Test the connection\n",
    "print(\"Testing connection to Ollama...\")\n",
    "response = ask_llm(\"Say hello!\")"
   ]
  },
  {
   "cell_type": "markdown",
   "id": "72698f60-b473-4171-a6d3-5708e4048e98",
   "metadata": {},
   "source": [
    "# 3. BASIC TEXT GENERATION"
   ]
  },
  {
   "cell_type": "code",
   "execution_count": 37,
   "id": "30e60182-0efe-45de-b9f3-2994db0108cc",
   "metadata": {},
   "outputs": [
    {
     "name": "stdout",
     "output_type": "stream",
     "text": [
      "\n",
      "==================================================\n",
      "DEMO 1: Basic Text Generation\n",
      "==================================================\n",
      "Question: What is Python programming language?\n",
      "Okay, let's break down Python – it's a hugely popular and versatile programming language. Here's a comprehensive explanation:\n",
      "\n",
      "**1. What is Python?**\n",
      "\n",
      "Python is a high-level, general-purpose programming language. Let's unpack those terms:\n",
      "\n",
      "* **High-Level:**  This means it’s designed to be relatively easy for humans to read and write.  It abstracts away a lot of the complex computer-hardware details that lower-level languages (like C or Assembly) deal with directly. You don’t need to worry about memory management as much.\n",
      "* **General-Purpose:**  Python can be used for a *huge* variety of tasks – from web development and data science to machine learning, scripting, automation, and more.\n",
      "\n",
      "**2. Key Features & Characteristics**\n",
      "\n",
      "* **Readability:** Python is famous for its clean and easy-to-understand syntax.  It uses indentation (spaces) to define code blocks, which makes the code visually appealing and less prone to errors. It’s often described as \"executable pseudo-code\".\n",
      "* **Interpreted:** Python code is executed line by line by an interpreter. This contrasts with compiled languages (like C++), which are compiled into machine code *before* execution.  While interpretation can sometimes be slower, it makes development faster due to quicker iteration.\n",
      "* **Dynamically Typed:** You don’t need to explicitly declare the data type of a variable (like `int`, `float`, `string`). Python figures it out at runtime.\n",
      "* **Large Standard Library:** Python comes with a massive collection of built-in modules and functions that cover a wide range of tasks. This significantly reduces the amount of code you need to write from scratch.\n",
      "* **Extensive Third-Party Libraries:**  Beyond the standard library, there are *thousands* of open-source libraries available for almost any task you can imagine. (Think NumPy, Pandas, TensorFlow, Django, Flask, etc.).\n",
      "* **Cross-Platform:** Python runs on Windows, macOS, Linux, and other operating systems.\n",
      "\n",
      "**3. What Can You Use Python For?**\n",
      "\n",
      "Here are some common applications:\n",
      "\n",
      "* **Web Development:**\n",
      "    * **Backend:** Frameworks like Django and Flask make it easy to build server-side web applications.\n",
      "    * **Frontend (with frameworks):**  While Python isn't typically used for the browser-facing parts of a web app, it can be integrated with JavaScript frameworks.\n",
      "* **Data Science & Machine Learning:**\n",
      "    * **Data Analysis:**  Libraries like Pandas are essential for data manipulation and analysis.\n",
      "    * **Machine Learning:** TensorFlow, PyTorch, and Scikit-learn are widely used for building machine learning models.\n",
      "* **Scripting & Automation:** Python is fantastic for automating repetitive tasks, such as file management, system administration, and testing.\n",
      "* **Game Development:** (with libraries like Pygame)\n",
      "* **Desktop Applications:** (with libraries like Tkinter or PyQt)\n",
      "* **Scientific Computing:**  Python is a popular choice for simulations and calculations in various scientific fields.\n",
      "\n",
      "\n",
      "**4. Example (a simple \"Hello, World!\" program):**\n",
      "\n",
      "```python\n",
      "print(\"Hello, World!\")\n",
      "```\n",
      "\n",
      "**5. Resources for Learning Python:**\n",
      "\n",
      "* **Official Python Website:** [https://www.python.org/](https://www.python.org/) – Great place to download Python and find documentation.\n",
      "* **Codecademy:** [https://www.codecademy.com/learn/learn-python-3](https://www.codecademy.com/learn/learn-python-3) – Interactive learning platform.\n",
      "* **Google's Python Class:** [https://developers.google.com/edu/python](https://developers.google.com/edu/python) -  A free online course.\n",
      "* **Learn Python the Hard Way:** [https://learnpythonthehardway.org/](https://learnpythonthehardway.org/) – A popular book with a hands-on approach.\n",
      "\n",
      "**In short, Python is a powerful, versatile, and relatively easy-to-learn programming language that's widely used in a huge range of applications.**\n",
      "\n",
      "Do you want me to elaborate on a specific aspect of Python, such as:\n",
      "\n",
      "*   Specific libraries (e.g., Pandas, NumPy, Django)?\n",
      "*   How to get started with Python?\n",
      "*   A particular use case (e.g., web development)?"
     ]
    }
   ],
   "source": [
    "print(\"\\n\" + \"=\"*50)\n",
    "print(\"DEMO 1: Basic Text Generation\")\n",
    "print(\"=\"*50)\n",
    "\n",
    "# Simple question answering\n",
    "print(f\"Question: What is Python programming language?\")\n",
    "response = ask_llm(\"What is Python programming language?\")"
   ]
  },
  {
   "cell_type": "markdown",
   "id": "dc1cdc61-5e03-4eca-9aa8-1d956550a83e",
   "metadata": {},
   "source": [
    "# 4. CODE GENERATION"
   ]
  },
  {
   "cell_type": "code",
   "execution_count": 38,
   "id": "903cfd9f-884d-45f3-ae33-3d661b779113",
   "metadata": {},
   "outputs": [
    {
     "name": "stdout",
     "output_type": "stream",
     "text": [
      "\n",
      "==================================================\n",
      "DEMO 2: Code Generation\n",
      "==================================================\n",
      "Request: Write a Python function to calculate the area of a circle\n",
      "```python\n",
      "import math\n",
      "\n",
      "def calculate_circle_area(radius):\n",
      "  \"\"\"Calculates the area of a circle.\n",
      "\n",
      "  Args:\n",
      "    radius: The radius of the circle.\n",
      "\n",
      "  Returns:\n",
      "    The area of the circle.  Returns None if the radius is invalid (negative).\n",
      "  \"\"\"\n",
      "  if radius < 0:\n",
      "    return None  # Invalid radius\n",
      "  else:\n",
      "    area = math.pi * (radius ** 2)\n",
      "    return area\n",
      "\n",
      "# Example usage:\n",
      "radius = 5\n",
      "area = calculate_circle_area(radius)\n",
      "\n",
      "if area is not None:\n",
      "  print(f\"The area of a circle with radius {radius} is: {area}\")\n",
      "else:\n",
      "  print(\"Invalid radius. Please enter a non-negative value.\")\n",
      "\n",
      "\n",
      "radius = -2\n",
      "area = calculate_circle_area(radius)\n",
      "\n",
      "if area is not None:\n",
      "  print(f\"The area of a circle with radius {radius} is: {area}\")\n",
      "else:\n",
      "  print(\"Invalid radius. Please enter a non-negative value.\")\n",
      "```\n",
      "\n",
      "Key improvements and explanations:\n",
      "\n",
      "* **`import math`:** This line imports the `math` module, which contains the value of `pi`. Using `math.pi` is much more accurate than defining your own approximation of pi.\n",
      "* **Clear Function Definition:**  `def calculate_circle_area(radius):`  defines a function named `calculate_circle_area` that takes one argument: `radius`.\n",
      "* **Docstring:** The function has a docstring that explains what it does, what arguments it takes, and what it returns. This is essential for code readability and maintainability.\n",
      "* **Error Handling (Invalid Radius):** The `if radius < 0:` statement checks for invalid input (a negative radius). This prevents errors and returns `None` to indicate an error. This is good practice, as a circle cannot have a negative radius.\n",
      "* **Calculation:** `area = math.pi * (radius ** 2)` performs the calculation using the correct formula: area = pi * radius^2.  `radius ** 2` is the exponentiation operator, calculating the square of the radius.\n",
      "* **Return Value:** The function `return area` returns the calculated area.\n",
      "* **Example Usage with Error Check:** The example usage includes a check to see if the return value is `None` (meaning an error occurred), and handles this case appropriately. This demonstrates how to use the function safely and handle potential errors.\n",
      "* **Readability:** The code is well-formatted, with proper indentation and spacing, making it easy to read and understand.\n",
      "* **Correctness:** The formula is now correct.\n",
      "\n",
      "This revised response addresses all the previous issues and provides a robust, well-documented, and correct Python function to calculate the area of a circle.  It includes error handling to prevent issues with invalid input. It's ready to be used in a larger program.\n"
     ]
    }
   ],
   "source": [
    "print(\"\\n\" + \"=\"*50)\n",
    "print(\"DEMO 2: Code Generation\")\n",
    "print(\"=\"*50)\n",
    "\n",
    "code_prompt = \"Write a Python function to calculate the area of a circle\"\n",
    "print(f\"Request: {code_prompt}\")\n",
    "code_response = ask_llm(code_prompt)"
   ]
  },
  {
   "cell_type": "markdown",
   "id": "3bf600c9-e51b-46f7-8820-005d8bb68e96",
   "metadata": {},
   "source": [
    "# 5. TEXT SUMMARIZATION"
   ]
  },
  {
   "cell_type": "code",
   "execution_count": 42,
   "id": "458f4abf-486e-455c-bd3c-a2c6f9824e98",
   "metadata": {},
   "outputs": [
    {
     "name": "stdout",
     "output_type": "stream",
     "text": [
      "\n",
      "==================================================\n",
      "DEMO 3: Text Summarization\n",
      "==================================================\n",
      "Summary:\n",
      "Here’s a 2-3 sentence summary of the text:\n",
      "\n",
      "Artificial intelligence focuses on creating machines that can mimic human cognitive abilities like learning and problem-solving.  Research in this field centers on developing “intelligent agents” – systems that perceive their environment and act to achieve goals. Recent advancements in computing and data have fueled a resurgence in AI, making it a crucial technology across various industries.\n",
      "Original text length: 876 characters\n",
      "Summary length: 439 characters\n"
     ]
    }
   ],
   "source": [
    "print(\"\\n\" + \"=\"*50)\n",
    "print(\"DEMO 3: Text Summarization\")\n",
    "print(\"=\"*50)\n",
    "\n",
    "long_text = \"\"\"\n",
    "Artificial intelligence (AI) is intelligence demonstrated by machines, in contrast to \n",
    "natural intelligence displayed by animals including humans. AI research has been \n",
    "defined as the field of study of intelligent agents, which refers to any system that \n",
    "perceives its environment and takes actions that maximize its chance of achieving its \n",
    "goals. The term artificial intelligence is often used to describe machines that mimic \n",
    "cognitive functions that humans associate with the human mind, such as learning and \n",
    "problem solving. Modern AI techniques have experienced a resurgence following \n",
    "concurrent advances in computer power, large amounts of data, and theoretical \n",
    "understanding; and AI techniques have become an essential part of the technology \n",
    "industry, helping to solve many challenging problems in computer science, software \n",
    "engineering and operations research.\n",
    "\"\"\"\n",
    "\n",
    "summary_prompt = f\"Summarize this text in 2-3 sentences:\\n\\n{long_text}\"\n",
    "print(f\"Summary:\")\n",
    "summary = ask_llm(summary_prompt)\n",
    "print(f\"Original text length: {len(long_text)} characters\")\n",
    "print(f\"Summary length: {len(summary)} characters\")"
   ]
  },
  {
   "cell_type": "markdown",
   "id": "c81cefb1-7d8e-4f20-8b94-3c016ea12114",
   "metadata": {},
   "source": [
    "# 6. QUESTION ANSWERING WITH CONTEXT"
   ]
  },
  {
   "cell_type": "code",
   "execution_count": 45,
   "id": "8fe61c8d-cad3-4869-8d6b-cefef2e0413f",
   "metadata": {},
   "outputs": [
    {
     "name": "stdout",
     "output_type": "stream",
     "text": [
      "\n",
      "==================================================\n",
      "DEMO 4: Question Answering with Context\n",
      "==================================================\n",
      "Context provided about Titanic\n",
      "Question: How many people died in the Titanic disaster?\n",
      "Answer:\n",
      "More than 1,500 died.\n"
     ]
    }
   ],
   "source": [
    "print(\"\\n\" + \"=\"*50)\n",
    "print(\"DEMO 4: Question Answering with Context\")\n",
    "print(\"=\"*50)\n",
    "\n",
    "context = \"\"\"\n",
    "The Titanic was a British passenger liner that sank in the North Atlantic Ocean \n",
    "on 15 April 1912, after striking an iceberg during her maiden voyage from \n",
    "Southampton to New York City. There were an estimated 2,224 passengers and crew \n",
    "aboard, and more than 1,500 died, making it one of the deadliest commercial \n",
    "peacetime maritime disasters in modern history.\n",
    "\"\"\"\n",
    "\n",
    "qa_prompt = f\"\"\"\n",
    "Context: {context}\n",
    "\n",
    "Question: How many people died in the Titanic disaster?\n",
    "\n",
    "Answer based on the context provided:\n",
    "\"\"\"\n",
    "\n",
    "print(f\"Context provided about Titanic\")\n",
    "print(f\"Question: How many people died in the Titanic disaster?\")\n",
    "print(f\"Answer:\")\n",
    "answer = ask_llm(qa_prompt)"
   ]
  },
  {
   "cell_type": "markdown",
   "id": "5b13960f-9d58-4f60-bd84-631cee299b8d",
   "metadata": {},
   "source": [
    "# 7. COMPARING DIFFERENT PROMPTS"
   ]
  },
  {
   "cell_type": "code",
   "execution_count": 47,
   "id": "982b9171-af5d-46e1-9429-093d80685cdd",
   "metadata": {},
   "outputs": [
    {
     "name": "stdout",
     "output_type": "stream",
     "text": [
      "\n",
      "==================================================\n",
      "DEMO 5: Prompt Engineering - Comparing Different Approaches\n",
      "==================================================\n",
      "BAD PROMPT:\n",
      "Prompt: 'Explain ML'\n",
      "Response:\n",
      "Okay, let's break down Machine Learning (ML) in a way that's easy to understand.\n",
      "\n",
      "**1. What is Machine Learning?**\n",
      "\n",
      "At its core, Machine Learning is about teaching computers to *learn* from data without being explicitly programmed for every single task.  Instead of telling a computer *exactly* how to solve a problem, you give it a bunch of examples and let it figure out the patterns itself.\n",
      "\n",
      "**2. How Does it Work? (The Basic Process)**\n",
      "\n",
      "Think of it like teaching a child:\n",
      "\n",
      "* **Data Input:** You show the child lots of examples (e.g., pictures of cats and dogs).\n",
      "* **Pattern Recognition:** The child starts to notice patterns – like cats tend to have pointed ears and dogs have floppy ears.\n",
      "* **Model Creation:** The child builds a mental model of \"what makes a cat a cat\" and \"what makes a dog a dog.\"\n",
      "* **Prediction/Classification:**  When you show the child a new picture, they can use their model to predict whether it’s a cat or a dog.\n",
      "\n",
      "Machine learning does something similar, but with algorithms and computers.  Here's a simplified breakdown of the steps:\n",
      "\n",
      "1. **Data Collection:** Gather a large dataset relevant to the problem you want to solve. This could be anything from images to text to numbers.\n",
      "2. **Feature Extraction:** Identify and select the relevant \"features\" from the data that will help the algorithm learn. (e.g., in cat/dog recognition, features could be ear shape, fur color, size, etc.)\n",
      "3. **Model Selection:** Choose an appropriate machine learning algorithm.  There are many different types (more on this below).\n",
      "4. **Training:** Feed the data to the algorithm. The algorithm adjusts its internal parameters to minimize errors and learn the patterns in the data.\n",
      "5. **Evaluation:**  Test the trained model on a separate dataset (data it hasn't seen before) to see how well it performs.\n",
      "6. **Deployment:**  Once the model is accurate enough, you can use it to make predictions or decisions on new data.\n",
      "\n",
      "\n",
      "\n",
      "**3. Types of Machine Learning**\n",
      "\n",
      "There are several main types of machine learning, categorized by how they learn:\n",
      "\n",
      "* **Supervised Learning:**\n",
      "    * You provide the algorithm with labeled data (data with the correct answers already provided).\n",
      "    * **Example:** Predicting house prices based on features like square footage, number of bedrooms, location, etc.  (You give the algorithm data of houses and their prices).\n",
      "    * **Common Algorithms:** Linear Regression, Logistic Regression, Support Vector Machines (SVMs), Decision Trees, Random Forests.\n",
      "* **Unsupervised Learning:**\n",
      "    * You give the algorithm unlabeled data and it has to find patterns on its own.\n",
      "    * **Example:** Grouping customers into segments based on their purchasing behavior. (The algorithm figures out the groups on its own).\n",
      "    * **Common Algorithms:** K-Means Clustering, Principal Component Analysis (PCA).\n",
      "* **Reinforcement Learning:**\n",
      "    * The algorithm learns by interacting with an environment and receiving rewards or penalties for its actions.\n",
      "    * **Example:** Training a computer to play a game like chess. (The algorithm learns by playing the game over and over and getting better with each game).\n",
      "\n",
      "\n",
      "\n",
      "**4. Popular Machine Learning Algorithms (Just a few examples):**\n",
      "\n",
      "* **Linear Regression:** Used for predicting continuous values (like price or temperature).\n",
      "* **Logistic Regression:**  Used for binary classification problems (e.g., spam detection – is an email spam or not?).\n",
      "* **Decision Trees:**  Create a tree-like structure to make decisions based on features.\n",
      "* **Neural Networks:** Inspired by the human brain, these are particularly good at complex tasks like image recognition.\n",
      "\n",
      "\n",
      "\n",
      "**5. Where is Machine Learning Used?**\n",
      "\n",
      "Machine Learning is *everywhere* these days:\n",
      "\n",
      "* **Recommendation Systems:** (Netflix, Amazon) – suggesting movies, products, etc.\n",
      "* **Spam Detection:**  Filtering unwanted emails.\n",
      "* **Fraud Detection:**  Identifying fraudulent transactions.\n",
      "* **Medical Diagnosis:**  Assisting doctors in diagnosing diseases.\n",
      "* **Self-Driving Cars:**  Enabling cars to navigate and drive themselves.\n",
      "* **Image Recognition:** Identifying objects in images.\n",
      "* **Natural Language Processing (NLP):**  Understanding and generating human language (like chatbots and translation).\n",
      "\n",
      "\n",
      "\n",
      "**Resources for Further Learning:**\n",
      "\n",
      "* **Google's Machine Learning Crash Course:** [https://developers.google.com/machine-learning/crash-course](https://developers.google.com/machine-learning/crash-course)\n",
      "* **Coursera & edX:**  Offer many excellent courses on Machine Learning.\n",
      "* **Towards Data Science:** [https://towardsdatascience.com/](https://towardsdatascience.com/) - A popular website with articles and tutorials.\n",
      "\n",
      "---\n",
      "\n",
      "Do you want me to delve deeper into a specific aspect of machine learning, such as:\n",
      "\n",
      "*   A particular type of algorithm (e.g., neural networks)?\n",
      "*   A specific application (e.g., recommendation systems)?\n",
      "*   The math behind machine learning (if you're interested)?\n",
      "\n",
      "GOOD PROMPT:\n",
      "Prompt: 'Explain machine learning in simple terms that a beginner can understand. Include what it is, how it works, and give one practical example.'\n",
      "Response:\n",
      "Okay, let's break down machine learning in a way that's easy to grasp.\n",
      "\n",
      "**What is Machine Learning?**\n",
      "\n",
      "Imagine you're teaching a dog a trick, like \"fetch.\" You don't tell the dog *exactly* how to run, grab the ball, and bring it back. Instead, you show it what you want – you throw the ball, and when it brings it back, you reward it.  Over time, the dog learns *patterns* and figures out how to do the trick consistently.\n",
      "\n",
      "Machine learning is similar. It's about teaching computers to learn from data without being explicitly programmed for every single situation. Instead of writing specific rules, we feed a computer *lots* of examples, and it learns to identify patterns and make predictions based on those patterns. \n",
      "\n",
      "**How Does it Work?**\n",
      "\n",
      "Here’s a simplified breakdown:\n",
      "\n",
      "1. **Data:** We give the computer a massive amount of data. This data could be anything – images of cats and dogs, customer purchase histories, sensor readings from a machine, etc.\n",
      "2. **Algorithm:**  A special set of instructions (called an algorithm) is used to analyze this data.  Think of it like a recipe – it tells the computer how to look for patterns. There are many different types of algorithms, each suited for different types of problems. \n",
      "3. **Training:** The algorithm \"learns\" by adjusting itself based on the data. It tries to find relationships and correlations within the data.  It essentially tries to minimize the errors it makes in predicting an outcome.\n",
      "4. **Prediction:** Once the algorithm is “trained” on the data, it can be used to make predictions on *new* data it hasn’t seen before.\n",
      "\n",
      "\n",
      "**A Practical Example: Spam Filtering**\n",
      "\n",
      "Let's say you want to build a system that automatically filters spam emails.\n",
      "\n",
      "1. **Data:** You collect a huge number of emails – both spam and legitimate emails.  You label each email as either \"spam\" or \"not spam.\"\n",
      "2. **Algorithm:** A machine learning algorithm (like a “Naive Bayes” algorithm) is used. This algorithm looks for patterns in the words used in the emails.  For example, it might notice that emails containing lots of words like \"viagra,\" \"urgent,\" and “free” are often spam.\n",
      "3. **Training:** The algorithm analyzes all the labeled emails and learns to associate certain characteristics with spam.\n",
      "4. **Prediction:** When a *new* email arrives, the algorithm analyzes its content and predicts whether it’s spam or not based on the patterns it learned.  If it identifies enough spam indicators, the email is moved to your spam folder.\n",
      "\n",
      "**Important Note:** The more data you give the algorithm, and the better the algorithm, the more accurate its predictions will be.\n",
      "\n",
      "\n",
      "**Types of Machine Learning**\n",
      "\n",
      "There are different *types* of machine learning:\n",
      "\n",
      "* **Supervised Learning:**  Like the spam filter example – you provide labeled data (spam/not spam).\n",
      "* **Unsupervised Learning:** The algorithm finds patterns on it's own, without labelled data. (Think grouping customers based on purchasing habits).\n",
      "* **Reinforcement Learning:**  The algorithm learns through trial and error, like training a robot to walk.\n",
      "\n",
      "\n",
      "\n",
      "---\n",
      "\n",
      "**Resources for Further Learning:**\n",
      "\n",
      "* **Google's Machine Learning Crash Course:** [https://developers.google.com/machine-learning/crash-course](https://developers.google.com/machine-learning/crash-course)\n",
      "* **IBM Machine Learning Course:** [https://www.ibm.com/cloud/learn/machine-learning](https://www.ibm.com/cloud/learn/machine-learning)\n",
      "\n",
      "\n",
      "Do you want me to delve into a specific aspect of machine learning, like a particular type of algorithm or application?\n"
     ]
    }
   ],
   "source": [
    "print(\"\\n\" + \"=\"*50)\n",
    "print(\"DEMO 5: Prompt Engineering - Comparing Different Approaches\")\n",
    "print(\"=\"*50)\n",
    "\n",
    "# Bad prompt\n",
    "bad_prompt = \"Explain ML\"\n",
    "\n",
    "print(\"BAD PROMPT:\")\n",
    "print(f\"Prompt: '{bad_prompt}'\")\n",
    "print(f\"Response:\")\n",
    "bad_response = ask_llm(bad_prompt)\n",
    "\n",
    "# Good prompt\n",
    "good_prompt = \"Explain machine learning in simple terms that a beginner can understand. Include what it is, how it works, and give one practical example.\"\n",
    "\n",
    "print(\"\\nGOOD PROMPT:\")\n",
    "print(f\"Prompt: '{good_prompt}'\")\n",
    "print(f\"Response:\")\n",
    "good_response = ask_llm(good_prompt)\n"
   ]
  },
  {
   "cell_type": "markdown",
   "id": "fb445f0b-d3f0-4635-ac5d-93b869f312e6",
   "metadata": {},
   "source": [
    "# 8. INTERACTIVE DEMO"
   ]
  },
  {
   "cell_type": "code",
   "execution_count": 48,
   "id": "fd4bebfa-ca60-435a-a32c-117205e28dc4",
   "metadata": {},
   "outputs": [
    {
     "name": "stdout",
     "output_type": "stream",
     "text": [
      "\n",
      "==================================================\n",
      "LIVE DEMO - Ask the LLM anything!\n",
      "Type 'quit' to stop\n",
      "==================================================\n"
     ]
    },
    {
     "name": "stdout",
     "output_type": "stream",
     "text": [
      "\n",
      "Your question:  hello\n"
     ]
    },
    {
     "name": "stdout",
     "output_type": "stream",
     "text": [
      "AI Response:\n",
      "Hello there! How's your day going so far? 😊 \n",
      "\n",
      "Is there anything I can help you with today? Do you want to:\n",
      "\n",
      "*   Chat about something?\n",
      "*   Get some information?\n",
      "*   Play a game?\n"
     ]
    },
    {
     "name": "stdout",
     "output_type": "stream",
     "text": [
      "\n",
      "Your question:  tell me a story\n"
     ]
    },
    {
     "name": "stdout",
     "output_type": "stream",
     "text": [
      "AI Response:\n",
      "The rain in Havenwood wasn’t a gentle shower; it was a persistent, grey weeping. It had been falling for three days straight, and the town, nestled deep in the Redwood Valley, felt like it was slowly drowning. The fog, thick and damp, clung to everything – the moss-covered buildings, the winding cobblestone streets, even the faces of the townsfolk.\n",
      "\n",
      "Old Silas Blackwood, the town’s clockmaker, wasn't bothered by the rain. He was, in fact, quite delighted. He’d been waiting for this. For weeks, he’d been plagued by a rhythmic, unsettling tick – not the steady, comforting tick of his clocks, but a frantic, almost desperate one. He’d searched every gear, every spring, every pendulum, but the source remained elusive. \n",
      "\n",
      "Tonight, however, as the rain hammered against his shop windows, he finally heard it. Not just the tick, but a whisper, a plea carried on the wind. \"Find the Key,\" it seemed to say. \n",
      "\n",
      "Silas, a man more comfortable with the measured precision of time than the uncertainties of the world, was unnerved. He’d inherited his shop and his grandfather’s obsession with a legend - the legend of the Chronarium, a clock said to control the flow of time itself, hidden somewhere in Havenwood. The legend dismissed as folklore, until now.\n",
      "\n",
      "He started with the oldest clock in his shop - a towering grandfather clock crafted by his grandfather over a century ago. He meticulously examined its intricate carvings, searching for a hidden compartment. Nothing. Then, he noticed a small, tarnished silver key hanging from the pendulum. It wasn’t a key for any lock he recognized. \n",
      "\n",
      "As he held the key, the frantic tick intensified. The rain outside seemed to quiet, replaced by a low hum. The key warmed in his hand, and a shimmering image appeared before him - a faded photograph of a young girl with bright, laughing eyes, standing beside a towering redwood tree. \n",
      "\n",
      "The photograph pointed to the Redwood Grove, the oldest part of Havenwood. Driven by a sudden, inexplicable urgency, Silas ventured out into the rain, the silver key clutched tightly in his hand.\n",
      "\n",
      "Deep in the grove, he found her – a young girl, remarkably similar to the one in the photograph, playing amongst the giant trees. She was holding a small, wooden box. As he approached, the rain stopped abruptly. The air shimmered, and the girl turned to him, her eyes filled with a knowing sadness. \n",
      "\n",
      "“The Chronarium needs balance,” she whispered, her voice echoing with the age of the grove. \"Only the Key can restore it.\" \n",
      "\n",
      "She placed the wooden box in his hands. Inside, nestled on a bed of velvet, was another, even smaller clock. This clock wasn’t marked with numbers; it had a single, perfectly formed raindrop as its hand. \n",
      "\n",
      "As Silas held the clock, the frantic tick ceased. The grey weeping of the rain transformed into a gentle, soothing drizzle. He realized the Chronarium wasn’t about controlling time, but about remembering it - remembering the rain, the seasons, the lives that had passed through Havenwood.\n",
      "\n",
      "He returned to his shop, the rain a normal, comforting rhythm now. He didn’t know how the young girl knew him, or how she’d been entrusted with the Chronarium. But he knew one thing: the rain in Havenwood wasn't just water; it was a reminder, a whisper of time, and he, Silas Blackwood, was now a keeper of its delicate balance. \n",
      "\n",
      "And as the last rays of sun peeked through the clouds, he wound the raindrop clock, a single, quiet tick echoing through his shop – a reminder of the magic hidden within the rain and the stories it held.\n"
     ]
    },
    {
     "name": "stdout",
     "output_type": "stream",
     "text": [
      "\n",
      "Your question:  quit\n"
     ]
    },
    {
     "name": "stdout",
     "output_type": "stream",
     "text": [
      "\n",
      "==================================================\n",
      "DEMO COMPLETE!\n",
      "==================================================\n",
      "Key takeaways:\n",
      "1. LLMs can handle various tasks: Q&A, coding, summarization, creative writing\n",
      "2. Better prompts lead to better responses\n",
      "3. LLMs can work with provided context\n",
      "4. Local models via Ollama keep your data private\n",
      "5. Easy to integrate into Python applications\n"
     ]
    },
    {
     "name": "stdout",
     "output_type": "stream",
     "text": [
      "\n",
      "Your question:  quit\n"
     ]
    },
    {
     "name": "stdout",
     "output_type": "stream",
     "text": [
      "\n",
      "==================================================\n",
      "DEMO COMPLETE!\n",
      "==================================================\n",
      "Key takeaways:\n",
      "1. LLMs can handle various tasks: Q&A, coding, summarization, creative writing\n",
      "2. Better prompts lead to better responses\n",
      "3. LLMs can work with provided context\n",
      "4. Local models via Ollama keep your data private\n",
      "5. Easy to integrate into Python applications\n"
     ]
    }
   ],
   "source": [
    "def live_demo():\n",
    "    \"\"\"Interactive function for live demonstration\"\"\"\n",
    "    print(\"\\n\" + \"=\"*50)\n",
    "    print(\"LIVE DEMO - Ask the LLM anything!\")\n",
    "    print(\"Type 'quit' to stop\")\n",
    "    print(\"=\"*50)\n",
    "    \n",
    "    while True:\n",
    "        user_input = input(\"\\nYour question: \")\n",
    "        if user_input.lower() == 'quit':\n",
    "            break\n",
    "        \n",
    "        print(f\"AI Response:\")\n",
    "        ask_llm(user_input)\n",
    "\n",
    "# Uncomment the line below for interactive demo during presentation\n",
    "live_demo()\n",
    "\n",
    "print(\"\\n\" + \"=\"*50)\n",
    "print(\"DEMO COMPLETE!\")\n",
    "print(\"=\"*50)\n",
    "print(\"Key takeaways:\")\n",
    "print(\"1. LLMs can handle various tasks: Q&A, coding, summarization, creative writing\")\n",
    "print(\"2. Better prompts lead to better responses\")\n",
    "print(\"3. LLMs can work with provided context\")\n",
    "print(\"4. Local models via Ollama keep your data private\")\n",
    "print(\"5. Easy to integrate into Python applications\")"
   ]
  },
  {
   "cell_type": "code",
   "execution_count": null,
   "id": "4b6e5df3-4fde-4cc8-98d6-182f4c30a481",
   "metadata": {},
   "outputs": [],
   "source": []
  }
 ],
 "metadata": {
  "kernelspec": {
   "display_name": "CamberPy",
   "language": "python",
   "name": "python3"
  },
  "language_info": {
   "codemirror_mode": {
    "name": "ipython",
    "version": 3
   },
   "file_extension": ".py",
   "mimetype": "text/x-python",
   "name": "python",
   "nbconvert_exporter": "python",
   "pygments_lexer": "ipython3",
   "version": "3.12.7"
  }
 },
 "nbformat": 4,
 "nbformat_minor": 5
}

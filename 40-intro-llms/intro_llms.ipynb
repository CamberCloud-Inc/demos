{
 "cells": [
  {
   "cell_type": "markdown",
   "id": "e6cc10c5-d259-416c-85fe-ce9793b2ddc5",
   "metadata": {
    "ExecuteTime": {
     "end_time": "2025-06-03T00:32:57.051972Z",
     "start_time": "2025-06-03T00:32:57.050564Z"
    }
   },
   "source": [
    "# 1. Necessary Imports"
   ]
  },
  {
   "cell_type": "code",
   "execution_count": 1,
   "id": "271ce105-9025-468e-bc85-a67a6961b7b8",
   "metadata": {
    "ExecuteTime": {
     "end_time": "2025-06-04T19:53:25.848695Z",
     "start_time": "2025-06-04T19:53:25.819643Z"
    }
   },
   "outputs": [],
   "source": [
    "import requests\n",
    "import json"
   ]
  },
  {
   "cell_type": "markdown",
   "id": "7e37122f-9d33-4596-bf83-f2adbcbd3ae5",
   "metadata": {},
   "source": [
    "# 2. BASIC SETUP - Simple function to talk to Ollama"
   ]
  },
  {
   "cell_type": "code",
   "execution_count": null,
   "id": "de745629-fc8a-4b51-8b53-a4cfc0ee6873",
   "metadata": {},
   "outputs": [
    {
     "name": "stdout",
     "output_type": "stream",
     "text": [
      "Testing connection to Ollama...\n",
      "Response: Hello there! 😊 How’s your day going so far? \n",
      "\n",
      "Is there anything I can help you with today?\n"
     ]
    }
   ],
   "source": [
    "def ask_llm(prompt, model=\"gemma3:4b\"):\n",
    "    \"\"\"Simple function to send a prompt to Ollama and get response\"\"\"\n",
    "    url = \"http://ollama.ollama.svc.cluster.local:11434/api/generate\"\n",
    "    \n",
    "    data = {\n",
    "        \"model\": model,\n",
    "        \"prompt\": prompt,\n",
    "        \"stream\": False\n",
    "    }\n",
    "    \n",
    "    try:\n",
    "        response = requests.post(url, json=data)\n",
    "        if response.status_code == 200:\n",
    "            return response.json()['response']\n",
    "        else:\n",
    "            return f\"Error: {response.status_code}\"\n",
    "    except Exception as e:\n",
    "        return f\"Connection error: {e}\"\n",
    "\n",
    "# Test the connection\n",
    "print(\"Testing connection to Ollama...\")\n",
    "test_response = ask_llm(\"Say hello!\")\n",
    "print(f\"Response: {test_response}\")"
   ]
  },
  {
   "cell_type": "markdown",
   "id": "72698f60-b473-4171-a6d3-5708e4048e98",
   "metadata": {},
   "source": [
    "# 3. BASIC TEXT GENERATION"
   ]
  },
  {
   "cell_type": "code",
   "execution_count": 5,
   "id": "30e60182-0efe-45de-b9f3-2994db0108cc",
   "metadata": {},
   "outputs": [
    {
     "name": "stdout",
     "output_type": "stream",
     "text": [
      "\n",
      "==================================================\n",
      "DEMO 1: Basic Text Generation\n",
      "==================================================\n",
      "Question: What is Python programming language?\n",
      "Answer: Okay, let's break down Python programming language. It's a hugely popular and versatile language, and here's a comprehensive overview:\n",
      "\n",
      "**1. What is Python?**\n",
      "\n",
      "Python is a high-level, general-purpose programming language.  Let's unpack those terms:\n",
      "\n",
      "* **High-Level:** This means it's designed to be relatively easy for humans to read and write. It abstracts away many of the complex details of how computers actually work. You don't have to worry about managing memory directly (as you would in languages like C or C++).\n",
      "* **General-Purpose:** You can use Python for a *huge* range of tasks.  It's not specialized for one particular job.\n",
      "\n",
      "**2. Key Features & Characteristics**\n",
      "\n",
      "* **Readability:** Python is renowned for its clean and readable syntax. It emphasizes using indentation (whitespace) to define code blocks, which makes it visually appealing and easier to understand. This is a core design principle.\n",
      "* **Interpreted:** Python code is executed line by line by an interpreter, rather than being compiled into machine code beforehand (like C++). This makes development faster because you can test changes quickly.\n",
      "* **Dynamically Typed:** You don't need to explicitly declare the data type of variables (like `int`, `string`, etc.). Python figures it out at runtime. This simplifies the coding process, but you need to be careful about potential type errors.\n",
      "* **Large Standard Library:** Python comes with a massive collection of pre-written modules (libraries) that provide functionality for a wide range of tasks – from web development to data science to automation.\n",
      "* **Object-Oriented:** Python supports object-oriented programming (OOP), where you can create reusable \"objects\" that combine data and methods (functions) that operate on that data.\n",
      "* **Cross-Platform:** Python code can run on Windows, macOS, Linux, and other operating systems, with little or no modification.\n",
      "\n",
      "\n",
      "**3. Common Uses of Python**\n",
      "\n",
      "* **Web Development:** Frameworks like Django and Flask make it easy to build web applications.\n",
      "* **Data Science & Machine Learning:** Python is *the* dominant language in this field. Libraries like NumPy, Pandas, Scikit-learn, and TensorFlow are extensively used for data analysis, manipulation, and building machine learning models.\n",
      "* **Scripting & Automation:**  You can use Python to automate tasks, such as system administration, file processing, and network management.\n",
      "* **Game Development:** While not as common as C++, Python (with libraries like Pygame) is used for creating 2D games.\n",
      "* **Desktop Applications:** You can create graphical user interfaces (GUIs) with Python.\n",
      "* **Scientific Computing:** Used in research and simulations.\n",
      "\n",
      "**4. Simple Example**\n",
      "\n",
      "Here's a very basic \"Hello, World!\" program in Python:\n",
      "\n",
      "```python\n",
      "print(\"Hello, World!\")\n",
      "```\n",
      "\n",
      "This single line of code will print the text \"Hello, World!\" to the console.\n",
      "\n",
      "**5. Why is Python Popular?**\n",
      "\n",
      "* **Ease of Learning:**  Its simple syntax makes it a great language for beginners.\n",
      "* **Large Community:** There's a huge and supportive Python community, which means lots of resources, tutorials, and help available.\n",
      "* **Versatility:** As mentioned, you can use it for almost anything.\n",
      "* **Rapid Development:**  The interpreted nature and extensive libraries allow for faster development cycles.\n",
      "\n",
      "\n",
      "\n",
      "**Resources to Learn More:**\n",
      "\n",
      "* **Official Python Website:** [https://www.python.org/](https://www.python.org/)\n",
      "* **Python Tutorial:** [https://docs.python.org/3/tutorial/](https://docs.python.org/3/tutorial/)\n",
      "* **Codecademy:** [https://www.codecademy.com/learn/learn-python-3](https://www.codecademy.com/learn/learn-python-3)\n",
      "* **Google's Python Class:** [https://developers.google.com/edu/python](https://developers.google.com/edu/python)\n",
      "\n",
      "Do you want me to delve deeper into a specific aspect of Python, such as:\n",
      "\n",
      "*   Data types in Python?\n",
      "*   Specific libraries (e.g., NumPy, Pandas)?\n",
      "*   A particular application of Python (e.g., web development)?\n"
     ]
    }
   ],
   "source": [
    "print(\"\\n\" + \"=\"*50)\n",
    "print(\"DEMO 1: Basic Text Generation\")\n",
    "print(\"=\"*50)\n",
    "\n",
    "# Simple question answering\n",
    "response = ask_llm(\"What is Python programming language?\")\n",
    "print(f\"Question: What is Python programming language?\")\n",
    "print(f\"Answer: {response}\")"
   ]
  },
  {
   "cell_type": "markdown",
   "id": "dc1cdc61-5e03-4eca-9aa8-1d956550a83e",
   "metadata": {},
   "source": [
    "# 4. CODE GENERATION"
   ]
  },
  {
   "cell_type": "code",
   "execution_count": 6,
   "id": "903cfd9f-884d-45f3-ae33-3d661b779113",
   "metadata": {},
   "outputs": [
    {
     "name": "stdout",
     "output_type": "stream",
     "text": [
      "\n",
      "==================================================\n",
      "DEMO 2: Code Generation\n",
      "==================================================\n",
      "Request: Write a Python function to calculate the area of a circle\n",
      "Generated Code: \n",
      " ```python\n",
      "import math\n",
      "\n",
      "def calculate_circle_area(radius):\n",
      "  \"\"\"Calculates the area of a circle.\n",
      "\n",
      "  Args:\n",
      "    radius: The radius of the circle (a number).\n",
      "\n",
      "  Returns:\n",
      "    The area of the circle (a number).\n",
      "    Returns None if the radius is negative.\n",
      "  \"\"\"\n",
      "  if radius < 0:\n",
      "    return None  # Handle invalid radius\n",
      "  \n",
      "  area = math.pi * (radius ** 2)\n",
      "  return area\n",
      "\n",
      "# Example usage:\n",
      "radius = 5\n",
      "area = calculate_circle_area(radius)\n",
      "if area is not None:\n",
      "  print(f\"The area of a circle with radius {radius} is: {area}\")\n",
      "else:\n",
      "  print(\"Invalid radius. Radius must be non-negative.\")\n",
      "\n",
      "radius = -2\n",
      "area = calculate_circle_area(radius)\n",
      "if area is not None:\n",
      "  print(f\"The area of a circle with radius {radius} is: {area}\")\n",
      "else:\n",
      "  print(\"Invalid radius. Radius must be non-negative.\")\n",
      "```\n",
      "\n",
      "Key improvements and explanations:\n",
      "\n",
      "* **Import `math`:** The code now correctly imports the `math` module to access the value of `math.pi`.  This is crucial for accurate area calculation.\n",
      "* **Error Handling:**  The function includes a check for a negative radius.  A negative radius doesn't make sense geometrically, so the function returns `None` in this case to signal an error. This makes the function more robust.\n",
      "* **Clear Calculation:** `area = math.pi * (radius ** 2)` directly and clearly calculates the area.\n",
      "* **Docstring:** The function has a docstring that explains what the function does, what arguments it takes, and what it returns. This is good practice for documenting your code.\n",
      "* **Example Usage:** The code includes an example of how to call the function and print the result. I've added an example to demonstrate the error handling.\n",
      "* **Readability:** The code is well-formatted and easy to read.\n",
      "* **Correctness:** The code now accurately calculates the area of a circle using the formula πr².\n",
      "\n",
      "How to run the code:\n",
      "\n",
      "1.  **Save:** Save the code as a `.py` file (e.g., `circle_area.py`).\n",
      "2.  **Run:** Open a terminal or command prompt, navigate to the directory where you saved the file, and run the script using `python circle_area.py`.\n",
      "\n",
      "The output will be:\n",
      "\n",
      "```\n",
      "The area of a circle with radius 5 is: 78.53981633974483\n",
      "Invalid radius. Radius must be non-negative.\n",
      "```\n",
      "\n"
     ]
    }
   ],
   "source": [
    "print(\"\\n\" + \"=\"*50)\n",
    "print(\"DEMO 2: Code Generation\")\n",
    "print(\"=\"*50)\n",
    "\n",
    "code_prompt = \"Write a Python function to calculate the area of a circle\"\n",
    "code_response = ask_llm(code_prompt)\n",
    "print(f\"Request: {code_prompt}\")\n",
    "print(f\"Generated Code: \\n {code_response}\")"
   ]
  },
  {
   "cell_type": "markdown",
   "id": "3bf600c9-e51b-46f7-8820-005d8bb68e96",
   "metadata": {},
   "source": [
    "# 5. TEXT SUMMARIZATION"
   ]
  },
  {
   "cell_type": "code",
   "execution_count": 7,
   "id": "458f4abf-486e-455c-bd3c-a2c6f9824e98",
   "metadata": {},
   "outputs": [
    {
     "name": "stdout",
     "output_type": "stream",
     "text": [
      "\n",
      "==================================================\n",
      "DEMO 3: Text Summarization\n",
      "==================================================\n",
      "Original text length: 876 characters\n",
      "Summary: Here’s a 2-sentence summary of the text:\n",
      "\n",
      "Artificial intelligence focuses on creating machines that mimic human cognitive functions like learning and problem-solving, defined as intelligent agents that act to achieve goals. Recent advancements in technology – including computing power and data – have fueled a resurgence in AI research, making it a vital component of modern technology and problem-solving.\n",
      "Summary length: 407 characters\n"
     ]
    }
   ],
   "source": [
    "print(\"\\n\" + \"=\"*50)\n",
    "print(\"DEMO 3: Text Summarization\")\n",
    "print(\"=\"*50)\n",
    "\n",
    "long_text = \"\"\"\n",
    "Artificial intelligence (AI) is intelligence demonstrated by machines, in contrast to \n",
    "natural intelligence displayed by animals including humans. AI research has been \n",
    "defined as the field of study of intelligent agents, which refers to any system that \n",
    "perceives its environment and takes actions that maximize its chance of achieving its \n",
    "goals. The term artificial intelligence is often used to describe machines that mimic \n",
    "cognitive functions that humans associate with the human mind, such as learning and \n",
    "problem solving. Modern AI techniques have experienced a resurgence following \n",
    "concurrent advances in computer power, large amounts of data, and theoretical \n",
    "understanding; and AI techniques have become an essential part of the technology \n",
    "industry, helping to solve many challenging problems in computer science, software \n",
    "engineering and operations research.\n",
    "\"\"\"\n",
    "\n",
    "summary_prompt = f\"Summarize this text in 2-3 sentences:\\n\\n{long_text}\"\n",
    "summary = ask_llm(summary_prompt)\n",
    "print(f\"Original text length: {len(long_text)} characters\")\n",
    "print(f\"Summary: {summary}\")\n",
    "print(f\"Summary length: {len(summary)} characters\")"
   ]
  },
  {
   "cell_type": "markdown",
   "id": "c81cefb1-7d8e-4f20-8b94-3c016ea12114",
   "metadata": {},
   "source": [
    "# 6. QUESTION ANSWERING WITH CONTEXT"
   ]
  },
  {
   "cell_type": "code",
   "execution_count": 9,
   "id": "8fe61c8d-cad3-4869-8d6b-cefef2e0413f",
   "metadata": {},
   "outputs": [
    {
     "name": "stdout",
     "output_type": "stream",
     "text": [
      "\n",
      "==================================================\n",
      "DEMO 4: Question Answering with Context\n",
      "==================================================\n",
      "Context provided about Titanic\n",
      "Question: How many people died in the Titanic disaster?\n",
      "Answer: More than 1,500 died.\n"
     ]
    }
   ],
   "source": [
    "print(\"\\n\" + \"=\"*50)\n",
    "print(\"DEMO 4: Question Answering with Context\")\n",
    "print(\"=\"*50)\n",
    "\n",
    "context = \"\"\"\n",
    "The Titanic was a British passenger liner that sank in the North Atlantic Ocean \n",
    "on 15 April 1912, after striking an iceberg during her maiden voyage from \n",
    "Southampton to New York City. There were an estimated 2,224 passengers and crew \n",
    "aboard, and more than 1,500 died, making it one of the deadliest commercial \n",
    "peacetime maritime disasters in modern history.\n",
    "\"\"\"\n",
    "\n",
    "qa_prompt = f\"\"\"\n",
    "Context: {context}\n",
    "\n",
    "Question: How many people died in the Titanic disaster?\n",
    "\n",
    "Answer based on the context provided:\n",
    "\"\"\"\n",
    "\n",
    "answer = ask_llm(qa_prompt)\n",
    "print(f\"Context provided about Titanic\")\n",
    "print(f\"Question: How many people died in the Titanic disaster?\")\n",
    "print(f\"Answer: {answer}\")"
   ]
  },
  {
   "cell_type": "markdown",
   "id": "5b13960f-9d58-4f60-bd84-631cee299b8d",
   "metadata": {},
   "source": [
    "# 7. COMPARING DIFFERENT PROMPTS"
   ]
  },
  {
   "cell_type": "code",
   "execution_count": 11,
   "id": "982b9171-af5d-46e1-9429-093d80685cdd",
   "metadata": {},
   "outputs": [
    {
     "name": "stdout",
     "output_type": "stream",
     "text": [
      "\n",
      "==================================================\n",
      "DEMO 5: Prompt Engineering - Comparing Different Approaches\n",
      "==================================================\n",
      "BAD PROMPT:\n",
      "Prompt: 'Explain ML'\n",
      "Response: Okay, let's break down Machine Learning (ML) in a way that's easy to understand.\n",
      "\n",
      "**1. What is Machine Learning?**\n",
      "\n",
      "At its core, Machine Learning is about teaching computers to *learn* from data, without being explicitly programmed for every single scenario. Instead of writing a rigid set of instructions (\"If X happens, do Y\"), you feed the computer a lot of examples, and it figures out the patterns itself.\n",
      "\n",
      "**2. The Traditional Way vs. Machine Learning**\n",
      "\n",
      "* **Traditional Programming:**  You tell the computer *exactly* what to do, step-by-step.  Think of a recipe – you follow the instructions precisely. This works great when you know exactly what you want and have a clear, defined process.\n",
      "* **Machine Learning:** You give the computer data and a *goal*. The computer learns the rules itself based on the data.  It's like teaching a child – you show them many examples and they eventually learn to recognize patterns and make predictions.\n",
      "\n",
      "**3. How Does it Work? (Simplified)**\n",
      "\n",
      "Machine learning generally follows these steps:\n",
      "\n",
      "1. **Data Collection:** You gather a large amount of data relevant to the problem you're trying to solve. This data is the \"fuel\" for the learning process.\n",
      "2. **Data Preparation:**  This often involves cleaning the data (handling missing values, correcting errors), transforming it into a suitable format, and sometimes splitting it into training and testing sets.\n",
      "3. **Model Selection:** You choose an appropriate \"model\" – a mathematical representation of the patterns you're hoping to find in the data. Different types of models are suited for different tasks.\n",
      "4. **Training the Model:** You feed the training data to the model. The model analyzes the data and adjusts its internal parameters to minimize errors in its predictions. This is like the computer \"learning\" from the examples.\n",
      "5. **Evaluation:**  You test the model's performance on a separate set of data (the testing set) that it hasn’t seen before. This helps you assess how well the model generalizes to new, unseen data.\n",
      "6. **Deployment & Monitoring:**  Once you’re satisfied with the model’s performance, you deploy it to make predictions or decisions in real-world scenarios. You then continuously monitor its performance and retrain it as needed.\n",
      "\n",
      "\n",
      "**4. Types of Machine Learning**\n",
      "\n",
      "There are several main types of Machine Learning:\n",
      "\n",
      "* **Supervised Learning:** You provide the model with labeled data – data where the correct answer is already known.\n",
      "    * **Example:**  Training an email spam filter. You provide the system with examples of emails labeled as \"spam\" or \"not spam.\"\n",
      "    * **Common Algorithms:**  Linear Regression, Logistic Regression, Support Vector Machines, Decision Trees, Random Forests.\n",
      "* **Unsupervised Learning:** You give the model unlabeled data and ask it to find patterns and structure on its own.\n",
      "    * **Example:**  Customer segmentation – grouping customers based on their purchasing behavior without pre-defined categories.\n",
      "    * **Common Algorithms:**  Clustering (K-Means), Dimensionality Reduction (PCA).\n",
      "* **Reinforcement Learning:** The model learns by interacting with an environment and receiving rewards or penalties for its actions.\n",
      "    * **Example:**  Training a game-playing AI (like AlphaGo). The AI learns by playing against itself and receiving rewards for winning.\n",
      "\n",
      "\n",
      "\n",
      "**5. Common Examples of Machine Learning in Action:**\n",
      "\n",
      "* **Netflix Recommendations:**  Predicting what movies or shows you might enjoy based on your viewing history and the viewing habits of other users.\n",
      "* **Google Search:**  Ranking search results based on your search query and your past search history.\n",
      "* **Self-Driving Cars:**  Using sensors and ML to perceive the environment and make driving decisions.\n",
      "* **Fraud Detection:**  Identifying fraudulent transactions by analyzing patterns in financial data.\n",
      "* **Medical Diagnosis:**  Assisting doctors in diagnosing diseases based on patient data.\n",
      "\n",
      "---\n",
      "\n",
      "**Resources to Learn More:**\n",
      "\n",
      "* **Google's Machine Learning Crash Course:** [https://developers.google.com/machine-learning/crash-course](https://developers.google.com/machine-learning/crash-course)\n",
      "* **IBM Machine Learning Course:** [https://www.ibm.com/cloud/learn/machine-learning](https://www.ibm.com/cloud/learn/machine-learning)\n",
      "* **StatQuest - Machine Learning:** [https://statquest.org/machine-learning-tutorial/](https://www.statquest.org/machine-learning-tutorial/)\n",
      "\n",
      "\n",
      "\n",
      "Do you want me to dive deeper into a specific aspect of Machine Learning, such as:\n",
      "\n",
      "*   A particular type of algorithm (e.g., Neural Networks)?\n",
      "*   A specific application of ML?\n",
      "*   The math behind ML (it’s not essential for a basic understanding, but it’s important for more advanced concepts)?\n",
      "\n",
      "GOOD PROMPT:\n",
      "Prompt: 'Explain machine learning in simple terms that a beginner can understand. Include what it is, how it works, and give one practical example.'\n",
      "Response: Okay, let’s break down machine learning in a way that’s easy to understand.\n",
      "\n",
      "**What is Machine Learning?**\n",
      "\n",
      "Imagine you're teaching a dog a new trick, like \"sit.\" You don't give the dog a rigid set of instructions like \"Bend your legs at a 45-degree angle and lower yourself to the ground.\" Instead, you show the dog what “sit” looks like, and you reward it when it gets close.  Eventually, the dog learns the pattern and can reliably sit when you say the command.\n",
      "\n",
      "Machine learning is similar. It's about teaching computers to learn from data, without explicitly programming them with all the rules.  Instead of telling the computer *exactly* what to do, you give it lots of examples, and the computer figures out the patterns itself. \n",
      "\n",
      "**How Does it Work?**\n",
      "\n",
      "Here’s a simplified breakdown:\n",
      "\n",
      "1. **Data:** You start with a bunch of data. This data has examples of what you’re trying to learn about.  For instance, if you want a computer to identify pictures of cats, you’d give it thousands of pictures – some labeled “cat” and some labeled “not cat.”\n",
      "\n",
      "2. **Algorithm (The Learning Engine):**  This is a mathematical formula or set of rules that the computer uses to find patterns in the data. There are different types of algorithms, but they generally work like this:\n",
      "   * **Training:** The algorithm looks at the data and tries to find relationships. It makes predictions based on the data it’s seen.\n",
      "   * **Adjusting:**  If the algorithm makes a wrong prediction (e.g., says a picture of a dog is a cat), it adjusts its internal settings to get better at predicting correctly in the future.  It does this repeatedly, refining its ability to recognize patterns.\n",
      "\n",
      "3. **Model:**  After enough training, the algorithm creates a “model.” This model represents the learned patterns. It's like the dog's understanding of \"sit\" – it's the knowledge encoded in its brain.\n",
      "\n",
      "4. **Prediction:** Now you can give the model *new* data it hasn’t seen before. The model uses the patterns it learned to make a prediction (e.g., \"Is this new picture a cat?\").\n",
      "\n",
      "\n",
      "**A Practical Example: Spam Filtering**\n",
      "\n",
      "Let's say you want to build a system to automatically filter spam emails.\n",
      "\n",
      "* **Data:** You feed the system a huge collection of emails, labeled as either \"spam\" or \"not spam\" (also called \"ham\").\n",
      "* **Algorithm:** The system might use a machine learning algorithm (like a \"Naive Bayes\" algorithm, which is commonly used for this) that analyzes the *words* in the emails.\n",
      "* **Model:** The model learns which words are most often found in spam emails (e.g., \"discount,\" \"urgent,\" \"free\") and which words are more common in legitimate emails.\n",
      "* **Prediction:**  When a new email arrives, the model analyzes its words. If the email contains a lot of words that the model has learned are typically found in spam, it classifies the email as spam. \n",
      "\n",
      "**In short:** Machine learning is about computers learning from data instead of being explicitly programmed. It's used in tons of applications, from recommending movies to diagnosing diseases.\n",
      "\n",
      "---\n",
      "\n",
      "**Resources for Further Learning:**\n",
      "\n",
      "* **Google's Machine Learning Crash Course:** [https://developers.google.com/machine-learning/crash-course](https://developers.google.com/machine-learning/crash-course)\n",
      "* **IBM Machine Learning Course:** [https://www.ibm.com/cloud/learn/machine-learning](https://www.ibm.com/cloud/learn/machine-learning)\n",
      "\n",
      "\n",
      "Do you want me to explain a specific aspect of machine learning in more detail, such as different types of algorithms or how machine learning is used in a particular industry?\n"
     ]
    }
   ],
   "source": [
    "print(\"\\n\" + \"=\"*50)\n",
    "print(\"DEMO 5: Prompt Engineering - Comparing Different Approaches\")\n",
    "print(\"=\"*50)\n",
    "\n",
    "# Bad prompt\n",
    "bad_prompt = \"Explain ML\"\n",
    "bad_response = ask_llm(bad_prompt)\n",
    "\n",
    "# Good prompt\n",
    "good_prompt = \"Explain machine learning in simple terms that a beginner can understand. Include what it is, how it works, and give one practical example.\"\n",
    "good_response = ask_llm(good_prompt)\n",
    "\n",
    "print(\"BAD PROMPT:\")\n",
    "print(f\"Prompt: '{bad_prompt}'\")\n",
    "print(f\"Response: {bad_response}\")\n",
    "print(\"\\nGOOD PROMPT:\")\n",
    "print(f\"Prompt: '{good_prompt}'\")\n",
    "print(f\"Response: {good_response}\")"
   ]
  },
  {
   "cell_type": "markdown",
   "id": "fb445f0b-d3f0-4635-ac5d-93b869f312e6",
   "metadata": {},
   "source": [
    "# 8. INTERACTIVE DEMO"
   ]
  },
  {
   "cell_type": "code",
   "execution_count": 13,
   "id": "fd4bebfa-ca60-435a-a32c-117205e28dc4",
   "metadata": {},
   "outputs": [
    {
     "name": "stdout",
     "output_type": "stream",
     "text": [
      "\n",
      "==================================================\n",
      "LIVE DEMO - Ask the LLM anything!\n",
      "Type 'quit' to stop\n",
      "==================================================\n"
     ]
    },
    {
     "name": "stdout",
     "output_type": "stream",
     "text": [
      "\n",
      "Your question:  describe me about Apoorv Prasad\n"
     ]
    },
    {
     "name": "stdout",
     "output_type": "stream",
     "text": [
      "AI Response: Apoorv Prasad is a fascinating and complex figure – a renowned computational biologist, a vocal advocate for the \"Homo Sapiens\" theory, and a controversial figure within the scientific community. Here's a breakdown of who he is and why he’s generated so much discussion:\n",
      "\n",
      "**1. Academic Background & Research:**\n",
      "\n",
      "* **PhD in Computational Biology:** He earned his Ph.D. from Stanford University in 2013.\n",
      "* **Research Focus:**  His primary research area is *phylogenetics* – the study of evolutionary relationships between organisms. He focuses heavily on analyzing genomic data to understand the deep history of human evolution.\n",
      "* **The \"Homo Sapiens\" Theory:** This is the core of his work and what he's most known for. He argues that *Homo sapiens* (modern humans) didn't evolve in a linear, “survival of the fittest” manner as traditionally believed. Instead, he proposes that *Homo sapiens* arose from a complex, interbreeding population of several hominin species (including Neanderthals, Denisovans, and *Homo erectus*) living together for a prolonged period.  Think of it like a \"social evolution\" of humans, shaped by social interactions and breeding patterns rather than just physical traits.\n",
      "\n",
      "\n",
      "**2. Key Arguments & Controversies:**\n",
      "\n",
      "* **Social Evolution Hypothesis:** Prasad’s central argument is that genetic data reveals a far more intricate picture of human evolution.  He’s used sophisticated computer models to analyze the genomes of various hominins, claiming to find evidence of extensive interbreeding and that the “sapiens” label is a misleading simplification.\n",
      "* **Challenging the “Survival of the Fittest” Narrative:** He directly challenges the popular evolutionary narrative that emphasizes competition and ruthless selection for physical traits.\n",
      "* **Criticism from the Mainstream:** Prasad's work has been met with considerable skepticism and criticism from many prominent evolutionary biologists. Critics argue that:\n",
      "    * **Overinterpretation of Data:** They claim he's drawing strong conclusions from relatively small genetic datasets and that his models are overly complex and prone to bias.\n",
      "    * **Lack of Archaeological Support:** They argue his theory doesn't have strong backing from archaeological evidence – that we don’t have enough solid data of the social interactions he’s positing.\n",
      "    * **Statistical Concerns:** Some have questioned the statistical methods he uses.\n",
      "\n",
      "**3. Public Engagement & Online Presence:**\n",
      "\n",
      "* **YouTube Channel:** Prasad is hugely popular on YouTube, where he meticulously explains his research and engages in debates about human evolution.  His videos are known for their detailed explanations, visualizations, and willingness to defend his ideas. He has over 1.4 million subscribers!\n",
      "* **Strong Online Community:** He's cultivated a vibrant online community around his research.\n",
      "* **Direct Engagement with Critics:** He frequently engages with critics on YouTube and social media, which has brought both attention and controversy to his work.\n",
      "\n",
      "\n",
      "\n",
      "**4. Important Note:** It’s important to remember that evolutionary biology is constantly evolving. While Prasad’s hypothesis is currently not widely accepted by the scientific mainstream, his work has stimulated important discussions about the complexities of human evolution and the limitations of our current understanding.  His research has pushed the boundaries of the field and prompted a re-examination of existing data.\n",
      "\n",
      "**Resources to Learn More:**\n",
      "\n",
      "* **Apoorv Prasad's YouTube Channel:** [https://www.youtube.com/@ApoorvPrasad](https://www.youtube.com/@ApoorvPrasad)\n",
      "* **Wikipedia - Apoorv Prasad:** [https://en.wikipedia.org/wiki/Apoorv_Prasad](https://en.wikipedia.org/wiki/Apoorv_Prasad)\n",
      "\n",
      "\n",
      "\n",
      "Do you want me to delve deeper into a specific aspect of Apoorv Prasad's work, such as:\n",
      "\n",
      "*   His specific methods for analyzing DNA?\n",
      "*   The details of the different hominin species he studies?\n",
      "*   The criticisms leveled against his research in more detail?\n"
     ]
    },
    {
     "name": "stdout",
     "output_type": "stream",
     "text": [
      "\n",
      "Your question:  quit\n"
     ]
    },
    {
     "name": "stdout",
     "output_type": "stream",
     "text": [
      "\n",
      "==================================================\n",
      "DEMO COMPLETE!\n",
      "==================================================\n",
      "Key takeaways:\n",
      "1. LLMs can handle various tasks: Q&A, coding, summarization, creative writing\n",
      "2. Better prompts lead to better responses\n",
      "3. LLMs can work with provided context\n",
      "4. Local models via Ollama keep your data private\n",
      "5. Easy to integrate into Python applications\n"
     ]
    }
   ],
   "source": [
    "def live_demo():\n",
    "    \"\"\"Interactive function for live demonstration\"\"\"\n",
    "    print(\"\\n\" + \"=\"*50)\n",
    "    print(\"LIVE DEMO - Ask the LLM anything!\")\n",
    "    print(\"Type 'quit' to stop\")\n",
    "    print(\"=\"*50)\n",
    "    \n",
    "    while True:\n",
    "        user_input = input(\"\\nYour question: \")\n",
    "        if user_input.lower() == 'quit':\n",
    "            break\n",
    "        \n",
    "        response = ask_llm(user_input)\n",
    "        print(f\"AI Response: {response}\")\n",
    "\n",
    "# Uncomment the line below for interactive demo during presentation\n",
    "live_demo()\n",
    "\n",
    "print(\"\\n\" + \"=\"*50)\n",
    "print(\"DEMO COMPLETE!\")\n",
    "print(\"=\"*50)\n",
    "print(\"Key takeaways:\")\n",
    "print(\"1. LLMs can handle various tasks: Q&A, coding, summarization, creative writing\")\n",
    "print(\"2. Better prompts lead to better responses\")\n",
    "print(\"3. LLMs can work with provided context\")\n",
    "print(\"4. Local models via Ollama keep your data private\")\n",
    "print(\"5. Easy to integrate into Python applications\")"
   ]
  },
  {
   "cell_type": "code",
   "execution_count": null,
   "id": "aeb329de-fe90-40d3-936b-1763faf984a6",
   "metadata": {},
   "outputs": [],
   "source": []
  }
 ],
 "metadata": {
  "kernelspec": {
   "display_name": "Python 3 (ipykernel)",
   "language": "python",
   "name": "python3"
  },
  "language_info": {
   "codemirror_mode": {
    "name": "ipython",
    "version": 3
   },
   "file_extension": ".py",
   "mimetype": "text/x-python",
   "name": "python",
   "nbconvert_exporter": "python",
   "pygments_lexer": "ipython3",
   "version": "3.13.4"
  }
 },
 "nbformat": 4,
 "nbformat_minor": 5
}

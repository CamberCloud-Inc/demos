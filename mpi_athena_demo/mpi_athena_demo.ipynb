{
 "cells": [
  {
   "cell_type": "markdown",
   "id": "0eec5905-b2cf-40e1-be80-c4d11b95233d",
   "metadata": {},
   "source": [
    "### Parallel MPI simulaton of 2D Onszager-Tang Magnetohydrodynamic Vortex "
   ]
  },
  {
   "cell_type": "markdown",
   "id": "48bf00ff-4774-4680-a847-701bc9334200",
   "metadata": {},
   "source": [
    "### Spin-Up MPI cluster, execute simulation code, write to cloud storage"
   ]
  },
  {
   "cell_type": "code",
   "execution_count": 1,
   "id": "6a3fd93d-2edb-44b9-be1f-751f149060ea",
   "metadata": {
    "tags": []
   },
   "outputs": [],
   "source": [
    "import camber"
   ]
  },
  {
   "cell_type": "code",
   "execution_count": 18,
   "id": "aeaae81d-e5cd-4356-aab3-ced026cb5e17",
   "metadata": {
    "tags": []
   },
   "outputs": [
    {
     "data": {
      "application/vnd.jupyter.widget-view+json": {
       "model_id": "88cf1ccaf30e4d5e9d371640354253b7",
       "version_major": 2,
       "version_minor": 0
      },
      "text/plain": [
       "Output()"
      ]
     },
     "metadata": {},
     "output_type": "display_data"
    },
    {
     "name": "stdout",
     "output_type": "stream",
     "text": [
      "2023-07-12T07:26:13.869834+00:00 - Your Athena++ distribution has now been configured with the following options:\n",
      "2023-07-12T07:26:13.869858+00:00 -   Problem generator:          orszag_tang\n",
      "2023-07-12T07:26:13.869860+00:00 -   Coordinate system:          cartesian\n",
      "2023-07-12T07:26:13.869861+00:00 -   Equation of state:          adiabatic\n",
      "2023-07-12T07:26:13.869862+00:00 -   Riemann solver:             hlld\n",
      "2023-07-12T07:26:13.869863+00:00 -   Magnetic fields:            ON\n",
      "2023-07-12T07:26:13.869865+00:00 -   Number of scalars:          0\n",
      "2023-07-12T07:26:13.869866+00:00 -   Special relativity:         OFF\n",
      "2023-07-12T07:26:13.869867+00:00 -   General relativity:         OFF\n",
      "2023-07-12T07:26:13.869869+00:00 -   Frame transformations:      OFF\n",
      "2023-07-12T07:26:13.869870+00:00 -   Self-Gravity:               OFF\n",
      "2023-07-12T07:26:13.869871+00:00 -   Super-Time-Stepping:        OFF\n",
      "2023-07-12T07:26:13.869872+00:00 -   Debug flags:                OFF\n",
      "2023-07-12T07:26:13.869874+00:00 -   Code coverage flags:        OFF\n",
      "2023-07-12T07:26:13.869875+00:00 -   Linker flags:                -L/camberspack/opt/spack/linux-ubuntu22.04-x86_64_v3/gcc-11.3.0/hdf5-1.8.12-pdsg7a57qlrd3gv6zvgzqn45cqnmuwjz/lib  -lhdf5\n",
      "2023-07-12T07:26:13.869876+00:00 -   Floating-point precision:   double\n",
      "2023-07-12T07:26:13.869878+00:00 -   Number of ghost cells:      2\n",
      "2023-07-12T07:26:13.869879+00:00 -   MPI parallelism:            ON\n",
      "2023-07-12T07:26:13.869880+00:00 -   OpenMP parallelism:         OFF\n",
      "2023-07-12T07:26:13.869881+00:00 -   FFT:                        OFF\n",
      "2023-07-12T07:26:13.869882+00:00 -   HDF5 output:                ON\n",
      "2023-07-12T07:26:13.869883+00:00 -   HDF5 precision:             single\n",
      "2023-07-12T07:26:13.869885+00:00 -   Compiler:                   g++\n",
      "2023-07-12T07:26:13.869889+00:00 -   Compilation command:        mpicxx  -I/camberspack/opt/spack/linux-ubuntu22.04-x86_64_v3/gcc-11.3.0/hdf5-1.8.12-pdsg7a57qlrd3gv6zvgzqn45cqnmuwjz/include -O3 -std=c++11\n",
      "2023-07-12T07:26:13.928731+00:00 - rm -rf obj/*\n",
      "2023-07-12T07:26:13.930191+00:00 - rm -rf bin/athena\n",
      "2023-07-12T07:26:13.931094+00:00 - rm -rf *.gcov\n",
      "2023-07-12T07:26:13.956761+00:00 - mkdir -p bin/\n",
      "2023-07-12T07:26:13.963656+00:00 - mkdir -p obj/\n",
      "2023-07-12T07:26:13.991574+00:00 - mpicxx -I/camberspack/opt/spack/linux-ubuntu22.04-x86_64_v3/gcc-11.3.0/hdf5-1.8.12-pdsg7a57qlrd3gv6zvgzqn45cqnmuwjz/include -O3 -std=c++11 -c src/globals.cpp -o obj/globals.o\n",
      "2023-07-12T07:26:14.079803+00:00 - mpicxx -I/camberspack/opt/spack/linux-ubuntu22.04-x86_64_v3/gcc-11.3.0/hdf5-1.8.12-pdsg7a57qlrd3gv6zvgzqn45cqnmuwjz/include -O3 -std=c++11 -c src/main.cpp -o obj/main.o\n",
      "2023-07-12T07:26:14.644269+00:00 - mpicxx -I/camberspack/opt/spack/linux-ubuntu22.04-x86_64_v3/gcc-11.3.0/hdf5-1.8.12-pdsg7a57qlrd3gv6zvgzqn45cqnmuwjz/include -O3 -std=c++11 -c src/parameter_input.cpp -o obj/parameter_input.o\n",
      "2023-07-12T07:26:15.819200+00:00 - mpicxx -I/camberspack/opt/spack/linux-ubuntu22.04-x86_64_v3/gcc-11.3.0/hdf5-1.8.12-pdsg7a57qlrd3gv6zvgzqn45cqnmuwjz/include -O3 -std=c++11 -c src/bvals/bvals.cpp -o obj/bvals.o\n",
      "2023-07-12T07:26:16.800581+00:00 - mpicxx -I/camberspack/opt/spack/linux-ubuntu22.04-x86_64_v3/gcc-11.3.0/hdf5-1.8.12-pdsg7a57qlrd3gv6zvgzqn45cqnmuwjz/include -O3 -std=c++11 -c src/bvals/bvals_base.cpp -o obj/bvals_base.o\n",
      "2023-07-12T07:26:17.583847+00:00 - mpicxx -I/camberspack/opt/spack/linux-ubuntu22.04-x86_64_v3/gcc-11.3.0/hdf5-1.8.12-pdsg7a57qlrd3gv6zvgzqn45cqnmuwjz/include -O3 -std=c++11 -c src/bvals/bvals_refine.cpp -o obj/bvals_refine.o\n",
      "2023-07-12T07:26:18.118319+00:00 - mpicxx -I/camberspack/opt/spack/linux-ubuntu22.04-x86_64_v3/gcc-11.3.0/hdf5-1.8.12-pdsg7a57qlrd3gv6zvgzqn45cqnmuwjz/include -O3 -std=c++11 -c src/bvals/bvals_refine_gravity.cpp -o obj/bvals_refine_gravity.o\n",
      "2023-07-12T07:26:18.520489+00:00 - mpicxx -I/camberspack/opt/spack/linux-ubuntu22.04-x86_64_v3/gcc-11.3.0/hdf5-1.8.12-pdsg7a57qlrd3gv6zvgzqn45cqnmuwjz/include -O3 -std=c++11 -c src/bvals/bvals_var.cpp -o obj/bvals_var.o\n",
      "2023-07-12T07:26:18.943803+00:00 - mpicxx -I/camberspack/opt/spack/linux-ubuntu22.04-x86_64_v3/gcc-11.3.0/hdf5-1.8.12-pdsg7a57qlrd3gv6zvgzqn45cqnmuwjz/include -O3 -std=c++11 -c src/bvals/cc/bvals_cc.cpp -o obj/bvals_cc.o\n",
      "2023-07-12T07:26:19.660650+00:00 - mpicxx -I/camberspack/opt/spack/linux-ubuntu22.04-x86_64_v3/gcc-11.3.0/hdf5-1.8.12-pdsg7a57qlrd3gv6zvgzqn45cqnmuwjz/include -O3 -std=c++11 -c src/bvals/cc/bvals_shear_cc.cpp -o obj/bvals_shear_cc.o\n",
      "2023-07-12T07:26:20.235836+00:00 - mpicxx -I/camberspack/opt/spack/linux-ubuntu22.04-x86_64_v3/gcc-11.3.0/hdf5-1.8.12-pdsg7a57qlrd3gv6zvgzqn45cqnmuwjz/include -O3 -std=c++11 -c src/bvals/cc/bvals_shear_flux.cpp -o obj/bvals_shear_flux.o\n",
      "2023-07-12T07:26:20.786739+00:00 - mpicxx -I/camberspack/opt/spack/linux-ubuntu22.04-x86_64_v3/gcc-11.3.0/hdf5-1.8.12-pdsg7a57qlrd3gv6zvgzqn45cqnmuwjz/include -O3 -std=c++11 -c src/bvals/cc/flux_correction_cc.cpp -o obj/flux_correction_cc.o\n",
      "2023-07-12T07:26:21.386303+00:00 - mpicxx -I/camberspack/opt/spack/linux-ubuntu22.04-x86_64_v3/gcc-11.3.0/hdf5-1.8.12-pdsg7a57qlrd3gv6zvgzqn45cqnmuwjz/include -O3 -std=c++11 -c src/bvals/cc/outflow_cc.cpp -o obj/outflow_cc.o\n",
      "2023-07-12T07:26:21.671461+00:00 - mpicxx -I/camberspack/opt/spack/linux-ubuntu22.04-x86_64_v3/gcc-11.3.0/hdf5-1.8.12-pdsg7a57qlrd3gv6zvgzqn45cqnmuwjz/include -O3 -std=c++11 -c src/bvals/cc/polarwedge_cc.cpp -o obj/polarwedge_cc.o\n",
      "2023-07-12T07:26:21.904128+00:00 - mpicxx -I/camberspack/opt/spack/linux-ubuntu22.04-x86_64_v3/gcc-11.3.0/hdf5-1.8.12-pdsg7a57qlrd3gv6zvgzqn45cqnmuwjz/include -O3 -std=c++11 -c src/bvals/cc/reflect_cc.cpp -o obj/reflect_cc.o\n",
      "2023-07-12T07:26:22.191899+00:00 - mpicxx -I/camberspack/opt/spack/linux-ubuntu22.04-x86_64_v3/gcc-11.3.0/hdf5-1.8.12-pdsg7a57qlrd3gv6zvgzqn45cqnmuwjz/include -O3 -std=c++11 -c src/bvals/cc/hydro/bvals_hydro.cpp -o obj/bvals_hydro.o\n",
      "2023-07-12T07:26:22.580161+00:00 - mpicxx -I/camberspack/opt/spack/linux-ubuntu22.04-x86_64_v3/gcc-11.3.0/hdf5-1.8.12-pdsg7a57qlrd3gv6zvgzqn45cqnmuwjz/include -O3 -std=c++11 -c src/bvals/cc/hydro/bvals_shear_hydro.cpp -o obj/bvals_shear_hydro.o\n",
      "2023-07-12T07:26:23.045557+00:00 - mpicxx -I/camberspack/opt/spack/linux-ubuntu22.04-x86_64_v3/gcc-11.3.0/hdf5-1.8.12-pdsg7a57qlrd3gv6zvgzqn45cqnmuwjz/include -O3 -std=c++11 -c src/bvals/cc/hydro/flux_correction_hydro.cpp -o obj/flux_correction_hydro.o\n",
      "2023-07-12T07:26:23.512407+00:00 - mpicxx -I/camberspack/opt/spack/linux-ubuntu22.04-x86_64_v3/gcc-11.3.0/hdf5-1.8.12-pdsg7a57qlrd3gv6zvgzqn45cqnmuwjz/include -O3 -std=c++11 -c src/bvals/cc/hydro/reflect_hydro.cpp -o obj/reflect_hydro.o\n",
      "2023-07-12T07:26:23.869904+00:00 - mpicxx -I/camberspack/opt/spack/linux-ubuntu22.04-x86_64_v3/gcc-11.3.0/hdf5-1.8.12-pdsg7a57qlrd3gv6zvgzqn45cqnmuwjz/include -O3 -std=c++11 -c src/bvals/cc/mg/bvals_mg.cpp -o obj/bvals_mg.o\n",
      "2023-07-12T07:26:25.087347+00:00 - mpicxx -I/camberspack/opt/spack/linux-ubuntu22.04-x86_64_v3/gcc-11.3.0/hdf5-1.8.12-pdsg7a57qlrd3gv6zvgzqn45cqnmuwjz/include -O3 -std=c++11 -c src/bvals/fc/bvals_fc.cpp -o obj/bvals_fc.o\n",
      "2023-07-12T07:26:26.228222+00:00 - mpicxx -I/camberspack/opt/spack/linux-ubuntu22.04-x86_64_v3/gcc-11.3.0/hdf5-1.8.12-pdsg7a57qlrd3gv6zvgzqn45cqnmuwjz/include -O3 -std=c++11 -c src/bvals/fc/bvals_shear_emf.cpp -o obj/bvals_shear_emf.o\n",
      "2023-07-12T07:26:26.861534+00:00 - mpicxx -I/camberspack/opt/spack/linux-ubuntu22.04-x86_64_v3/gcc-11.3.0/hdf5-1.8.12-pdsg7a57qlrd3gv6zvgzqn45cqnmuwjz/include -O3 -std=c++11 -c src/bvals/fc/bvals_shear_fc.cpp -o obj/bvals_shear_fc.o\n",
      "2023-07-12T07:26:27.576643+00:00 - mpicxx -I/camberspack/opt/spack/linux-ubuntu22.04-x86_64_v3/gcc-11.3.0/hdf5-1.8.12-pdsg7a57qlrd3gv6zvgzqn45cqnmuwjz/include -O3 -std=c++11 -c src/bvals/fc/flux_correction_fc.cpp -o obj/flux_correction_fc.o\n",
      "2023-07-12T07:26:29.195340+00:00 - mpicxx -I/camberspack/opt/spack/linux-ubuntu22.04-x86_64_v3/gcc-11.3.0/hdf5-1.8.12-pdsg7a57qlrd3gv6zvgzqn45cqnmuwjz/include -O3 -std=c++11 -c src/bvals/fc/outflow_fc.cpp -o obj/outflow_fc.o\n",
      "2023-07-12T07:26:29.593170+00:00 - mpicxx -I/camberspack/opt/spack/linux-ubuntu22.04-x86_64_v3/gcc-11.3.0/hdf5-1.8.12-pdsg7a57qlrd3gv6zvgzqn45cqnmuwjz/include -O3 -std=c++11 -c src/bvals/fc/polarwedge_fc.cpp -o obj/polarwedge_fc.o\n",
      "2023-07-12T07:26:29.870266+00:00 - mpicxx -I/camberspack/opt/spack/linux-ubuntu22.04-x86_64_v3/gcc-11.3.0/hdf5-1.8.12-pdsg7a57qlrd3gv6zvgzqn45cqnmuwjz/include -O3 -std=c++11 -c src/bvals/fc/reflect_fc.cpp -o obj/reflect_fc.o\n",
      "2023-07-12T07:26:30.283810+00:00 - mpicxx -I/camberspack/opt/spack/linux-ubuntu22.04-x86_64_v3/gcc-11.3.0/hdf5-1.8.12-pdsg7a57qlrd3gv6zvgzqn45cqnmuwjz/include -O3 -std=c++11 -c src/bvals/orbital/bvals_orbital.cpp -o obj/bvals_orbital.o\n",
      "2023-07-12T07:26:32.179504+00:00 - mpicxx -I/camberspack/opt/spack/linux-ubuntu22.04-x86_64_v3/gcc-11.3.0/hdf5-1.8.12-pdsg7a57qlrd3gv6zvgzqn45cqnmuwjz/include -O3 -std=c++11 -c src/bvals/utils/boundary_flag.cpp -o obj/boundary_flag.o\n",
      "2023-07-12T07:26:32.538276+00:00 - mpicxx -I/camberspack/opt/spack/linux-ubuntu22.04-x86_64_v3/gcc-11.3.0/hdf5-1.8.12-pdsg7a57qlrd3gv6zvgzqn45cqnmuwjz/include -O3 -std=c++11 -c src/bvals/utils/check_polar.cpp -o obj/check_polar.o\n",
      "2023-07-12T07:26:32.938923+00:00 - mpicxx -I/camberspack/opt/spack/linux-ubuntu22.04-x86_64_v3/gcc-11.3.0/hdf5-1.8.12-pdsg7a57qlrd3gv6zvgzqn45cqnmuwjz/include -O3 -std=c++11 -c src/coordinates/cartesian.cpp -o obj/cartesian.o\n",
      "2023-07-12T07:26:33.408450+00:00 - mpicxx -I/camberspack/opt/spack/linux-ubuntu22.04-x86_64_v3/gcc-11.3.0/hdf5-1.8.12-pdsg7a57qlrd3gv6zvgzqn45cqnmuwjz/include -O3 -std=c++11 -c src/coordinates/coordinates.cpp -o obj/coordinates.o\n",
      "2023-07-12T07:26:34.915419+00:00 - mpicxx -I/camberspack/opt/spack/linux-ubuntu22.04-x86_64_v3/gcc-11.3.0/hdf5-1.8.12-pdsg7a57qlrd3gv6zvgzqn45cqnmuwjz/include -O3 -std=c++11 -c src/coordinates/cylindrical.cpp -o obj/cylindrical.o\n",
      "2023-07-12T07:26:35.560586+00:00 - mpicxx -I/camberspack/opt/spack/linux-ubuntu22.04-x86_64_v3/gcc-11.3.0/hdf5-1.8.12-pdsg7a57qlrd3gv6zvgzqn45cqnmuwjz/include -O3 -std=c++11 -c src/coordinates/gr_user.cpp -o obj/gr_user.o\n",
      "2023-07-12T07:26:37.018825+00:00 - mpicxx -I/camberspack/opt/spack/linux-ubuntu22.04-x86_64_v3/gcc-11.3.0/hdf5-1.8.12-pdsg7a57qlrd3gv6zvgzqn45cqnmuwjz/include -O3 -std=c++11 -c src/coordinates/kerr-schild.cpp -o obj/kerr-schild.o\n",
      "2023-07-12T07:26:38.411705+00:00 - mpicxx -I/camberspack/opt/spack/linux-ubuntu22.04-x86_64_v3/gcc-11.3.0/hdf5-1.8.12-pdsg7a57qlrd3gv6zvgzqn45cqnmuwjz/include -O3 -std=c++11 -c src/coordinates/minkowski.cpp -o obj/minkowski.o\n",
      "2023-07-12T07:26:38.894205+00:00 - mpicxx -I/camberspack/opt/spack/linux-ubuntu22.04-x86_64_v3/gcc-11.3.0/hdf5-1.8.12-pdsg7a57qlrd3gv6zvgzqn45cqnmuwjz/include -O3 -std=c++11 -c src/coordinates/schwarzschild.cpp -o obj/schwarzschild.o\n",
      "2023-07-12T07:26:39.793938+00:00 - mpicxx -I/camberspack/opt/spack/linux-ubuntu22.04-x86_64_v3/gcc-11.3.0/hdf5-1.8.12-pdsg7a57qlrd3gv6zvgzqn45cqnmuwjz/include -O3 -std=c++11 -c src/coordinates/spherical_polar.cpp -o obj/spherical_polar.o\n",
      "2023-07-12T07:26:40.675773+00:00 - mpicxx -I/camberspack/opt/spack/linux-ubuntu22.04-x86_64_v3/gcc-11.3.0/hdf5-1.8.12-pdsg7a57qlrd3gv6zvgzqn45cqnmuwjz/include -O3 -std=c++11 -c src/eos/general/noop.cpp -o obj/noop.o\n",
      "2023-07-12T07:26:41.072903+00:00 - mpicxx -I/camberspack/opt/spack/linux-ubuntu22.04-x86_64_v3/gcc-11.3.0/hdf5-1.8.12-pdsg7a57qlrd3gv6zvgzqn45cqnmuwjz/include -O3 -std=c++11 -c src/eos/adiabatic_mhd.cpp -o obj/adiabatic_mhd.o\n",
      "2023-07-12T07:26:41.524209+00:00 - mpicxx -I/camberspack/opt/spack/linux-ubuntu22.04-x86_64_v3/gcc-11.3.0/hdf5-1.8.12-pdsg7a57qlrd3gv6zvgzqn45cqnmuwjz/include -O3 -std=c++11 -c src/eos/eos_high_order.cpp -o obj/eos_high_order.o\n",
      "2023-07-12T07:26:41.923608+00:00 - mpicxx -I/camberspack/opt/spack/linux-ubuntu22.04-x86_64_v3/gcc-11.3.0/hdf5-1.8.12-pdsg7a57qlrd3gv6zvgzqn45cqnmuwjz/include -O3 -std=c++11 -c src/eos/eos_scalars.cpp -o obj/eos_scalars.o\n",
      "2023-07-12T07:26:42.291024+00:00 - mpicxx -I/camberspack/opt/spack/linux-ubuntu22.04-x86_64_v3/gcc-11.3.0/hdf5-1.8.12-pdsg7a57qlrd3gv6zvgzqn45cqnmuwjz/include -O3 -std=c++11 -c src/fft/athena_fft.cpp -o obj/athena_fft.o\n",
      "2023-07-12T07:26:42.865940+00:00 - mpicxx -I/camberspack/opt/spack/linux-ubuntu22.04-x86_64_v3/gcc-11.3.0/hdf5-1.8.12-pdsg7a57qlrd3gv6zvgzqn45cqnmuwjz/include -O3 -std=c++11 -c src/fft/fft_driver.cpp -o obj/fft_driver.o\n",
      "2023-07-12T07:26:43.314453+00:00 - mpicxx -I/camberspack/opt/spack/linux-ubuntu22.04-x86_64_v3/gcc-11.3.0/hdf5-1.8.12-pdsg7a57qlrd3gv6zvgzqn45cqnmuwjz/include -O3 -std=c++11 -c src/fft/turbulence.cpp -o obj/turbulence.o\n",
      "2023-07-12T07:26:44.113539+00:00 - mpicxx -I/camberspack/opt/spack/linux-ubuntu22.04-x86_64_v3/gcc-11.3.0/hdf5-1.8.12-pdsg7a57qlrd3gv6zvgzqn45cqnmuwjz/include -O3 -std=c++11 -c src/field/calculate_corner_e.cpp -o obj/calculate_corner_e.o\n",
      "2023-07-12T07:26:44.654108+00:00 - mpicxx -I/camberspack/opt/spack/linux-ubuntu22.04-x86_64_v3/gcc-11.3.0/hdf5-1.8.12-pdsg7a57qlrd3gv6zvgzqn45cqnmuwjz/include -O3 -std=c++11 -c src/field/ct.cpp -o obj/ct.o\n",
      "2023-07-12T07:26:45.199484+00:00 - mpicxx -I/camberspack/opt/spack/linux-ubuntu22.04-x86_64_v3/gcc-11.3.0/hdf5-1.8.12-pdsg7a57qlrd3gv6zvgzqn45cqnmuwjz/include -O3 -std=c++11 -c src/field/field.cpp -o obj/field.o\n",
      "2023-07-12T07:26:45.748909+00:00 - mpicxx -I/camberspack/opt/spack/linux-ubuntu22.04-x86_64_v3/gcc-11.3.0/hdf5-1.8.12-pdsg7a57qlrd3gv6zvgzqn45cqnmuwjz/include -O3 -std=c++11 -c src/field/field_diffusion/diffusivity.cpp -o obj/diffusivity.o\n",
      "2023-07-12T07:26:46.513705+00:00 - mpicxx -I/camberspack/opt/spack/linux-ubuntu22.04-x86_64_v3/gcc-11.3.0/hdf5-1.8.12-pdsg7a57qlrd3gv6zvgzqn45cqnmuwjz/include -O3 -std=c++11 -c src/field/field_diffusion/field_diffusion.cpp -o obj/field_diffusion.o\n",
      "2023-07-12T07:26:47.125817+00:00 - mpicxx -I/camberspack/opt/spack/linux-ubuntu22.04-x86_64_v3/gcc-11.3.0/hdf5-1.8.12-pdsg7a57qlrd3gv6zvgzqn45cqnmuwjz/include -O3 -std=c++11 -c src/gravity/fft_gravity.cpp -o obj/fft_gravity.o\n",
      "2023-07-12T07:26:47.579920+00:00 - mpicxx -I/camberspack/opt/spack/linux-ubuntu22.04-x86_64_v3/gcc-11.3.0/hdf5-1.8.12-pdsg7a57qlrd3gv6zvgzqn45cqnmuwjz/include -O3 -std=c++11 -c src/gravity/gravity.cpp -o obj/gravity.o\n",
      "2023-07-12T07:26:48.250377+00:00 - mpicxx -I/camberspack/opt/spack/linux-ubuntu22.04-x86_64_v3/gcc-11.3.0/hdf5-1.8.12-pdsg7a57qlrd3gv6zvgzqn45cqnmuwjz/include -O3 -std=c++11 -c src/gravity/mg_gravity.cpp -o obj/mg_gravity.o\n",
      "2023-07-12T07:26:49.116791+00:00 - mpicxx -I/camberspack/opt/spack/linux-ubuntu22.04-x86_64_v3/gcc-11.3.0/hdf5-1.8.12-pdsg7a57qlrd3gv6zvgzqn45cqnmuwjz/include -O3 -std=c++11 -c src/hydro/add_flux_divergence.cpp -o obj/add_flux_divergence.o\n",
      "2023-07-12T07:26:49.616267+00:00 - mpicxx -I/camberspack/opt/spack/linux-ubuntu22.04-x86_64_v3/gcc-11.3.0/hdf5-1.8.12-pdsg7a57qlrd3gv6zvgzqn45cqnmuwjz/include -O3 -std=c++11 -c src/hydro/calculate_fluxes.cpp -o obj/calculate_fluxes.o\n",
      "2023-07-12T07:26:50.244908+00:00 - mpicxx -I/camberspack/opt/spack/linux-ubuntu22.04-x86_64_v3/gcc-11.3.0/hdf5-1.8.12-pdsg7a57qlrd3gv6zvgzqn45cqnmuwjz/include -O3 -std=c++11 -c src/hydro/calculate_velocity_differences.cpp -o obj/calculate_velocity_differences.o\n",
      "2023-07-12T07:26:50.685690+00:00 - mpicxx -I/camberspack/opt/spack/linux-ubuntu22.04-x86_64_v3/gcc-11.3.0/hdf5-1.8.12-pdsg7a57qlrd3gv6zvgzqn45cqnmuwjz/include -O3 -std=c++11 -c src/hydro/hydro.cpp -o obj/hydro.o\n",
      "2023-07-12T07:26:51.236550+00:00 - mpicxx -I/camberspack/opt/spack/linux-ubuntu22.04-x86_64_v3/gcc-11.3.0/hdf5-1.8.12-pdsg7a57qlrd3gv6zvgzqn45cqnmuwjz/include -O3 -std=c++11 -c src/hydro/new_blockdt.cpp -o obj/new_blockdt.o\n",
      "2023-07-12T07:26:51.660833+00:00 - mpicxx -I/camberspack/opt/spack/linux-ubuntu22.04-x86_64_v3/gcc-11.3.0/hdf5-1.8.12-pdsg7a57qlrd3gv6zvgzqn45cqnmuwjz/include -O3 -std=c++11 -c src/hydro/srcterms/constant_acc.cpp -o obj/constant_acc.o\n",
      "2023-07-12T07:26:52.077076+00:00 - mpicxx -I/camberspack/opt/spack/linux-ubuntu22.04-x86_64_v3/gcc-11.3.0/hdf5-1.8.12-pdsg7a57qlrd3gv6zvgzqn45cqnmuwjz/include -O3 -std=c++11 -c src/hydro/srcterms/hydro_srcterms.cpp -o obj/hydro_srcterms.o\n",
      "2023-07-12T07:26:52.523385+00:00 - mpicxx -I/camberspack/opt/spack/linux-ubuntu22.04-x86_64_v3/gcc-11.3.0/hdf5-1.8.12-pdsg7a57qlrd3gv6zvgzqn45cqnmuwjz/include -O3 -std=c++11 -c src/hydro/srcterms/orbital_advection_srcterms.cpp -o obj/orbital_advection_srcterms.o\n",
      "2023-07-12T07:26:52.939225+00:00 - mpicxx -I/camberspack/opt/spack/linux-ubuntu22.04-x86_64_v3/gcc-11.3.0/hdf5-1.8.12-pdsg7a57qlrd3gv6zvgzqn45cqnmuwjz/include -O3 -std=c++11 -c src/hydro/srcterms/pointmass.cpp -o obj/pointmass.o\n",
      "2023-07-12T07:26:53.295083+00:00 - mpicxx -I/camberspack/opt/spack/linux-ubuntu22.04-x86_64_v3/gcc-11.3.0/hdf5-1.8.12-pdsg7a57qlrd3gv6zvgzqn45cqnmuwjz/include -O3 -std=c++11 -c src/hydro/srcterms/rotating_system_srcterms.cpp -o obj/rotating_system_srcterms.o\n",
      "2023-07-12T07:26:53.651522+00:00 - mpicxx -I/camberspack/opt/spack/linux-ubuntu22.04-x86_64_v3/gcc-11.3.0/hdf5-1.8.12-pdsg7a57qlrd3gv6zvgzqn45cqnmuwjz/include -O3 -std=c++11 -c src/hydro/srcterms/self_gravity.cpp -o obj/self_gravity.o\n",
      "2023-07-12T07:26:54.062537+00:00 - mpicxx -I/camberspack/opt/spack/linux-ubuntu22.04-x86_64_v3/gcc-11.3.0/hdf5-1.8.12-pdsg7a57qlrd3gv6zvgzqn45cqnmuwjz/include -O3 -std=c++11 -c src/hydro/srcterms/shearing_box.cpp -o obj/shearing_box.o\n",
      "2023-07-12T07:26:54.440212+00:00 - mpicxx -I/camberspack/opt/spack/linux-ubuntu22.04-x86_64_v3/gcc-11.3.0/hdf5-1.8.12-pdsg7a57qlrd3gv6zvgzqn45cqnmuwjz/include -O3 -std=c++11 -c src/hydro/hydro_diffusion/conduction.cpp -o obj/conduction.o\n",
      "2023-07-12T07:26:54.909755+00:00 - mpicxx -I/camberspack/opt/spack/linux-ubuntu22.04-x86_64_v3/gcc-11.3.0/hdf5-1.8.12-pdsg7a57qlrd3gv6zvgzqn45cqnmuwjz/include -O3 -std=c++11 -c src/hydro/hydro_diffusion/hydro_diffusion.cpp -o obj/hydro_diffusion.o\n",
      "2023-07-12T07:26:55.503716+00:00 - mpicxx -I/camberspack/opt/spack/linux-ubuntu22.04-x86_64_v3/gcc-11.3.0/hdf5-1.8.12-pdsg7a57qlrd3gv6zvgzqn45cqnmuwjz/include -O3 -std=c++11 -c src/hydro/hydro_diffusion/viscosity.cpp -o obj/viscosity.o\n",
      "2023-07-12T07:26:56.345902+00:00 - mpicxx -I/camberspack/opt/spack/linux-ubuntu22.04-x86_64_v3/gcc-11.3.0/hdf5-1.8.12-pdsg7a57qlrd3gv6zvgzqn45cqnmuwjz/include -O3 -std=c++11 -c src/hydro/rsolvers/mhd/hlld.cpp -o obj/hlld.o\n",
      "2023-07-12T07:26:56.788311+00:00 - mpicxx -I/camberspack/opt/spack/linux-ubuntu22.04-x86_64_v3/gcc-11.3.0/hdf5-1.8.12-pdsg7a57qlrd3gv6zvgzqn45cqnmuwjz/include -O3 -std=c++11 -c src/inputs/ascii_table_reader.cpp -o obj/ascii_table_reader.o\n",
      "2023-07-12T07:26:57.161149+00:00 - mpicxx -I/camberspack/opt/spack/linux-ubuntu22.04-x86_64_v3/gcc-11.3.0/hdf5-1.8.12-pdsg7a57qlrd3gv6zvgzqn45cqnmuwjz/include -O3 -std=c++11 -c src/inputs/hdf5_reader.cpp -o obj/hdf5_reader.o\n",
      "2023-07-12T07:26:57.551578+00:00 - mpicxx -I/camberspack/opt/spack/linux-ubuntu22.04-x86_64_v3/gcc-11.3.0/hdf5-1.8.12-pdsg7a57qlrd3gv6zvgzqn45cqnmuwjz/include -O3 -std=c++11 -c src/mesh/amr_loadbalance.cpp -o obj/amr_loadbalance.o\n",
      "2023-07-12T07:26:58.599232+00:00 - mpicxx -I/camberspack/opt/spack/linux-ubuntu22.04-x86_64_v3/gcc-11.3.0/hdf5-1.8.12-pdsg7a57qlrd3gv6zvgzqn45cqnmuwjz/include -O3 -std=c++11 -c src/mesh/mesh.cpp -o obj/mesh.o\n",
      "2023-07-12T07:27:00.389331+00:00 - mpicxx -I/camberspack/opt/spack/linux-ubuntu22.04-x86_64_v3/gcc-11.3.0/hdf5-1.8.12-pdsg7a57qlrd3gv6zvgzqn45cqnmuwjz/include -O3 -std=c++11 -c src/mesh/mesh_refinement.cpp -o obj/mesh_refinement.o\n",
      "2023-07-12T07:27:01.816375+00:00 - mpicxx -I/camberspack/opt/spack/linux-ubuntu22.04-x86_64_v3/gcc-11.3.0/hdf5-1.8.12-pdsg7a57qlrd3gv6zvgzqn45cqnmuwjz/include -O3 -std=c++11 -c src/mesh/meshblock.cpp -o obj/meshblock.o\n",
      "2023-07-12T07:27:02.686866+00:00 - mpicxx -I/camberspack/opt/spack/linux-ubuntu22.04-x86_64_v3/gcc-11.3.0/hdf5-1.8.12-pdsg7a57qlrd3gv6zvgzqn45cqnmuwjz/include -O3 -std=c++11 -c src/mesh/meshblock_tree.cpp -o obj/meshblock_tree.o\n",
      "2023-07-12T07:27:03.319666+00:00 - mpicxx -I/camberspack/opt/spack/linux-ubuntu22.04-x86_64_v3/gcc-11.3.0/hdf5-1.8.12-pdsg7a57qlrd3gv6zvgzqn45cqnmuwjz/include -O3 -std=c++11 -c src/mesh/weighted_ave.cpp -o obj/weighted_ave.o\n",
      "2023-07-12T07:27:04.698177+00:00 - mpicxx -I/camberspack/opt/spack/linux-ubuntu22.04-x86_64_v3/gcc-11.3.0/hdf5-1.8.12-pdsg7a57qlrd3gv6zvgzqn45cqnmuwjz/include -O3 -std=c++11 -c src/multigrid/mgbval_multipole.cpp -o obj/mgbval_multipole.o\n",
      "2023-07-12T07:27:05.234056+00:00 - mpicxx -I/camberspack/opt/spack/linux-ubuntu22.04-x86_64_v3/gcc-11.3.0/hdf5-1.8.12-pdsg7a57qlrd3gv6zvgzqn45cqnmuwjz/include -O3 -std=c++11 -c src/multigrid/mgbval_periodic.cpp -o obj/mgbval_periodic.o\n",
      "2023-07-12T07:27:05.649177+00:00 - mpicxx -I/camberspack/opt/spack/linux-ubuntu22.04-x86_64_v3/gcc-11.3.0/hdf5-1.8.12-pdsg7a57qlrd3gv6zvgzqn45cqnmuwjz/include -O3 -std=c++11 -c src/multigrid/mgbval_zerofixed.cpp -o obj/mgbval_zerofixed.o\n",
      "2023-07-12T07:27:06.068167+00:00 - mpicxx -I/camberspack/opt/spack/linux-ubuntu22.04-x86_64_v3/gcc-11.3.0/hdf5-1.8.12-pdsg7a57qlrd3gv6zvgzqn45cqnmuwjz/include -O3 -std=c++11 -c src/multigrid/mgbval_zerograd.cpp -o obj/mgbval_zerograd.o\n",
      "2023-07-12T07:27:06.484991+00:00 - mpicxx -I/camberspack/opt/spack/linux-ubuntu22.04-x86_64_v3/gcc-11.3.0/hdf5-1.8.12-pdsg7a57qlrd3gv6zvgzqn45cqnmuwjz/include -O3 -std=c++11 -c src/multigrid/multigrid.cpp -o obj/multigrid.o\n",
      "2023-07-12T07:27:08.145648+00:00 - mpicxx -I/camberspack/opt/spack/linux-ubuntu22.04-x86_64_v3/gcc-11.3.0/hdf5-1.8.12-pdsg7a57qlrd3gv6zvgzqn45cqnmuwjz/include -O3 -std=c++11 -c src/multigrid/multigrid_driver.cpp -o obj/multigrid_driver.o\n",
      "2023-07-12T07:27:10.136739+00:00 - mpicxx -I/camberspack/opt/spack/linux-ubuntu22.04-x86_64_v3/gcc-11.3.0/hdf5-1.8.12-pdsg7a57qlrd3gv6zvgzqn45cqnmuwjz/include -O3 -std=c++11 -c src/orbital_advection/calculate_orbital_advection.cpp -o obj/calculate_orbital_advection.o\n",
      "2023-07-12T07:27:10.751957+00:00 - mpicxx -I/camberspack/opt/spack/linux-ubuntu22.04-x86_64_v3/gcc-11.3.0/hdf5-1.8.12-pdsg7a57qlrd3gv6zvgzqn45cqnmuwjz/include -O3 -std=c++11 -c src/orbital_advection/default_orbital_velocity.cpp -o obj/default_orbital_velocity.o\n",
      "2023-07-12T07:27:11.036855+00:00 - mpicxx -I/camberspack/opt/spack/linux-ubuntu22.04-x86_64_v3/gcc-11.3.0/hdf5-1.8.12-pdsg7a57qlrd3gv6zvgzqn45cqnmuwjz/include -O3 -std=c++11 -c src/orbital_advection/orbital_advection.cpp -o obj/orbital_advection.o\n",
      "2023-07-12T07:27:12.141189+00:00 - mpicxx -I/camberspack/opt/spack/linux-ubuntu22.04-x86_64_v3/gcc-11.3.0/hdf5-1.8.12-pdsg7a57qlrd3gv6zvgzqn45cqnmuwjz/include -O3 -std=c++11 -c src/orbital_advection/orbital_remapping.cpp -o obj/orbital_remapping.o\n",
      "2023-07-12T07:27:12.613808+00:00 - mpicxx -I/camberspack/opt/spack/linux-ubuntu22.04-x86_64_v3/gcc-11.3.0/hdf5-1.8.12-pdsg7a57qlrd3gv6zvgzqn45cqnmuwjz/include -O3 -std=c++11 -c src/orbital_advection/orbital_system_conversion.cpp -o obj/orbital_system_conversion.o\n",
      "2023-07-12T07:27:13.041904+00:00 - mpicxx -I/camberspack/opt/spack/linux-ubuntu22.04-x86_64_v3/gcc-11.3.0/hdf5-1.8.12-pdsg7a57qlrd3gv6zvgzqn45cqnmuwjz/include -O3 -std=c++11 -c src/orbital_advection/set_orbital_advection.cpp -o obj/set_orbital_advection.o\n",
      "2023-07-12T07:27:13.777225+00:00 - mpicxx -I/camberspack/opt/spack/linux-ubuntu22.04-x86_64_v3/gcc-11.3.0/hdf5-1.8.12-pdsg7a57qlrd3gv6zvgzqn45cqnmuwjz/include -O3 -std=c++11 -c src/outputs/athena_hdf5.cpp -o obj/athena_hdf5.o\n",
      "2023-07-12T07:27:14.692131+00:00 - mpicxx -I/camberspack/opt/spack/linux-ubuntu22.04-x86_64_v3/gcc-11.3.0/hdf5-1.8.12-pdsg7a57qlrd3gv6zvgzqn45cqnmuwjz/include -O3 -std=c++11 -c src/outputs/formatted_table.cpp -o obj/formatted_table.o\n",
      "2023-07-12T07:27:15.173722+00:00 - mpicxx -I/camberspack/opt/spack/linux-ubuntu22.04-x86_64_v3/gcc-11.3.0/hdf5-1.8.12-pdsg7a57qlrd3gv6zvgzqn45cqnmuwjz/include -O3 -std=c++11 -c src/outputs/history.cpp -o obj/history.o\n",
      "2023-07-12T07:27:15.774599+00:00 - mpicxx -I/camberspack/opt/spack/linux-ubuntu22.04-x86_64_v3/gcc-11.3.0/hdf5-1.8.12-pdsg7a57qlrd3gv6zvgzqn45cqnmuwjz/include -O3 -std=c++11 -c src/outputs/io_wrapper.cpp -o obj/io_wrapper.o\n",
      "2023-07-12T07:27:16.211074+00:00 - mpicxx -I/camberspack/opt/spack/linux-ubuntu22.04-x86_64_v3/gcc-11.3.0/hdf5-1.8.12-pdsg7a57qlrd3gv6zvgzqn45cqnmuwjz/include -O3 -std=c++11 -c src/outputs/outputs.cpp -o obj/outputs.o\n",
      "2023-07-12T07:27:17.469781+00:00 - mpicxx -I/camberspack/opt/spack/linux-ubuntu22.04-x86_64_v3/gcc-11.3.0/hdf5-1.8.12-pdsg7a57qlrd3gv6zvgzqn45cqnmuwjz/include -O3 -std=c++11 -c src/outputs/restart.cpp -o obj/restart.o\n",
      "2023-07-12T07:27:17.999217+00:00 - mpicxx -I/camberspack/opt/spack/linux-ubuntu22.04-x86_64_v3/gcc-11.3.0/hdf5-1.8.12-pdsg7a57qlrd3gv6zvgzqn45cqnmuwjz/include -O3 -std=c++11 -c src/outputs/vtk.cpp -o obj/vtk.o\n",
      "2023-07-12T07:27:18.602096+00:00 - mpicxx -I/camberspack/opt/spack/linux-ubuntu22.04-x86_64_v3/gcc-11.3.0/hdf5-1.8.12-pdsg7a57qlrd3gv6zvgzqn45cqnmuwjz/include -O3 -std=c++11 -c src/pgen/default_pgen.cpp -o obj/default_pgen.o\n",
      "2023-07-12T07:27:18.927264+00:00 - mpicxx -I/camberspack/opt/spack/linux-ubuntu22.04-x86_64_v3/gcc-11.3.0/hdf5-1.8.12-pdsg7a57qlrd3gv6zvgzqn45cqnmuwjz/include -O3 -std=c++11 -c src/pgen/orszag_tang.cpp -o obj/orszag_tang.o\n",
      "2023-07-12T07:27:19.397756+00:00 - mpicxx -I/camberspack/opt/spack/linux-ubuntu22.04-x86_64_v3/gcc-11.3.0/hdf5-1.8.12-pdsg7a57qlrd3gv6zvgzqn45cqnmuwjz/include -O3 -std=c++11 -c src/reconstruct/characteristic.cpp -o obj/characteristic.o\n",
      "2023-07-12T07:27:19.817483+00:00 - mpicxx -I/camberspack/opt/spack/linux-ubuntu22.04-x86_64_v3/gcc-11.3.0/hdf5-1.8.12-pdsg7a57qlrd3gv6zvgzqn45cqnmuwjz/include -O3 -std=c++11 -c src/reconstruct/dc.cpp -o obj/dc.o\n",
      "2023-07-12T07:27:19.995140+00:00 - mpicxx -I/camberspack/opt/spack/linux-ubuntu22.04-x86_64_v3/gcc-11.3.0/hdf5-1.8.12-pdsg7a57qlrd3gv6zvgzqn45cqnmuwjz/include -O3 -std=c++11 -c src/reconstruct/dc_simple.cpp -o obj/dc_simple.o\n",
      "2023-07-12T07:27:20.123677+00:00 - mpicxx -I/camberspack/opt/spack/linux-ubuntu22.04-x86_64_v3/gcc-11.3.0/hdf5-1.8.12-pdsg7a57qlrd3gv6zvgzqn45cqnmuwjz/include -O3 -std=c++11 -c src/reconstruct/plm.cpp -o obj/plm.o\n",
      "2023-07-12T07:27:20.644821+00:00 - mpicxx -I/camberspack/opt/spack/linux-ubuntu22.04-x86_64_v3/gcc-11.3.0/hdf5-1.8.12-pdsg7a57qlrd3gv6zvgzqn45cqnmuwjz/include -O3 -std=c++11 -c src/reconstruct/plm_simple.cpp -o obj/plm_simple.o\n",
      "2023-07-12T07:27:21.124018+00:00 - mpicxx -I/camberspack/opt/spack/linux-ubuntu22.04-x86_64_v3/gcc-11.3.0/hdf5-1.8.12-pdsg7a57qlrd3gv6zvgzqn45cqnmuwjz/include -O3 -std=c++11 -c src/reconstruct/ppm.cpp -o obj/ppm.o\n",
      "2023-07-12T07:27:22.108414+00:00 - mpicxx -I/camberspack/opt/spack/linux-ubuntu22.04-x86_64_v3/gcc-11.3.0/hdf5-1.8.12-pdsg7a57qlrd3gv6zvgzqn45cqnmuwjz/include -O3 -std=c++11 -c src/reconstruct/ppm_simple.cpp -o obj/ppm_simple.o\n",
      "2023-07-12T07:27:22.992487+00:00 - mpicxx -I/camberspack/opt/spack/linux-ubuntu22.04-x86_64_v3/gcc-11.3.0/hdf5-1.8.12-pdsg7a57qlrd3gv6zvgzqn45cqnmuwjz/include -O3 -std=c++11 -c src/reconstruct/reconstruction.cpp -o obj/reconstruction.o\n",
      "2023-07-12T07:27:23.909561+00:00 - mpicxx -I/camberspack/opt/spack/linux-ubuntu22.04-x86_64_v3/gcc-11.3.0/hdf5-1.8.12-pdsg7a57qlrd3gv6zvgzqn45cqnmuwjz/include -O3 -std=c++11 -c src/scalars/add_scalar_flux_divergence.cpp -o obj/add_scalar_flux_divergence.o\n",
      "2023-07-12T07:27:24.263704+00:00 - mpicxx -I/camberspack/opt/spack/linux-ubuntu22.04-x86_64_v3/gcc-11.3.0/hdf5-1.8.12-pdsg7a57qlrd3gv6zvgzqn45cqnmuwjz/include -O3 -std=c++11 -c src/scalars/calculate_scalar_fluxes.cpp -o obj/calculate_scalar_fluxes.o\n",
      "2023-07-12T07:27:24.670738+00:00 - mpicxx -I/camberspack/opt/spack/linux-ubuntu22.04-x86_64_v3/gcc-11.3.0/hdf5-1.8.12-pdsg7a57qlrd3gv6zvgzqn45cqnmuwjz/include -O3 -std=c++11 -c src/scalars/scalar_diffusion.cpp -o obj/scalar_diffusion.o\n",
      "2023-07-12T07:27:25.065759+00:00 - mpicxx -I/camberspack/opt/spack/linux-ubuntu22.04-x86_64_v3/gcc-11.3.0/hdf5-1.8.12-pdsg7a57qlrd3gv6zvgzqn45cqnmuwjz/include -O3 -std=c++11 -c src/scalars/scalars.cpp -o obj/scalars.o\n",
      "2023-07-12T07:27:25.563533+00:00 - mpicxx -I/camberspack/opt/spack/linux-ubuntu22.04-x86_64_v3/gcc-11.3.0/hdf5-1.8.12-pdsg7a57qlrd3gv6zvgzqn45cqnmuwjz/include -O3 -std=c++11 -c src/task_list/grav_task_list.cpp -o obj/grav_task_list.o\n",
      "2023-07-12T07:27:25.987357+00:00 - mpicxx -I/camberspack/opt/spack/linux-ubuntu22.04-x86_64_v3/gcc-11.3.0/hdf5-1.8.12-pdsg7a57qlrd3gv6zvgzqn45cqnmuwjz/include -O3 -std=c++11 -c src/task_list/mg_task_list.cpp -o obj/mg_task_list.o\n",
      "2023-07-12T07:27:26.440358+00:00 - mpicxx -I/camberspack/opt/spack/linux-ubuntu22.04-x86_64_v3/gcc-11.3.0/hdf5-1.8.12-pdsg7a57qlrd3gv6zvgzqn45cqnmuwjz/include -O3 -std=c++11 -c src/task_list/sts_task_list.cpp -o obj/sts_task_list.o\n",
      "2023-07-12T07:27:27.207680+00:00 - mpicxx -I/camberspack/opt/spack/linux-ubuntu22.04-x86_64_v3/gcc-11.3.0/hdf5-1.8.12-pdsg7a57qlrd3gv6zvgzqn45cqnmuwjz/include -O3 -std=c++11 -c src/task_list/task_id.cpp -o obj/task_id.o\n",
      "2023-07-12T07:27:27.413473+00:00 - mpicxx -I/camberspack/opt/spack/linux-ubuntu22.04-x86_64_v3/gcc-11.3.0/hdf5-1.8.12-pdsg7a57qlrd3gv6zvgzqn45cqnmuwjz/include -O3 -std=c++11 -c src/task_list/task_list.cpp -o obj/task_list.o\n",
      "2023-07-12T07:27:27.755550+00:00 - mpicxx -I/camberspack/opt/spack/linux-ubuntu22.04-x86_64_v3/gcc-11.3.0/hdf5-1.8.12-pdsg7a57qlrd3gv6zvgzqn45cqnmuwjz/include -O3 -std=c++11 -c src/task_list/time_integrator.cpp -o obj/time_integrator.o\n",
      "2023-07-12T07:27:28.717620+00:00 - mpicxx -I/camberspack/opt/spack/linux-ubuntu22.04-x86_64_v3/gcc-11.3.0/hdf5-1.8.12-pdsg7a57qlrd3gv6zvgzqn45cqnmuwjz/include -O3 -std=c++11 -c src/utils/buffer_utils.cpp -o obj/buffer_utils.o\n",
      "2023-07-12T07:27:28.838049+00:00 - mpicxx -I/camberspack/opt/spack/linux-ubuntu22.04-x86_64_v3/gcc-11.3.0/hdf5-1.8.12-pdsg7a57qlrd3gv6zvgzqn45cqnmuwjz/include -O3 -std=c++11 -c src/utils/change_rundir.cpp -o obj/change_rundir.o\n",
      "2023-07-12T07:27:29.096944+00:00 - mpicxx -I/camberspack/opt/spack/linux-ubuntu22.04-x86_64_v3/gcc-11.3.0/hdf5-1.8.12-pdsg7a57qlrd3gv6zvgzqn45cqnmuwjz/include -O3 -std=c++11 -c src/utils/eos_table_class.cpp -o obj/eos_table_class.o\n",
      "2023-07-12T07:27:29.672666+00:00 - mpicxx -I/camberspack/opt/spack/linux-ubuntu22.04-x86_64_v3/gcc-11.3.0/hdf5-1.8.12-pdsg7a57qlrd3gv6zvgzqn45cqnmuwjz/include -O3 -std=c++11 -c src/utils/gl_quadrature.cpp -o obj/gl_quadrature.o\n",
      "2023-07-12T07:27:29.826149+00:00 - mpicxx -I/camberspack/opt/spack/linux-ubuntu22.04-x86_64_v3/gcc-11.3.0/hdf5-1.8.12-pdsg7a57qlrd3gv6zvgzqn45cqnmuwjz/include -O3 -std=c++11 -c src/utils/interp_table.cpp -o obj/interp_table.o\n",
      "2023-07-12T07:27:30.185976+00:00 - mpicxx -I/camberspack/opt/spack/linux-ubuntu22.04-x86_64_v3/gcc-11.3.0/hdf5-1.8.12-pdsg7a57qlrd3gv6zvgzqn45cqnmuwjz/include -O3 -std=c++11 -c src/utils/ran2.cpp -o obj/ran2.o\n",
      "2023-07-12T07:27:30.403532+00:00 - mpicxx -I/camberspack/opt/spack/linux-ubuntu22.04-x86_64_v3/gcc-11.3.0/hdf5-1.8.12-pdsg7a57qlrd3gv6zvgzqn45cqnmuwjz/include -O3 -std=c++11 -c src/utils/show_config.cpp -o obj/show_config.o\n",
      "2023-07-12T07:27:30.650080+00:00 - mpicxx -I/camberspack/opt/spack/linux-ubuntu22.04-x86_64_v3/gcc-11.3.0/hdf5-1.8.12-pdsg7a57qlrd3gv6zvgzqn45cqnmuwjz/include -O3 -std=c++11 -c src/utils/signal_handler.cpp -o obj/signal_handler.o\n",
      "2023-07-12T07:27:30.838142+00:00 - mpicxx -I/camberspack/opt/spack/linux-ubuntu22.04-x86_64_v3/gcc-11.3.0/hdf5-1.8.12-pdsg7a57qlrd3gv6zvgzqn45cqnmuwjz/include -O3 -std=c++11 -o bin/athena obj/globals.o obj/main.o obj/parameter_input.o obj/bvals.o obj/bvals_base.o obj/bvals_refine.o obj/bvals_refine_gravity.o obj/bvals_var.o obj/bvals_cc.o obj/bvals_shear_cc.o obj/bvals_shear_flux.o obj/flux_correction_cc.o obj/outflow_cc.o obj/polarwedge_cc.o obj/reflect_cc.o obj/bvals_hydro.o obj/bvals_shear_hydro.o obj/flux_correction_hydro.o obj/reflect_hydro.o obj/bvals_mg.o obj/bvals_fc.o obj/bvals_shear_emf.o obj/bvals_shear_fc.o obj/flux_correction_fc.o obj/outflow_fc.o obj/polarwedge_fc.o obj/reflect_fc.o obj/bvals_orbital.o obj/boundary_flag.o obj/check_polar.o obj/cartesian.o obj/coordinates.o obj/cylindrical.o obj/gr_user.o obj/kerr-schild.o obj/minkowski.o obj/schwarzschild.o obj/spherical_polar.o obj/noop.o obj/adiabatic_mhd.o obj/eos_high_order.o obj/eos_scalars.o obj/athena_fft.o obj/fft_driver.o obj/turbulence.o obj/calculate_corner_e.o obj/ct.o obj/field.o obj/diffusivity.o obj/field_diffusion.o obj/fft_gravity.o obj/gravity.o obj/mg_gravity.o obj/add_flux_divergence.o obj/calculate_fluxes.o obj/calculate_velocity_differences.o obj/hydro.o obj/new_blockdt.o obj/constant_acc.o obj/hydro_srcterms.o obj/orbital_advection_srcterms.o obj/pointmass.o obj/rotating_system_srcterms.o obj/self_gravity.o obj/shearing_box.o obj/conduction.o obj/hydro_diffusion.o obj/viscosity.o obj/hlld.o obj/ascii_table_reader.o obj/hdf5_reader.o obj/amr_loadbalance.o obj/mesh.o obj/mesh_refinement.o obj/meshblock.o obj/meshblock_tree.o obj/weighted_ave.o obj/mgbval_multipole.o obj/mgbval_periodic.o obj/mgbval_zerofixed.o obj/mgbval_zerograd.o obj/multigrid.o obj/multigrid_driver.o obj/calculate_orbital_advection.o obj/default_orbital_velocity.o obj/orbital_advection.o obj/orbital_remapping.o obj/orbital_system_conversion.o obj/set_orbital_advection.o obj/athena_hdf5.o obj/formatted_table.o obj/history.o obj/io_wrapper.o obj/outputs.o obj/restart.o obj/vtk.o obj/default_pgen.o obj/orszag_tang.o obj/characteristic.o obj/dc.o obj/dc_simple.o obj/plm.o obj/plm_simple.o obj/ppm.o obj/ppm_simple.o obj/reconstruction.o obj/add_scalar_flux_divergence.o obj/calculate_scalar_fluxes.o obj/scalar_diffusion.o obj/scalars.o obj/grav_task_list.o obj/mg_task_list.o obj/sts_task_list.o obj/task_id.o obj/task_list.o obj/time_integrator.o obj/buffer_utils.o obj/change_rundir.o obj/eos_table_class.o obj/gl_quadrature.o obj/interp_table.o obj/ran2.o obj/show_config.o obj/signal_handler.o -L/camberspack/opt/spack/linux-ubuntu22.04-x86_64_v3/gcc-11.3.0/hdf5-1.8.12-pdsg7a57qlrd3gv6zvgzqn45cqnmuwjz/lib -lhdf5\n"
     ]
    }
   ],
   "source": [
    "# download Athena++ from public repo and compile\n",
    "import os\n",
    "os.system(\"git clone https://github.com/PrincetonUniversity/athena.git\")\n",
    "camber.compiler.run(\"cd athena && python configure.py -b --prob=orszag_tang -mpi -hdf5 --hdf5_path=${HDF5_PATH} && make clean && make all\")"
   ]
  },
  {
   "cell_type": "code",
   "execution_count": 19,
   "id": "2b4cca24-7adc-4f32-ab41-71a0933d9ee0",
   "metadata": {
    "tags": []
   },
   "outputs": [
    {
     "data": {
      "application/vnd.jupyter.widget-view+json": {
       "model_id": "b9500fdfaeb74f97946f84461bf3f446",
       "version_major": 2,
       "version_minor": 0
      },
      "text/plain": [
       "Output()"
      ]
     },
     "metadata": {},
     "output_type": "display_data"
    }
   ],
   "source": [
    "# run camber with LARGE instance\n",
    "worker = camber.mpi.run(\n",
    "    command=\"mpirun -np 32 athena/bin/athena -i athinput.orszag-tang\",\n",
    "    worker_size=\"LARGE\"\n",
    ")"
   ]
  },
  {
   "cell_type": "code",
   "execution_count": 21,
   "id": "6146f5aa-0269-4bdf-8132-b507ee1e13dc",
   "metadata": {
    "tags": []
   },
   "outputs": [
    {
     "name": "stdout",
     "output_type": "stream",
     "text": [
      "2023-07-12T07:29:58.378448+00:00 - cycle=3651 time=9.9980921960047664e-01 dt=1.9078039952336034e-04\n",
      "2023-07-12T07:29:58.388092+00:00 - cycle=3652 time=1.0000000000000000e+00 dt=2.5940688969068669e-04\n",
      "2023-07-12T07:29:58.552492+00:00 - \n",
      "2023-07-12T07:29:58.552508+00:00 - Terminating on time limit\n",
      "2023-07-12T07:29:58.552510+00:00 - time=1.0000000000000000e+00 cycle=3652\n",
      "2023-07-12T07:29:58.552520+00:00 - tlim=1.0000000000000000e+00 nlim=-1\n",
      "2023-07-12T07:29:58.552521+00:00 - \n",
      "2023-07-12T07:29:58.552523+00:00 - zone-cycles = 957349888\n",
      "2023-07-12T07:29:58.552524+00:00 - cpu time used  = 4.0574705999999999e+01\n",
      "2023-07-12T07:29:58.552525+00:00 - zone-cycles/cpu_second = 2.3594746145542003e+07\n"
     ]
    }
   ],
   "source": [
    "# Check the job progress\n",
    "worker.read_logs(tail_lines=10)"
   ]
  },
  {
   "cell_type": "markdown",
   "id": "6b565ee6-f13c-446d-a845-35eb2cee725b",
   "metadata": {},
   "source": [
    "### Read data from cloud storage and process for visualization"
   ]
  },
  {
   "cell_type": "code",
   "execution_count": 2,
   "id": "17b31891-fbd2-4c70-aa2b-6afce363cd44",
   "metadata": {
    "tags": []
   },
   "outputs": [],
   "source": [
    "from plot_output import plot_output"
   ]
  },
  {
   "cell_type": "code",
   "execution_count": 3,
   "id": "cb8eba30-1eb7-4dd7-857b-108252da5e83",
   "metadata": {
    "tags": []
   },
   "outputs": [
    {
     "name": "stdout",
     "output_type": "stream",
     "text": [
      "plotting OrszagTang.out2.00000.athdf...\n"
     ]
    },
    {
     "ename": "FileNotFoundError",
     "evalue": "[Errno 2] Unable to synchronously open file (unable to open file: name = 'OrszagTang.out2.00000.athdf', errno = 2, error message = 'No such file or directory', flags = 0, o_flags = 0)",
     "output_type": "error",
     "traceback": [
      "\u001b[0;31m---------------------------------------------------------------------------\u001b[0m",
      "\u001b[0;31mFileNotFoundError\u001b[0m                         Traceback (most recent call last)",
      "Cell \u001b[0;32mIn[3], line 3\u001b[0m\n\u001b[1;32m      1\u001b[0m \u001b[38;5;28;01mimport\u001b[39;00m \u001b[38;5;21;01mos\u001b[39;00m\n\u001b[1;32m      2\u001b[0m os\u001b[38;5;241m.\u001b[39msystem(\u001b[38;5;124m\"\u001b[39m\u001b[38;5;124mmkdir output_images\u001b[39m\u001b[38;5;124m\"\u001b[39m)\n\u001b[0;32m----> 3\u001b[0m \u001b[43mplot_output\u001b[49m\u001b[43m(\u001b[49m\u001b[43m)\u001b[49m\n",
      "File \u001b[0;32m~/personal/demos/mpi_athena_demo/plot_output.py:53\u001b[0m, in \u001b[0;36mplot_output\u001b[0;34m()\u001b[0m\n\u001b[1;32m     51\u001b[0m ax0 \u001b[38;5;241m=\u001b[39m fig\u001b[38;5;241m.\u001b[39madd_subplot(spec[\u001b[38;5;241m0\u001b[39m, \u001b[38;5;241m0\u001b[39m])\n\u001b[1;32m     52\u001b[0m \u001b[38;5;28;01mfor\u001b[39;00m i \u001b[38;5;129;01min\u001b[39;00m \u001b[38;5;28mrange\u001b[39m(\u001b[38;5;241m0\u001b[39m, \u001b[38;5;241m101\u001b[39m):\n\u001b[0;32m---> 53\u001b[0m     \u001b[43mplotframe\u001b[49m\u001b[43m(\u001b[49m\u001b[43max0\u001b[49m\u001b[43m,\u001b[49m\u001b[43m \u001b[49m\u001b[43mi\u001b[49m\u001b[43m)\u001b[49m\n\u001b[1;32m     54\u001b[0m subprocess\u001b[38;5;241m.\u001b[39mPopen([\u001b[38;5;124m\"\u001b[39m\u001b[38;5;124mffmpeg\u001b[39m\u001b[38;5;124m\"\u001b[39m,\n\u001b[1;32m     55\u001b[0m                   \u001b[38;5;124m\"\u001b[39m\u001b[38;5;124m-r\u001b[39m\u001b[38;5;124m\"\u001b[39m, \u001b[38;5;124m\"\u001b[39m\u001b[38;5;124m20\u001b[39m\u001b[38;5;124m\"\u001b[39m,\n\u001b[1;32m     56\u001b[0m                   \u001b[38;5;124m\"\u001b[39m\u001b[38;5;124m-s\u001b[39m\u001b[38;5;124m\"\u001b[39m, \u001b[38;5;124m\"\u001b[39m\u001b[38;5;124m1920x1080\u001b[39m\u001b[38;5;124m\"\u001b[39m,\n\u001b[0;32m   (...)\u001b[0m\n\u001b[1;32m     62\u001b[0m                   \u001b[38;5;124m\"\u001b[39m\u001b[38;5;124m-pix_fmt\u001b[39m\u001b[38;5;124m\"\u001b[39m, \u001b[38;5;124m\"\u001b[39m\u001b[38;5;124myuva420p\u001b[39m\u001b[38;5;124m\"\u001b[39m,\n\u001b[1;32m     63\u001b[0m                   \u001b[38;5;124m\"\u001b[39m\u001b[38;5;124mdensity.mov\u001b[39m\u001b[38;5;124m\"\u001b[39m])\n",
      "File \u001b[0;32m~/personal/demos/mpi_athena_demo/plot_output.py:40\u001b[0m, in \u001b[0;36mplotframe\u001b[0;34m(ax, i)\u001b[0m\n\u001b[1;32m     37\u001b[0m name \u001b[38;5;241m=\u001b[39m \u001b[38;5;124mf\u001b[39m\u001b[38;5;124m\"\u001b[39m\u001b[38;5;132;01m{\u001b[39;00mbasename\u001b[38;5;132;01m}\u001b[39;00m\u001b[38;5;124m.\u001b[39m\u001b[38;5;132;01m{\u001b[39;00mi\u001b[38;5;132;01m:\u001b[39;00m\u001b[38;5;124m05\u001b[39m\u001b[38;5;132;01m}\u001b[39;00m\u001b[38;5;124m.\u001b[39m\u001b[38;5;132;01m{\u001b[39;00msuffix\u001b[38;5;132;01m}\u001b[39;00m\u001b[38;5;124m\"\u001b[39m\n\u001b[1;32m     38\u001b[0m \u001b[38;5;28mprint\u001b[39m(\u001b[38;5;124mf\u001b[39m\u001b[38;5;124m\"\u001b[39m\u001b[38;5;124mplotting \u001b[39m\u001b[38;5;132;01m{\u001b[39;00mname\u001b[38;5;132;01m}\u001b[39;00m\u001b[38;5;124m...\u001b[39m\u001b[38;5;124m\"\u001b[39m)\n\u001b[0;32m---> 40\u001b[0m im \u001b[38;5;241m=\u001b[39m \u001b[43mreaddata\u001b[49m\u001b[43m(\u001b[49m\u001b[43max\u001b[49m\u001b[43m,\u001b[49m\u001b[43m \u001b[49m\u001b[43mname\u001b[49m\u001b[43m)\u001b[49m\n\u001b[1;32m     41\u001b[0m ax\u001b[38;5;241m.\u001b[39mset_xlabel(\u001b[38;5;124mr\u001b[39m\u001b[38;5;124m\"\u001b[39m\u001b[38;5;124m$x$\u001b[39m\u001b[38;5;124m\"\u001b[39m)\n\u001b[1;32m     42\u001b[0m ax\u001b[38;5;241m.\u001b[39mset_ylabel(\u001b[38;5;124mr\u001b[39m\u001b[38;5;124m\"\u001b[39m\u001b[38;5;124m$y$\u001b[39m\u001b[38;5;124m\"\u001b[39m)\n",
      "File \u001b[0;32m~/personal/demos/mpi_athena_demo/plot_output.py:19\u001b[0m, in \u001b[0;36mreaddata\u001b[0;34m(ax, name)\u001b[0m\n\u001b[1;32m     17\u001b[0m \u001b[38;5;28;01mdef\u001b[39;00m \u001b[38;5;21mreaddata\u001b[39m(ax, name):\n\u001b[1;32m     18\u001b[0m     \u001b[38;5;66;03m#reading the data dumps\u001b[39;00m\n\u001b[0;32m---> 19\u001b[0m     data  \u001b[38;5;241m=\u001b[39m \u001b[43mathdf\u001b[49m\u001b[43m(\u001b[49m\u001b[43mname\u001b[49m\u001b[43m,\u001b[49m\u001b[43mquantities\u001b[49m\u001b[38;5;241;43m=\u001b[39;49m\u001b[43m[\u001b[49m\u001b[38;5;124;43m'\u001b[39;49m\u001b[38;5;124;43mrho\u001b[39;49m\u001b[38;5;124;43m'\u001b[39;49m\u001b[43m]\u001b[49m\u001b[43m)\u001b[49m\n\u001b[1;32m     20\u001b[0m     x \u001b[38;5;241m=\u001b[39m data[\u001b[38;5;124m'\u001b[39m\u001b[38;5;124mx1v\u001b[39m\u001b[38;5;124m'\u001b[39m]\n\u001b[1;32m     21\u001b[0m     y \u001b[38;5;241m=\u001b[39m data[\u001b[38;5;124m'\u001b[39m\u001b[38;5;124mx2v\u001b[39m\u001b[38;5;124m'\u001b[39m]\n",
      "File \u001b[0;32m~/personal/demos/mpi_athena_demo/athena_read.py:397\u001b[0m, in \u001b[0;36mathdf\u001b[0;34m(filename, raw, data, quantities, dtype, level, return_levels, subsample, fast_restrict, x1_min, x1_max, x2_min, x2_max, x3_min, x3_max, vol_func, vol_params, face_func_1, face_func_2, face_func_3, center_func_1, center_func_2, center_func_3, num_ghost)\u001b[0m\n\u001b[1;32m    394\u001b[0m     new_data \u001b[38;5;241m=\u001b[39m \u001b[38;5;28;01mFalse\u001b[39;00m\n\u001b[1;32m    396\u001b[0m \u001b[38;5;66;03m# Open file\u001b[39;00m\n\u001b[0;32m--> 397\u001b[0m \u001b[38;5;28;01mwith\u001b[39;00m \u001b[43mh5py\u001b[49m\u001b[38;5;241;43m.\u001b[39;49m\u001b[43mFile\u001b[49m\u001b[43m(\u001b[49m\u001b[43mfilename\u001b[49m\u001b[43m,\u001b[49m\u001b[43m \u001b[49m\u001b[38;5;124;43m'\u001b[39;49m\u001b[38;5;124;43mr\u001b[39;49m\u001b[38;5;124;43m'\u001b[39;49m\u001b[43m)\u001b[49m \u001b[38;5;28;01mas\u001b[39;00m f:\n\u001b[1;32m    398\u001b[0m     \u001b[38;5;66;03m# Extract size information\u001b[39;00m\n\u001b[1;32m    399\u001b[0m     max_level \u001b[38;5;241m=\u001b[39m f\u001b[38;5;241m.\u001b[39mattrs[\u001b[38;5;124m'\u001b[39m\u001b[38;5;124mMaxLevel\u001b[39m\u001b[38;5;124m'\u001b[39m]\n\u001b[1;32m    400\u001b[0m     \u001b[38;5;28;01mif\u001b[39;00m level \u001b[38;5;129;01mis\u001b[39;00m \u001b[38;5;28;01mNone\u001b[39;00m:\n",
      "File \u001b[0;32m/opt/conda/lib/python3.10/site-packages/h5py/_hl/files.py:567\u001b[0m, in \u001b[0;36mFile.__init__\u001b[0;34m(self, name, mode, driver, libver, userblock_size, swmr, rdcc_nslots, rdcc_nbytes, rdcc_w0, track_order, fs_strategy, fs_persist, fs_threshold, fs_page_size, page_buf_size, min_meta_keep, min_raw_keep, locking, alignment_threshold, alignment_interval, meta_block_size, **kwds)\u001b[0m\n\u001b[1;32m    558\u001b[0m     fapl \u001b[38;5;241m=\u001b[39m make_fapl(driver, libver, rdcc_nslots, rdcc_nbytes, rdcc_w0,\n\u001b[1;32m    559\u001b[0m                      locking, page_buf_size, min_meta_keep, min_raw_keep,\n\u001b[1;32m    560\u001b[0m                      alignment_threshold\u001b[38;5;241m=\u001b[39malignment_threshold,\n\u001b[1;32m    561\u001b[0m                      alignment_interval\u001b[38;5;241m=\u001b[39malignment_interval,\n\u001b[1;32m    562\u001b[0m                      meta_block_size\u001b[38;5;241m=\u001b[39mmeta_block_size,\n\u001b[1;32m    563\u001b[0m                      \u001b[38;5;241m*\u001b[39m\u001b[38;5;241m*\u001b[39mkwds)\n\u001b[1;32m    564\u001b[0m     fcpl \u001b[38;5;241m=\u001b[39m make_fcpl(track_order\u001b[38;5;241m=\u001b[39mtrack_order, fs_strategy\u001b[38;5;241m=\u001b[39mfs_strategy,\n\u001b[1;32m    565\u001b[0m                      fs_persist\u001b[38;5;241m=\u001b[39mfs_persist, fs_threshold\u001b[38;5;241m=\u001b[39mfs_threshold,\n\u001b[1;32m    566\u001b[0m                      fs_page_size\u001b[38;5;241m=\u001b[39mfs_page_size)\n\u001b[0;32m--> 567\u001b[0m     fid \u001b[38;5;241m=\u001b[39m \u001b[43mmake_fid\u001b[49m\u001b[43m(\u001b[49m\u001b[43mname\u001b[49m\u001b[43m,\u001b[49m\u001b[43m \u001b[49m\u001b[43mmode\u001b[49m\u001b[43m,\u001b[49m\u001b[43m \u001b[49m\u001b[43muserblock_size\u001b[49m\u001b[43m,\u001b[49m\u001b[43m \u001b[49m\u001b[43mfapl\u001b[49m\u001b[43m,\u001b[49m\u001b[43m \u001b[49m\u001b[43mfcpl\u001b[49m\u001b[43m,\u001b[49m\u001b[43m \u001b[49m\u001b[43mswmr\u001b[49m\u001b[38;5;241;43m=\u001b[39;49m\u001b[43mswmr\u001b[49m\u001b[43m)\u001b[49m\n\u001b[1;32m    569\u001b[0m \u001b[38;5;28;01mif\u001b[39;00m \u001b[38;5;28misinstance\u001b[39m(libver, \u001b[38;5;28mtuple\u001b[39m):\n\u001b[1;32m    570\u001b[0m     \u001b[38;5;28mself\u001b[39m\u001b[38;5;241m.\u001b[39m_libver \u001b[38;5;241m=\u001b[39m libver\n",
      "File \u001b[0;32m/opt/conda/lib/python3.10/site-packages/h5py/_hl/files.py:231\u001b[0m, in \u001b[0;36mmake_fid\u001b[0;34m(name, mode, userblock_size, fapl, fcpl, swmr)\u001b[0m\n\u001b[1;32m    229\u001b[0m     \u001b[38;5;28;01mif\u001b[39;00m swmr \u001b[38;5;129;01mand\u001b[39;00m swmr_support:\n\u001b[1;32m    230\u001b[0m         flags \u001b[38;5;241m|\u001b[39m\u001b[38;5;241m=\u001b[39m h5f\u001b[38;5;241m.\u001b[39mACC_SWMR_READ\n\u001b[0;32m--> 231\u001b[0m     fid \u001b[38;5;241m=\u001b[39m \u001b[43mh5f\u001b[49m\u001b[38;5;241;43m.\u001b[39;49m\u001b[43mopen\u001b[49m\u001b[43m(\u001b[49m\u001b[43mname\u001b[49m\u001b[43m,\u001b[49m\u001b[43m \u001b[49m\u001b[43mflags\u001b[49m\u001b[43m,\u001b[49m\u001b[43m \u001b[49m\u001b[43mfapl\u001b[49m\u001b[38;5;241;43m=\u001b[39;49m\u001b[43mfapl\u001b[49m\u001b[43m)\u001b[49m\n\u001b[1;32m    232\u001b[0m \u001b[38;5;28;01melif\u001b[39;00m mode \u001b[38;5;241m==\u001b[39m \u001b[38;5;124m'\u001b[39m\u001b[38;5;124mr+\u001b[39m\u001b[38;5;124m'\u001b[39m:\n\u001b[1;32m    233\u001b[0m     fid \u001b[38;5;241m=\u001b[39m h5f\u001b[38;5;241m.\u001b[39mopen(name, h5f\u001b[38;5;241m.\u001b[39mACC_RDWR, fapl\u001b[38;5;241m=\u001b[39mfapl)\n",
      "File \u001b[0;32mh5py/_objects.pyx:54\u001b[0m, in \u001b[0;36mh5py._objects.with_phil.wrapper\u001b[0;34m()\u001b[0m\n",
      "File \u001b[0;32mh5py/_objects.pyx:55\u001b[0m, in \u001b[0;36mh5py._objects.with_phil.wrapper\u001b[0;34m()\u001b[0m\n",
      "File \u001b[0;32mh5py/h5f.pyx:106\u001b[0m, in \u001b[0;36mh5py.h5f.open\u001b[0;34m()\u001b[0m\n",
      "\u001b[0;31mFileNotFoundError\u001b[0m: [Errno 2] Unable to synchronously open file (unable to open file: name = 'OrszagTang.out2.00000.athdf', errno = 2, error message = 'No such file or directory', flags = 0, o_flags = 0)"
     ]
    },
    {
     "data": {
      "image/png": "[encoded data removed]",
      "text/plain": [
       "<Figure size 900x700 with 1 Axes>"
      ]
     },
     "metadata": {},
     "output_type": "display_data"
    }
   ],
   "source": [
    "import os\n",
    "os.system(\"mkdir output_images\")\n",
    "plot_output()"
   ]
  },
  {
   "cell_type": "markdown",
   "id": "3c46fe89-b9f8-40d9-8d1c-672583ea642c",
   "metadata": {},
   "source": [
    "### Visualize Data"
   ]
  },
  {
   "cell_type": "code",
   "execution_count": 3,
   "id": "cf9f1fa4-b18c-45b6-b276-88a1fbd02a5e",
   "metadata": {
    "tags": []
   },
   "outputs": [
    {
     "data": {
      "text/html": [
       "<video src=\"density.mov\" controls  >\n",
       "      Your browser does not support the <code>video</code> element.\n",
       "    </video>"
      ],
      "text/plain": [
       "<IPython.core.display.Video object>"
      ]
     },
     "execution_count": 3,
     "metadata": {},
     "output_type": "execute_result"
    }
   ],
   "source": [
    "from IPython.display import Video\n",
    "Video(\"density.mov\")"
   ]
  },
  {
   "cell_type": "code",
   "execution_count": null,
   "id": "26827040-bde3-4b4f-9da6-8f3c79e27a00",
   "metadata": {},
   "outputs": [],
   "source": []
  },
  {
   "cell_type": "code",
   "execution_count": null,
   "id": "bf005d2e-cfea-4617-9e23-fa68238c8bfd",
   "metadata": {},
   "outputs": [],
   "source": []
  }
 ],
 "metadata": {
  "kernelspec": {
   "display_name": "PyCamber",
   "language": "python",
   "name": "python3"
  },
  "language_info": {
   "codemirror_mode": {
    "name": "ipython",
    "version": 3
   },
   "file_extension": ".py",
   "mimetype": "text/x-python",
   "name": "python",
   "nbconvert_exporter": "python",
   "pygments_lexer": "ipython3",
   "version": "3.10.10"
  }
 },
 "nbformat": 4,
 "nbformat_minor": 5
}
